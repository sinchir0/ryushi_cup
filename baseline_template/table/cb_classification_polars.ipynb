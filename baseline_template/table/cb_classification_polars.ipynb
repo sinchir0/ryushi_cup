{
 "cells": [
  {
   "cell_type": "code",
   "execution_count": 1,
   "metadata": {},
   "outputs": [],
   "source": [
    "import polars as pl\n",
    "import numpy as np\n",
    "\n",
    "from sklearn.model_selection import KFold, train_test_split\n",
    "from sklearn.metrics import roc_auc_score\n",
    "\n",
    "from catboost import CatBoostClassifier, Pool\n",
    "import seaborn as sns"
   ]
  },
  {
   "cell_type": "code",
   "execution_count": 3,
   "metadata": {},
   "outputs": [
    {
     "data": {
      "text/plain": [
       "'1.2.7'"
      ]
     },
     "execution_count": 3,
     "metadata": {},
     "output_type": "execute_result"
    }
   ],
   "source": [
    "import catboost\n",
    "catboost.__version__"
   ]
  },
  {
   "cell_type": "code",
   "execution_count": 4,
   "metadata": {},
   "outputs": [
    {
     "data": {
      "text/plain": [
       "'1.17.1'"
      ]
     },
     "execution_count": 4,
     "metadata": {},
     "output_type": "execute_result"
    }
   ],
   "source": [
    "pl.__version__"
   ]
  },
  {
   "cell_type": "code",
   "execution_count": 5,
   "metadata": {},
   "outputs": [],
   "source": [
    "df = pl.read_csv(\"../../input/train.csv\")"
   ]
  },
  {
   "cell_type": "code",
   "execution_count": 6,
   "metadata": {},
   "outputs": [
    {
     "data": {
      "text/plain": [
       "['PassengerId',\n",
       " 'Survived',\n",
       " 'Pclass',\n",
       " 'Name',\n",
       " 'Sex',\n",
       " 'Age',\n",
       " 'SibSp',\n",
       " 'Parch',\n",
       " 'Ticket',\n",
       " 'Fare',\n",
       " 'Cabin',\n",
       " 'Embarked']"
      ]
     },
     "execution_count": 6,
     "metadata": {},
     "output_type": "execute_result"
    }
   ],
   "source": [
    "df.columns"
   ]
  },
  {
   "cell_type": "code",
   "execution_count": 7,
   "metadata": {},
   "outputs": [],
   "source": [
    "USE_COL = [\"Pclass\", \"Sex\", \"Age\", \"SibSp\", \"Parch\", \"Fare\", \"Embarked\"]\n",
    "CATEGORICAL_FEATURE = [\"Sex\", \"Embarked\"]\n",
    "TARGET_COL = \"Survived\"\n",
    "FOLD_NUM = 5\n",
    "SEED = 42"
   ]
  },
  {
   "cell_type": "code",
   "execution_count": 8,
   "metadata": {},
   "outputs": [],
   "source": [
    "# 学習データとテストデータに分割する\n",
    "train, test = train_test_split(\n",
    "    df,\n",
    "    test_size=0.3,\n",
    "    random_state=SEED,\n",
    "    shuffle=True,\n",
    "    stratify=df.get_column(TARGET_COL),\n",
    ")"
   ]
  },
  {
   "cell_type": "code",
   "execution_count": 9,
   "metadata": {},
   "outputs": [],
   "source": [
    "# Categorical型への変換\n",
    "for cat_col in CATEGORICAL_FEATURE:\n",
    "    train = train.with_columns(pl.col(cat_col).cast(pl.Categorical))\n",
    "    test = test.with_columns(pl.col(cat_col).cast(pl.Categorical))"
   ]
  },
  {
   "cell_type": "code",
   "execution_count": 10,
   "metadata": {},
   "outputs": [],
   "source": [
    "# Foldの作成\n",
    "fold_arr = np.zeros(train.height)\n",
    "fold = KFold(n_splits=FOLD_NUM, shuffle=True, random_state=SEED)\n",
    "\n",
    "for idx, (_, val_idx) in enumerate(fold.split(train)):\n",
    "    fold_arr[val_idx] = idx\n",
    "\n",
    "train = train.with_columns(pl.Series(fold_arr).cast(pl.Int64).alias(\"fold\"))"
   ]
  },
  {
   "cell_type": "code",
   "execution_count": 11,
   "metadata": {},
   "outputs": [],
   "source": [
    "# CatBoost のパラメータ\n",
    "# LightGBM のパラメータと呼び方が少し異なるため注意\n",
    "cat_params = {\n",
    "    \"iterations\": 10000,           # num_boost_roundと同等\n",
    "    \"learning_rate\": 0.01,         # learning_rate\n",
    "    \"depth\": 6,                    # max_depth の代わり\n",
    "    \"random_seed\": SEED,           # ランダムシード\n",
    "    \"l2_leaf_reg\": 4.0,            # lambda_l2(正則化)\n",
    "    \"eval_metric\": \"Logloss\",      # binary_loglossに相当\n",
    "    \"verbose\": 100,                # ログの出力頻度\n",
    "    \"early_stopping_rounds\": 100,  # LightGBM の early_stopping_rounds と同様\n",
    "    \"use_best_model\": True,        # 最良モデルを使用する\n",
    "}"
   ]
  },
  {
   "cell_type": "code",
   "execution_count": 12,
   "metadata": {},
   "outputs": [
    {
     "name": "stdout",
     "output_type": "stream",
     "text": [
      "Start fold 0\n"
     ]
    },
    {
     "ename": "CatBoostError",
     "evalue": "Invalid type for cat_feature[object_idx=99,feature_idx=6]=NaN : cat_features must be integer or string, real number values and NaN values should be converted to string.",
     "output_type": "error",
     "traceback": [
      "\u001b[0;31m---------------------------------------------------------------------------\u001b[0m",
      "\u001b[0;31mCatBoostError\u001b[0m                             Traceback (most recent call last)",
      "Cell \u001b[0;32mIn[12], line 24\u001b[0m\n\u001b[1;32m     19\u001b[0m model \u001b[38;5;241m=\u001b[39m CatBoostClassifier(\u001b[38;5;241m*\u001b[39m\u001b[38;5;241m*\u001b[39mcat_params)\n\u001b[1;32m     21\u001b[0m \u001b[38;5;66;03m# cat_features は列名で指定可能（リストの形式も可）\u001b[39;00m\n\u001b[1;32m     22\u001b[0m \u001b[38;5;66;03m# カラムが文字列として読み込まれていれば CatBoost が自動判定もしてくれますが、\u001b[39;00m\n\u001b[1;32m     23\u001b[0m \u001b[38;5;66;03m# 安全のためカラム名を指定します。\u001b[39;00m\n\u001b[0;32m---> 24\u001b[0m \u001b[43mmodel\u001b[49m\u001b[38;5;241;43m.\u001b[39;49m\u001b[43mfit\u001b[49m\u001b[43m(\u001b[49m\n\u001b[1;32m     25\u001b[0m \u001b[43m    \u001b[49m\u001b[43mX_train\u001b[49m\u001b[43m,\u001b[49m\n\u001b[1;32m     26\u001b[0m \u001b[43m    \u001b[49m\u001b[43my_train\u001b[49m\u001b[43m,\u001b[49m\n\u001b[1;32m     27\u001b[0m \u001b[43m    \u001b[49m\u001b[43mcat_features\u001b[49m\u001b[38;5;241;43m=\u001b[39;49m\u001b[43mCATEGORICAL_FEATURE\u001b[49m\u001b[43m,\u001b[49m\u001b[43m  \u001b[49m\n\u001b[1;32m     28\u001b[0m \u001b[43m    \u001b[49m\u001b[43meval_set\u001b[49m\u001b[38;5;241;43m=\u001b[39;49m\u001b[43m(\u001b[49m\u001b[43mX_valid\u001b[49m\u001b[43m,\u001b[49m\u001b[43m \u001b[49m\u001b[43my_valid\u001b[49m\u001b[43m)\u001b[49m\u001b[43m,\u001b[49m\n\u001b[1;32m     29\u001b[0m \u001b[43m\u001b[49m\u001b[43m)\u001b[49m\n\u001b[1;32m     31\u001b[0m \u001b[38;5;66;03m# モデルを保存\u001b[39;00m\n\u001b[1;32m     32\u001b[0m models\u001b[38;5;241m.\u001b[39mappend([fold_idx, model])\n",
      "File \u001b[0;32m/opt/conda/lib/python3.10/site-packages/catboost/core.py:5245\u001b[0m, in \u001b[0;36mCatBoostClassifier.fit\u001b[0;34m(self, X, y, cat_features, text_features, embedding_features, graph, sample_weight, baseline, use_best_model, eval_set, verbose, logging_level, plot, plot_file, column_description, verbose_eval, metric_period, silent, early_stopping_rounds, save_snapshot, snapshot_file, snapshot_interval, init_model, callbacks, log_cout, log_cerr)\u001b[0m\n\u001b[1;32m   5242\u001b[0m \u001b[38;5;28;01mif\u001b[39;00m \u001b[38;5;124m'\u001b[39m\u001b[38;5;124mloss_function\u001b[39m\u001b[38;5;124m'\u001b[39m \u001b[38;5;129;01min\u001b[39;00m params:\n\u001b[1;32m   5243\u001b[0m     CatBoostClassifier\u001b[38;5;241m.\u001b[39m_check_is_compatible_loss(params[\u001b[38;5;124m'\u001b[39m\u001b[38;5;124mloss_function\u001b[39m\u001b[38;5;124m'\u001b[39m])\n\u001b[0;32m-> 5245\u001b[0m \u001b[38;5;28;43mself\u001b[39;49m\u001b[38;5;241;43m.\u001b[39;49m\u001b[43m_fit\u001b[49m\u001b[43m(\u001b[49m\u001b[43mX\u001b[49m\u001b[43m,\u001b[49m\u001b[43m \u001b[49m\u001b[43my\u001b[49m\u001b[43m,\u001b[49m\u001b[43m \u001b[49m\u001b[43mcat_features\u001b[49m\u001b[43m,\u001b[49m\u001b[43m \u001b[49m\u001b[43mtext_features\u001b[49m\u001b[43m,\u001b[49m\u001b[43m \u001b[49m\u001b[43membedding_features\u001b[49m\u001b[43m,\u001b[49m\u001b[43m \u001b[49m\u001b[38;5;28;43;01mNone\u001b[39;49;00m\u001b[43m,\u001b[49m\u001b[43m \u001b[49m\u001b[43mgraph\u001b[49m\u001b[43m,\u001b[49m\u001b[43m \u001b[49m\u001b[43msample_weight\u001b[49m\u001b[43m,\u001b[49m\u001b[43m \u001b[49m\u001b[38;5;28;43;01mNone\u001b[39;49;00m\u001b[43m,\u001b[49m\u001b[43m \u001b[49m\u001b[38;5;28;43;01mNone\u001b[39;49;00m\u001b[43m,\u001b[49m\u001b[43m \u001b[49m\u001b[38;5;28;43;01mNone\u001b[39;49;00m\u001b[43m,\u001b[49m\u001b[43m \u001b[49m\u001b[38;5;28;43;01mNone\u001b[39;49;00m\u001b[43m,\u001b[49m\u001b[43m \u001b[49m\u001b[43mbaseline\u001b[49m\u001b[43m,\u001b[49m\u001b[43m \u001b[49m\u001b[43muse_best_model\u001b[49m\u001b[43m,\u001b[49m\n\u001b[1;32m   5246\u001b[0m \u001b[43m          \u001b[49m\u001b[43meval_set\u001b[49m\u001b[43m,\u001b[49m\u001b[43m \u001b[49m\u001b[43mverbose\u001b[49m\u001b[43m,\u001b[49m\u001b[43m \u001b[49m\u001b[43mlogging_level\u001b[49m\u001b[43m,\u001b[49m\u001b[43m \u001b[49m\u001b[43mplot\u001b[49m\u001b[43m,\u001b[49m\u001b[43m \u001b[49m\u001b[43mplot_file\u001b[49m\u001b[43m,\u001b[49m\u001b[43m \u001b[49m\u001b[43mcolumn_description\u001b[49m\u001b[43m,\u001b[49m\u001b[43m \u001b[49m\u001b[43mverbose_eval\u001b[49m\u001b[43m,\u001b[49m\u001b[43m \u001b[49m\u001b[43mmetric_period\u001b[49m\u001b[43m,\u001b[49m\n\u001b[1;32m   5247\u001b[0m \u001b[43m          \u001b[49m\u001b[43msilent\u001b[49m\u001b[43m,\u001b[49m\u001b[43m \u001b[49m\u001b[43mearly_stopping_rounds\u001b[49m\u001b[43m,\u001b[49m\u001b[43m \u001b[49m\u001b[43msave_snapshot\u001b[49m\u001b[43m,\u001b[49m\u001b[43m \u001b[49m\u001b[43msnapshot_file\u001b[49m\u001b[43m,\u001b[49m\u001b[43m \u001b[49m\u001b[43msnapshot_interval\u001b[49m\u001b[43m,\u001b[49m\u001b[43m \u001b[49m\u001b[43minit_model\u001b[49m\u001b[43m,\u001b[49m\u001b[43m \u001b[49m\u001b[43mcallbacks\u001b[49m\u001b[43m,\u001b[49m\u001b[43m \u001b[49m\u001b[43mlog_cout\u001b[49m\u001b[43m,\u001b[49m\u001b[43m \u001b[49m\u001b[43mlog_cerr\u001b[49m\u001b[43m)\u001b[49m\n\u001b[1;32m   5248\u001b[0m \u001b[38;5;28;01mreturn\u001b[39;00m \u001b[38;5;28mself\u001b[39m\n",
      "File \u001b[0;32m/opt/conda/lib/python3.10/site-packages/catboost/core.py:2395\u001b[0m, in \u001b[0;36mCatBoost._fit\u001b[0;34m(self, X, y, cat_features, text_features, embedding_features, pairs, graph, sample_weight, group_id, group_weight, subgroup_id, pairs_weight, baseline, use_best_model, eval_set, verbose, logging_level, plot, plot_file, column_description, verbose_eval, metric_period, silent, early_stopping_rounds, save_snapshot, snapshot_file, snapshot_interval, init_model, callbacks, log_cout, log_cerr)\u001b[0m\n\u001b[1;32m   2392\u001b[0m \u001b[38;5;28;01mif\u001b[39;00m y \u001b[38;5;129;01mis\u001b[39;00m \u001b[38;5;28;01mNone\u001b[39;00m \u001b[38;5;129;01mand\u001b[39;00m \u001b[38;5;129;01mnot\u001b[39;00m \u001b[38;5;28misinstance\u001b[39m(X, PATH_TYPES \u001b[38;5;241m+\u001b[39m (Pool,)):\n\u001b[1;32m   2393\u001b[0m     \u001b[38;5;28;01mraise\u001b[39;00m CatBoostError(\u001b[38;5;124m\"\u001b[39m\u001b[38;5;124my may be None only when X is an instance of catboost.Pool or string\u001b[39m\u001b[38;5;124m\"\u001b[39m)\n\u001b[0;32m-> 2395\u001b[0m train_params \u001b[38;5;241m=\u001b[39m \u001b[38;5;28;43mself\u001b[39;49m\u001b[38;5;241;43m.\u001b[39;49m\u001b[43m_prepare_train_params\u001b[49m\u001b[43m(\u001b[49m\n\u001b[1;32m   2396\u001b[0m \u001b[43m    \u001b[49m\u001b[43mX\u001b[49m\u001b[38;5;241;43m=\u001b[39;49m\u001b[43mX\u001b[49m\u001b[43m,\u001b[49m\u001b[43m \u001b[49m\u001b[43my\u001b[49m\u001b[38;5;241;43m=\u001b[39;49m\u001b[43my\u001b[49m\u001b[43m,\u001b[49m\u001b[43m \u001b[49m\u001b[43mcat_features\u001b[49m\u001b[38;5;241;43m=\u001b[39;49m\u001b[43mcat_features\u001b[49m\u001b[43m,\u001b[49m\u001b[43m \u001b[49m\u001b[43mtext_features\u001b[49m\u001b[38;5;241;43m=\u001b[39;49m\u001b[43mtext_features\u001b[49m\u001b[43m,\u001b[49m\u001b[43m \u001b[49m\u001b[43membedding_features\u001b[49m\u001b[38;5;241;43m=\u001b[39;49m\u001b[43membedding_features\u001b[49m\u001b[43m,\u001b[49m\n\u001b[1;32m   2397\u001b[0m \u001b[43m    \u001b[49m\u001b[43mpairs\u001b[49m\u001b[38;5;241;43m=\u001b[39;49m\u001b[43mpairs\u001b[49m\u001b[43m,\u001b[49m\u001b[43m \u001b[49m\u001b[43mgraph\u001b[49m\u001b[38;5;241;43m=\u001b[39;49m\u001b[43mgraph\u001b[49m\u001b[43m,\u001b[49m\u001b[43m \u001b[49m\u001b[43msample_weight\u001b[49m\u001b[38;5;241;43m=\u001b[39;49m\u001b[43msample_weight\u001b[49m\u001b[43m,\u001b[49m\u001b[43m \u001b[49m\u001b[43mgroup_id\u001b[49m\u001b[38;5;241;43m=\u001b[39;49m\u001b[43mgroup_id\u001b[49m\u001b[43m,\u001b[49m\u001b[43m \u001b[49m\u001b[43mgroup_weight\u001b[49m\u001b[38;5;241;43m=\u001b[39;49m\u001b[43mgroup_weight\u001b[49m\u001b[43m,\u001b[49m\n\u001b[1;32m   2398\u001b[0m \u001b[43m    \u001b[49m\u001b[43msubgroup_id\u001b[49m\u001b[38;5;241;43m=\u001b[39;49m\u001b[43msubgroup_id\u001b[49m\u001b[43m,\u001b[49m\u001b[43m \u001b[49m\u001b[43mpairs_weight\u001b[49m\u001b[38;5;241;43m=\u001b[39;49m\u001b[43mpairs_weight\u001b[49m\u001b[43m,\u001b[49m\u001b[43m \u001b[49m\u001b[43mbaseline\u001b[49m\u001b[38;5;241;43m=\u001b[39;49m\u001b[43mbaseline\u001b[49m\u001b[43m,\u001b[49m\u001b[43m \u001b[49m\u001b[43muse_best_model\u001b[49m\u001b[38;5;241;43m=\u001b[39;49m\u001b[43muse_best_model\u001b[49m\u001b[43m,\u001b[49m\n\u001b[1;32m   2399\u001b[0m \u001b[43m    \u001b[49m\u001b[43meval_set\u001b[49m\u001b[38;5;241;43m=\u001b[39;49m\u001b[43meval_set\u001b[49m\u001b[43m,\u001b[49m\u001b[43m \u001b[49m\u001b[43mverbose\u001b[49m\u001b[38;5;241;43m=\u001b[39;49m\u001b[43mverbose\u001b[49m\u001b[43m,\u001b[49m\u001b[43m \u001b[49m\u001b[43mlogging_level\u001b[49m\u001b[38;5;241;43m=\u001b[39;49m\u001b[43mlogging_level\u001b[49m\u001b[43m,\u001b[49m\u001b[43m \u001b[49m\u001b[43mplot\u001b[49m\u001b[38;5;241;43m=\u001b[39;49m\u001b[43mplot\u001b[49m\u001b[43m,\u001b[49m\u001b[43m \u001b[49m\u001b[43mplot_file\u001b[49m\u001b[38;5;241;43m=\u001b[39;49m\u001b[43mplot_file\u001b[49m\u001b[43m,\u001b[49m\n\u001b[1;32m   2400\u001b[0m \u001b[43m    \u001b[49m\u001b[43mcolumn_description\u001b[49m\u001b[38;5;241;43m=\u001b[39;49m\u001b[43mcolumn_description\u001b[49m\u001b[43m,\u001b[49m\u001b[43m \u001b[49m\u001b[43mverbose_eval\u001b[49m\u001b[38;5;241;43m=\u001b[39;49m\u001b[43mverbose_eval\u001b[49m\u001b[43m,\u001b[49m\u001b[43m \u001b[49m\u001b[43mmetric_period\u001b[49m\u001b[38;5;241;43m=\u001b[39;49m\u001b[43mmetric_period\u001b[49m\u001b[43m,\u001b[49m\n\u001b[1;32m   2401\u001b[0m \u001b[43m    \u001b[49m\u001b[43msilent\u001b[49m\u001b[38;5;241;43m=\u001b[39;49m\u001b[43msilent\u001b[49m\u001b[43m,\u001b[49m\u001b[43m \u001b[49m\u001b[43mearly_stopping_rounds\u001b[49m\u001b[38;5;241;43m=\u001b[39;49m\u001b[43mearly_stopping_rounds\u001b[49m\u001b[43m,\u001b[49m\u001b[43m \u001b[49m\u001b[43msave_snapshot\u001b[49m\u001b[38;5;241;43m=\u001b[39;49m\u001b[43msave_snapshot\u001b[49m\u001b[43m,\u001b[49m\n\u001b[1;32m   2402\u001b[0m \u001b[43m    \u001b[49m\u001b[43msnapshot_file\u001b[49m\u001b[38;5;241;43m=\u001b[39;49m\u001b[43msnapshot_file\u001b[49m\u001b[43m,\u001b[49m\u001b[43m \u001b[49m\u001b[43msnapshot_interval\u001b[49m\u001b[38;5;241;43m=\u001b[39;49m\u001b[43msnapshot_interval\u001b[49m\u001b[43m,\u001b[49m\u001b[43m \u001b[49m\u001b[43minit_model\u001b[49m\u001b[38;5;241;43m=\u001b[39;49m\u001b[43minit_model\u001b[49m\u001b[43m,\u001b[49m\n\u001b[1;32m   2403\u001b[0m \u001b[43m    \u001b[49m\u001b[43mcallbacks\u001b[49m\u001b[38;5;241;43m=\u001b[39;49m\u001b[43mcallbacks\u001b[49m\n\u001b[1;32m   2404\u001b[0m \u001b[43m\u001b[49m\u001b[43m)\u001b[49m\n\u001b[1;32m   2405\u001b[0m params \u001b[38;5;241m=\u001b[39m train_params[\u001b[38;5;124m\"\u001b[39m\u001b[38;5;124mparams\u001b[39m\u001b[38;5;124m\"\u001b[39m]\n\u001b[1;32m   2406\u001b[0m train_pool \u001b[38;5;241m=\u001b[39m train_params[\u001b[38;5;124m\"\u001b[39m\u001b[38;5;124mtrain_pool\u001b[39m\u001b[38;5;124m\"\u001b[39m]\n",
      "File \u001b[0;32m/opt/conda/lib/python3.10/site-packages/catboost/core.py:2275\u001b[0m, in \u001b[0;36mCatBoost._prepare_train_params\u001b[0;34m(self, X, y, cat_features, text_features, embedding_features, pairs, graph, sample_weight, group_id, group_weight, subgroup_id, pairs_weight, baseline, use_best_model, eval_set, verbose, logging_level, plot, plot_file, column_description, verbose_eval, metric_period, silent, early_stopping_rounds, save_snapshot, snapshot_file, snapshot_interval, init_model, callbacks)\u001b[0m\n\u001b[1;32m   2272\u001b[0m text_features \u001b[38;5;241m=\u001b[39m _process_feature_indices(text_features, X, params, \u001b[38;5;124m'\u001b[39m\u001b[38;5;124mtext_features\u001b[39m\u001b[38;5;124m'\u001b[39m)\n\u001b[1;32m   2273\u001b[0m embedding_features \u001b[38;5;241m=\u001b[39m _process_feature_indices(embedding_features, X, params, \u001b[38;5;124m'\u001b[39m\u001b[38;5;124membedding_features\u001b[39m\u001b[38;5;124m'\u001b[39m)\n\u001b[0;32m-> 2275\u001b[0m train_pool \u001b[38;5;241m=\u001b[39m \u001b[43m_build_train_pool\u001b[49m\u001b[43m(\u001b[49m\u001b[43mX\u001b[49m\u001b[43m,\u001b[49m\u001b[43m \u001b[49m\u001b[43my\u001b[49m\u001b[43m,\u001b[49m\u001b[43m \u001b[49m\u001b[43mcat_features\u001b[49m\u001b[43m,\u001b[49m\u001b[43m \u001b[49m\u001b[43mtext_features\u001b[49m\u001b[43m,\u001b[49m\u001b[43m \u001b[49m\u001b[43membedding_features\u001b[49m\u001b[43m,\u001b[49m\u001b[43m \u001b[49m\u001b[43mpairs\u001b[49m\u001b[43m,\u001b[49m\u001b[43m \u001b[49m\u001b[43mgraph\u001b[49m\u001b[43m,\u001b[49m\n\u001b[1;32m   2276\u001b[0m \u001b[43m                               \u001b[49m\u001b[43msample_weight\u001b[49m\u001b[43m,\u001b[49m\u001b[43m \u001b[49m\u001b[43mgroup_id\u001b[49m\u001b[43m,\u001b[49m\u001b[43m \u001b[49m\u001b[43mgroup_weight\u001b[49m\u001b[43m,\u001b[49m\u001b[43m \u001b[49m\u001b[43msubgroup_id\u001b[49m\u001b[43m,\u001b[49m\u001b[43m \u001b[49m\u001b[43mpairs_weight\u001b[49m\u001b[43m,\u001b[49m\n\u001b[1;32m   2277\u001b[0m \u001b[43m                               \u001b[49m\u001b[43mbaseline\u001b[49m\u001b[43m,\u001b[49m\u001b[43m \u001b[49m\u001b[43mcolumn_description\u001b[49m\u001b[43m)\u001b[49m\n\u001b[1;32m   2278\u001b[0m \u001b[38;5;28;01mif\u001b[39;00m train_pool\u001b[38;5;241m.\u001b[39mis_empty_:\n\u001b[1;32m   2279\u001b[0m     \u001b[38;5;28;01mraise\u001b[39;00m CatBoostError(\u001b[38;5;124m\"\u001b[39m\u001b[38;5;124mX is empty.\u001b[39m\u001b[38;5;124m\"\u001b[39m)\n",
      "File \u001b[0;32m/opt/conda/lib/python3.10/site-packages/catboost/core.py:1513\u001b[0m, in \u001b[0;36m_build_train_pool\u001b[0;34m(X, y, cat_features, text_features, embedding_features, pairs, graph, sample_weight, group_id, group_weight, subgroup_id, pairs_weight, baseline, column_description)\u001b[0m\n\u001b[1;32m   1511\u001b[0m     \u001b[38;5;28;01mif\u001b[39;00m y \u001b[38;5;129;01mis\u001b[39;00m \u001b[38;5;28;01mNone\u001b[39;00m:\n\u001b[1;32m   1512\u001b[0m         \u001b[38;5;28;01mraise\u001b[39;00m CatBoostError(\u001b[38;5;124m\"\u001b[39m\u001b[38;5;124my has not initialized in fit(): X is not catboost.Pool object, y must be not None in fit().\u001b[39m\u001b[38;5;124m\"\u001b[39m)\n\u001b[0;32m-> 1513\u001b[0m     train_pool \u001b[38;5;241m=\u001b[39m \u001b[43mPool\u001b[49m\u001b[43m(\u001b[49m\u001b[43mX\u001b[49m\u001b[43m,\u001b[49m\u001b[43m \u001b[49m\u001b[43my\u001b[49m\u001b[43m,\u001b[49m\u001b[43m \u001b[49m\u001b[43mcat_features\u001b[49m\u001b[38;5;241;43m=\u001b[39;49m\u001b[43mcat_features\u001b[49m\u001b[43m,\u001b[49m\u001b[43m \u001b[49m\u001b[43mtext_features\u001b[49m\u001b[38;5;241;43m=\u001b[39;49m\u001b[43mtext_features\u001b[49m\u001b[43m,\u001b[49m\u001b[43m \u001b[49m\u001b[43membedding_features\u001b[49m\u001b[38;5;241;43m=\u001b[39;49m\u001b[43membedding_features\u001b[49m\u001b[43m,\u001b[49m\u001b[43m \u001b[49m\u001b[43mpairs\u001b[49m\u001b[38;5;241;43m=\u001b[39;49m\u001b[43mpairs\u001b[49m\u001b[43m,\u001b[49m\u001b[43m \u001b[49m\u001b[43mgraph\u001b[49m\u001b[38;5;241;43m=\u001b[39;49m\u001b[43mgraph\u001b[49m\u001b[43m,\u001b[49m\u001b[43m \u001b[49m\u001b[43mweight\u001b[49m\u001b[38;5;241;43m=\u001b[39;49m\u001b[43msample_weight\u001b[49m\u001b[43m,\u001b[49m\u001b[43m \u001b[49m\u001b[43mgroup_id\u001b[49m\u001b[38;5;241;43m=\u001b[39;49m\u001b[43mgroup_id\u001b[49m\u001b[43m,\u001b[49m\n\u001b[1;32m   1514\u001b[0m \u001b[43m                      \u001b[49m\u001b[43mgroup_weight\u001b[49m\u001b[38;5;241;43m=\u001b[39;49m\u001b[43mgroup_weight\u001b[49m\u001b[43m,\u001b[49m\u001b[43m \u001b[49m\u001b[43msubgroup_id\u001b[49m\u001b[38;5;241;43m=\u001b[39;49m\u001b[43msubgroup_id\u001b[49m\u001b[43m,\u001b[49m\u001b[43m \u001b[49m\u001b[43mpairs_weight\u001b[49m\u001b[38;5;241;43m=\u001b[39;49m\u001b[43mpairs_weight\u001b[49m\u001b[43m,\u001b[49m\u001b[43m \u001b[49m\u001b[43mbaseline\u001b[49m\u001b[38;5;241;43m=\u001b[39;49m\u001b[43mbaseline\u001b[49m\u001b[43m)\u001b[49m\n\u001b[1;32m   1515\u001b[0m \u001b[38;5;28;01mreturn\u001b[39;00m train_pool\n",
      "File \u001b[0;32m/opt/conda/lib/python3.10/site-packages/catboost/core.py:855\u001b[0m, in \u001b[0;36mPool.__init__\u001b[0;34m(self, data, label, cat_features, text_features, embedding_features, embedding_features_data, column_description, pairs, graph, delimiter, has_header, ignore_csv_quoting, weight, group_id, group_weight, subgroup_id, pairs_weight, baseline, timestamp, feature_names, feature_tags, thread_count, log_cout, log_cerr, data_can_be_none)\u001b[0m\n\u001b[1;32m    849\u001b[0m         \u001b[38;5;28;01mif\u001b[39;00m \u001b[38;5;28misinstance\u001b[39m(feature_names, PATH_TYPES):\n\u001b[1;32m    850\u001b[0m             \u001b[38;5;28;01mraise\u001b[39;00m CatBoostError(\n\u001b[1;32m    851\u001b[0m                 \u001b[38;5;124m\"\u001b[39m\u001b[38;5;124mfeature_names must be None or have non-string type when the pool is created from \u001b[39m\u001b[38;5;124m\"\u001b[39m\n\u001b[1;32m    852\u001b[0m                 \u001b[38;5;124m\"\u001b[39m\u001b[38;5;124mpython objects.\u001b[39m\u001b[38;5;124m\"\u001b[39m\n\u001b[1;32m    853\u001b[0m             )\n\u001b[0;32m--> 855\u001b[0m         \u001b[38;5;28;43mself\u001b[39;49m\u001b[38;5;241;43m.\u001b[39;49m\u001b[43m_init\u001b[49m\u001b[43m(\u001b[49m\u001b[43mdata\u001b[49m\u001b[43m,\u001b[49m\u001b[43m \u001b[49m\u001b[43mlabel\u001b[49m\u001b[43m,\u001b[49m\u001b[43m \u001b[49m\u001b[43mcat_features\u001b[49m\u001b[43m,\u001b[49m\u001b[43m \u001b[49m\u001b[43mtext_features\u001b[49m\u001b[43m,\u001b[49m\u001b[43m \u001b[49m\u001b[43membedding_features\u001b[49m\u001b[43m,\u001b[49m\u001b[43m \u001b[49m\u001b[43membedding_features_data\u001b[49m\u001b[43m,\u001b[49m\u001b[43m \u001b[49m\u001b[43mpairs\u001b[49m\u001b[43m,\u001b[49m\u001b[43m \u001b[49m\u001b[43mgraph\u001b[49m\u001b[43m,\u001b[49m\u001b[43m \u001b[49m\u001b[43mweight\u001b[49m\u001b[43m,\u001b[49m\n\u001b[1;32m    856\u001b[0m \u001b[43m                   \u001b[49m\u001b[43mgroup_id\u001b[49m\u001b[43m,\u001b[49m\u001b[43m \u001b[49m\u001b[43mgroup_weight\u001b[49m\u001b[43m,\u001b[49m\u001b[43m \u001b[49m\u001b[43msubgroup_id\u001b[49m\u001b[43m,\u001b[49m\u001b[43m \u001b[49m\u001b[43mpairs_weight\u001b[49m\u001b[43m,\u001b[49m\u001b[43m \u001b[49m\u001b[43mbaseline\u001b[49m\u001b[43m,\u001b[49m\u001b[43m \u001b[49m\u001b[43mtimestamp\u001b[49m\u001b[43m,\u001b[49m\u001b[43m \u001b[49m\u001b[43mfeature_names\u001b[49m\u001b[43m,\u001b[49m\u001b[43m \u001b[49m\u001b[43mfeature_tags\u001b[49m\u001b[43m,\u001b[49m\u001b[43m \u001b[49m\u001b[43mthread_count\u001b[49m\u001b[43m)\u001b[49m\n\u001b[1;32m    857\u001b[0m \u001b[38;5;28;01melif\u001b[39;00m \u001b[38;5;129;01mnot\u001b[39;00m data_can_be_none:\n\u001b[1;32m    858\u001b[0m     \u001b[38;5;28;01mraise\u001b[39;00m CatBoostError(\u001b[38;5;124m\"\u001b[39m\u001b[38;5;124m'\u001b[39m\u001b[38;5;124mdata\u001b[39m\u001b[38;5;124m'\u001b[39m\u001b[38;5;124m parameter can\u001b[39m\u001b[38;5;124m'\u001b[39m\u001b[38;5;124mt be None\u001b[39m\u001b[38;5;124m\"\u001b[39m)\n",
      "File \u001b[0;32m/opt/conda/lib/python3.10/site-packages/catboost/core.py:1491\u001b[0m, in \u001b[0;36mPool._init\u001b[0;34m(self, data, label, cat_features, text_features, embedding_features, embedding_features_data, pairs, graph, weight, group_id, group_weight, subgroup_id, pairs_weight, baseline, timestamp, feature_names, feature_tags, thread_count)\u001b[0m\n\u001b[1;32m   1489\u001b[0m \u001b[38;5;28;01mif\u001b[39;00m feature_tags \u001b[38;5;129;01mis\u001b[39;00m \u001b[38;5;129;01mnot\u001b[39;00m \u001b[38;5;28;01mNone\u001b[39;00m:\n\u001b[1;32m   1490\u001b[0m     feature_tags \u001b[38;5;241m=\u001b[39m \u001b[38;5;28mself\u001b[39m\u001b[38;5;241m.\u001b[39m_check_transform_tags(feature_tags, feature_names)\n\u001b[0;32m-> 1491\u001b[0m \u001b[38;5;28;43mself\u001b[39;49m\u001b[38;5;241;43m.\u001b[39;49m\u001b[43m_init_pool\u001b[49m\u001b[43m(\u001b[49m\u001b[43mdata\u001b[49m\u001b[43m,\u001b[49m\u001b[43m \u001b[49m\u001b[43mlabel\u001b[49m\u001b[43m,\u001b[49m\u001b[43m \u001b[49m\u001b[43mcat_features\u001b[49m\u001b[43m,\u001b[49m\u001b[43m \u001b[49m\u001b[43mtext_features\u001b[49m\u001b[43m,\u001b[49m\u001b[43m \u001b[49m\u001b[43membedding_features\u001b[49m\u001b[43m,\u001b[49m\u001b[43m \u001b[49m\u001b[43membedding_features_data\u001b[49m\u001b[43m,\u001b[49m\u001b[43m \u001b[49m\u001b[43mpairs\u001b[49m\u001b[43m,\u001b[49m\u001b[43m \u001b[49m\u001b[43mgraph\u001b[49m\u001b[43m,\u001b[49m\u001b[43m \u001b[49m\u001b[43mweight\u001b[49m\u001b[43m,\u001b[49m\n\u001b[1;32m   1492\u001b[0m \u001b[43m                \u001b[49m\u001b[43mgroup_id\u001b[49m\u001b[43m,\u001b[49m\u001b[43m \u001b[49m\u001b[43mgroup_weight\u001b[49m\u001b[43m,\u001b[49m\u001b[43m \u001b[49m\u001b[43msubgroup_id\u001b[49m\u001b[43m,\u001b[49m\u001b[43m \u001b[49m\u001b[43mpairs_weight\u001b[49m\u001b[43m,\u001b[49m\u001b[43m \u001b[49m\u001b[43mbaseline\u001b[49m\u001b[43m,\u001b[49m\u001b[43m \u001b[49m\u001b[43mtimestamp\u001b[49m\u001b[43m,\u001b[49m\u001b[43m \u001b[49m\u001b[43mfeature_names\u001b[49m\u001b[43m,\u001b[49m\u001b[43m \u001b[49m\u001b[43mfeature_tags\u001b[49m\u001b[43m,\u001b[49m\u001b[43m \u001b[49m\u001b[43mthread_count\u001b[49m\u001b[43m)\u001b[49m\n",
      "File \u001b[0;32m_catboost.pyx:4339\u001b[0m, in \u001b[0;36m_catboost._PoolBase._init_pool\u001b[0;34m()\u001b[0m\n",
      "File \u001b[0;32m_catboost.pyx:4391\u001b[0m, in \u001b[0;36m_catboost._PoolBase._init_pool\u001b[0;34m()\u001b[0m\n",
      "File \u001b[0;32m_catboost.pyx:4200\u001b[0m, in \u001b[0;36m_catboost._PoolBase._init_features_order_layout_pool\u001b[0;34m()\u001b[0m\n",
      "File \u001b[0;32m_catboost.pyx:3088\u001b[0m, in \u001b[0;36m_catboost._set_features_order_data_pd_data_frame\u001b[0;34m()\u001b[0m\n",
      "File \u001b[0;32m_catboost.pyx:2966\u001b[0m, in \u001b[0;36m_catboost._set_features_order_data_pd_data_frame_categorical_column\u001b[0;34m()\u001b[0m\n",
      "File \u001b[0;32m_catboost.pyx:2911\u001b[0m, in \u001b[0;36m_catboost._set_hashed_cat_values\u001b[0;34m()\u001b[0m\n",
      "\u001b[0;31mCatBoostError\u001b[0m: Invalid type for cat_feature[object_idx=99,feature_idx=6]=NaN : cat_features must be integer or string, real number values and NaN values should be converted to string."
     ]
    }
   ],
   "source": [
    "# テストデータに対する推論、特徴量重要度(後述)を計算するために、モデルを保存するobjectを作成\n",
    "models = []\n",
    "\n",
    "# Cross Validationによる学習の実施\n",
    "for fold_idx in range(FOLD_NUM):\n",
    "    print(f\"Start fold {fold_idx}\")\n",
    "\n",
    "    # foldごとにtrainとvalidに分ける\n",
    "    train_fold = train.filter(pl.col(\"fold\") != fold_idx)\n",
    "    valid_fold = train.filter(pl.col(\"fold\") == fold_idx)\n",
    "\n",
    "    # X(説明変数)とy(目的変数)に分ける\n",
    "    X_train = train_fold.select(USE_COL).to_pandas()\n",
    "    X_valid = valid_fold.select(USE_COL).to_pandas()\n",
    "    y_train = train_fold.select(TARGET_COL).to_pandas().values.ravel()\n",
    "    y_valid = valid_fold.select(TARGET_COL).to_pandas().values.ravel()\n",
    "\n",
    "    # CatBoostClassifier のインスタンスを作成\n",
    "    model = CatBoostClassifier(**cat_params)\n",
    "\n",
    "    # cat_features は列名で指定可能（リストの形式も可）\n",
    "    # カラムが文字列として読み込まれていれば CatBoost が自動判定もしてくれますが、\n",
    "    # 安全のためカラム名を指定します。\n",
    "    model.fit(\n",
    "        X_train,\n",
    "        y_train,\n",
    "        cat_features=CATEGORICAL_FEATURE,  \n",
    "        eval_set=(X_valid, y_valid),\n",
    "    )\n",
    "\n",
    "    # モデルを保存\n",
    "    models.append([fold_idx, model])"
   ]
  },
  {
   "cell_type": "code",
   "execution_count": null,
   "metadata": {},
   "outputs": [],
   "source": [
    "# %%\n",
    "# 学習データ全体に対する推論結果を保存するobjectを作成\n",
    "oof = np.zeros((len(train)))\n",
    "\n",
    "# foldの値と学習済みモデルを利用し、モデルの評価を行う\n",
    "for fold_idx, model in models:\n",
    "    valid_fold = train.filter(pl.col(\"fold\") == fold_idx)\n",
    "\n",
    "    X_valid = valid_fold.select(USE_COL).to_pandas()\n",
    "    y_valid = valid_fold.select(TARGET_COL).to_pandas().values.ravel()\n",
    "\n",
    "    # validデータに対する推論\n",
    "    # predict_probaでクラス1（生存）の確率を取得\n",
    "    y_valid_pred_prob = model.predict_proba(X_valid)[:, 1]\n",
    "\n",
    "    # 0.5をしきい値にして二値化\n",
    "    y_valid_pred = (y_valid_pred_prob > 0.5).astype(int)\n",
    "\n",
    "    score = roc_auc_score(y_valid, y_valid_pred)\n",
    "    print(f\"fold {fold_idx} Score: {score}\")\n",
    "\n",
    "    is_valid = train.get_column(\"fold\") == fold_idx\n",
    "    oof[is_valid] = y_valid_pred\n",
    "\n",
    "# %%\n",
    "oof_score = roc_auc_score(train.get_column(\"survived\"), oof)\n",
    "oof_score\n",
    "\n",
    "# %%\n",
    "import pandas as pd\n",
    "\n",
    "# CatBoost の feature_importances_ は model.get_feature_importance() で取得\n",
    "feature_importances = []\n",
    "for _, model in models:\n",
    "    feature_importances.append(model.get_feature_importance())\n",
    "\n",
    "feature_importances_df = pd.DataFrame(feature_importances, columns=USE_COL)\n",
    "\n",
    "order = feature_importances_df.mean().sort_values(ascending=False).index.tolist()\n",
    "\n",
    "sns.boxplot(data=feature_importances_df, orient=\"h\", order=order)\n",
    "\n",
    "# %%\n",
    "# テストデータに対する予測\n",
    "test_X = test.select(USE_COL).to_pandas()\n",
    "\n",
    "pred_list = []\n",
    "for _, model in models:\n",
    "    # predict_probaのクラス1（生存）の確率を取得\n",
    "    pred_list.append(model.predict_proba(test_X)[:, 1])\n",
    "\n",
    "pred = np.mean(pred_list, axis=0)\n",
    "pred = (pred > 0.5).astype(int)\n",
    "pred\n"
   ]
  },
  {
   "cell_type": "code",
   "execution_count": null,
   "metadata": {},
   "outputs": [],
   "source": []
  },
  {
   "cell_type": "code",
   "execution_count": null,
   "metadata": {},
   "outputs": [],
   "source": []
  },
  {
   "cell_type": "code",
   "execution_count": 2,
   "metadata": {},
   "outputs": [],
   "source": [
    "df = pl.read_csv(\"../../input/train.csv\")"
   ]
  },
  {
   "cell_type": "code",
   "execution_count": 3,
   "metadata": {},
   "outputs": [
    {
     "data": {
      "text/plain": [
       "['PassengerId',\n",
       " 'Survived',\n",
       " 'Pclass',\n",
       " 'Name',\n",
       " 'Sex',\n",
       " 'Age',\n",
       " 'SibSp',\n",
       " 'Parch',\n",
       " 'Ticket',\n",
       " 'Fare',\n",
       " 'Cabin',\n",
       " 'Embarked']"
      ]
     },
     "execution_count": 3,
     "metadata": {},
     "output_type": "execute_result"
    }
   ],
   "source": [
    "df.columns"
   ]
  },
  {
   "cell_type": "code",
   "execution_count": 4,
   "metadata": {},
   "outputs": [],
   "source": [
    "USE_COL = [\"Pclass\", \"Sex\", \"Age\", \"SibSp\", \"Parch\", \"Fare\", \"Embarked\"]\n",
    "CATEGORICAL_FEATURE = [\"Sex\", \"Embarked\"]\n",
    "TARGET_COL = \"Survived\"\n",
    "FOLD_NUM = 5\n",
    "SEED = 42"
   ]
  },
  {
   "cell_type": "code",
   "execution_count": 5,
   "metadata": {},
   "outputs": [],
   "source": [
    "# 学習データとテストデータに分割する\n",
    "train, test = train_test_split(\n",
    "    df,\n",
    "    test_size=0.3,\n",
    "    random_state=SEED,\n",
    "    shuffle=True,\n",
    "    stratify=df.get_column(TARGET_COL),\n",
    ")"
   ]
  },
  {
   "cell_type": "code",
   "execution_count": 6,
   "metadata": {},
   "outputs": [],
   "source": [
    "# Categorical型への変換（XGBoostは内部でone-hotするか、エンコーディングを行う場合は別途処理が必要だが、\n",
    "# ここでは単純なcastのみ行い、後続でpandas.get_dummies等でone-hotをすることを想定）\n",
    "for cat_col in CATEGORICAL_FEATURE:\n",
    "    train = train.with_columns(pl.col(cat_col).cast(pl.Categorical))\n",
    "    test = test.with_columns(pl.col(cat_col).cast(pl.Categorical))\n",
    "\n",
    "# # One-hotエンコーディング\n",
    "# train_pd = train.to_pandas()\n",
    "# test_pd = test.to_pandas()\n",
    "\n",
    "# train_pd = pd.get_dummies(train_pd, columns=CATEGORICAL_FEATURE)\n",
    "# test_pd = pd.get_dummies(test_pd, columns=CATEGORICAL_FEATURE)"
   ]
  },
  {
   "cell_type": "code",
   "execution_count": 7,
   "metadata": {},
   "outputs": [],
   "source": [
    "# Foldの作成\n",
    "fold_arr = np.zeros(train.height)\n",
    "fold = KFold(n_splits=FOLD_NUM, shuffle=True, random_state=SEED)\n",
    "\n",
    "for idx, (_, val_idx) in enumerate(fold.split(train)):\n",
    "    fold_arr[val_idx] = idx\n",
    "\n",
    "train = train.with_columns(pl.Series(fold_arr).cast(pl.Int64).alias(\"fold\"))"
   ]
  },
  {
   "cell_type": "code",
   "execution_count": 8,
   "metadata": {},
   "outputs": [],
   "source": [
    "# %%\n",
    "# XGBoost用パラメータ設定\n",
    "# LightGBMパラメータをXGBoostに近い形で換装:\n",
    "# objective: binary → binary:logistic\n",
    "# learning_rate: 0.01 → eta: 0.01\n",
    "# feature_fraction: 0.9 → colsample_bytree:0.9\n",
    "# bagging_fraction:0.8 → subsample:0.8\n",
    "# lambda_l1:0.4 → reg_alpha:0.4\n",
    "# lambda_l2:0.4 → reg_lambda:0.4\n",
    "# min_data_in_leaf:10 → min_child_weight:10 (近似的対応)\n",
    "# num_leaves:24 → XGBoostには直接対応するパラメータがないためmax_depth、max_leavesなどで調整が可能。\n",
    "# ここではmax_depthに制約をかけず、大きめの値をとらせるか、auto設定とします。\n",
    "params = {\n",
    "    \"objective\": \"binary:logistic\",\n",
    "    \"eta\": 0.01,\n",
    "    \"max_depth\": 0,  # 実質的に制約なし\n",
    "    \"min_child_weight\": 10,\n",
    "    \"colsample_bytree\": 0.9,\n",
    "    \"subsample\": 0.8,\n",
    "    \"verbosity\": 1,  # ログは適宜表示\n",
    "    \"seed\": SEED,\n",
    "    \"reg_alpha\": 0.4,\n",
    "    \"reg_lambda\": 0.4,\n",
    "    # LightGBMのbagging_freqに相当するものはXGBoostには明示的にないが、\n",
    "    # subsampleを繰り返し変えることで類似効果が期待できる。\n",
    "}\n",
    "\n",
    "NUM_BOOST_ROUND = 10000\n",
    "EARLY_STOPPING_ROUNDS = 100\n",
    "VERBOSE_EVAL = 100"
   ]
  },
  {
   "cell_type": "code",
   "execution_count": 10,
   "metadata": {},
   "outputs": [
    {
     "name": "stdout",
     "output_type": "stream",
     "text": [
      "Start fold 0\n",
      "[0]\ttrain-logloss:0.65702\teval-logloss:0.68248\n",
      "[100]\ttrain-logloss:0.48504\teval-logloss:0.51601\n",
      "[200]\ttrain-logloss:0.43399\teval-logloss:0.47834\n",
      "[300]\ttrain-logloss:0.40981\teval-logloss:0.46617\n"
     ]
    },
    {
     "name": "stdout",
     "output_type": "stream",
     "text": [
      "[400]\ttrain-logloss:0.39497\teval-logloss:0.46108\n",
      "[500]\ttrain-logloss:0.38469\teval-logloss:0.45811\n",
      "[600]\ttrain-logloss:0.37655\teval-logloss:0.45585\n",
      "[700]\ttrain-logloss:0.36968\teval-logloss:0.45514\n",
      "[800]\ttrain-logloss:0.36425\teval-logloss:0.45354\n",
      "[900]\ttrain-logloss:0.35932\teval-logloss:0.45249\n",
      "[1000]\ttrain-logloss:0.35501\teval-logloss:0.45216\n",
      "[1016]\ttrain-logloss:0.35432\teval-logloss:0.45197\n",
      "Start fold 1\n",
      "[0]\ttrain-logloss:0.66835\teval-logloss:0.63992\n",
      "[100]\ttrain-logloss:0.49195\teval-logloss:0.48603\n",
      "[200]\ttrain-logloss:0.43828\teval-logloss:0.44690\n",
      "[300]\ttrain-logloss:0.41385\teval-logloss:0.43587\n",
      "[400]\ttrain-logloss:0.39934\teval-logloss:0.43246\n",
      "[500]\ttrain-logloss:0.38947\teval-logloss:0.42948\n",
      "[600]\ttrain-logloss:0.38090\teval-logloss:0.42927\n",
      "[683]\ttrain-logloss:0.37537\teval-logloss:0.42977\n",
      "Start fold 2\n",
      "[0]\ttrain-logloss:0.65777\teval-logloss:0.67853\n",
      "[100]\ttrain-logloss:0.47578\teval-logloss:0.53582\n",
      "[200]\ttrain-logloss:0.42157\teval-logloss:0.50518\n",
      "[300]\ttrain-logloss:0.40118\teval-logloss:0.49149\n",
      "[400]\ttrain-logloss:0.38775\teval-logloss:0.48688\n",
      "[500]\ttrain-logloss:0.37787\teval-logloss:0.48404\n",
      "[600]\ttrain-logloss:0.36977\teval-logloss:0.48336\n",
      "[700]\ttrain-logloss:0.36298\teval-logloss:0.48375\n",
      "[728]\ttrain-logloss:0.36137\teval-logloss:0.48331\n",
      "Start fold 3\n",
      "[0]\ttrain-logloss:0.66869\teval-logloss:0.63856\n",
      "[100]\ttrain-logloss:0.48954\teval-logloss:0.49520\n",
      "[200]\ttrain-logloss:0.43808\teval-logloss:0.45673\n",
      "[300]\ttrain-logloss:0.41825\teval-logloss:0.44265\n",
      "[400]\ttrain-logloss:0.40681\teval-logloss:0.43436\n",
      "[500]\ttrain-logloss:0.39854\teval-logloss:0.42740\n",
      "[600]\ttrain-logloss:0.39150\teval-logloss:0.41959\n",
      "[700]\ttrain-logloss:0.38603\teval-logloss:0.41385\n",
      "[800]\ttrain-logloss:0.38113\teval-logloss:0.40957\n",
      "[900]\ttrain-logloss:0.37658\teval-logloss:0.40574\n",
      "[1000]\ttrain-logloss:0.37232\teval-logloss:0.40245\n",
      "[1100]\ttrain-logloss:0.36880\teval-logloss:0.39918\n",
      "[1200]\ttrain-logloss:0.36548\teval-logloss:0.39744\n",
      "[1300]\ttrain-logloss:0.36224\teval-logloss:0.39411\n",
      "[1400]\ttrain-logloss:0.35940\teval-logloss:0.39166\n",
      "[1500]\ttrain-logloss:0.35657\teval-logloss:0.39007\n",
      "[1600]\ttrain-logloss:0.35394\teval-logloss:0.38844\n",
      "[1700]\ttrain-logloss:0.35123\teval-logloss:0.38769\n",
      "[1800]\ttrain-logloss:0.34882\teval-logloss:0.38647\n",
      "[1900]\ttrain-logloss:0.34648\teval-logloss:0.38521\n",
      "[2000]\ttrain-logloss:0.34424\teval-logloss:0.38513\n",
      "[2026]\ttrain-logloss:0.34377\teval-logloss:0.38521\n",
      "Start fold 4\n",
      "[0]\ttrain-logloss:0.65674\teval-logloss:0.68385\n",
      "[100]\ttrain-logloss:0.49509\teval-logloss:0.48670\n",
      "[200]\ttrain-logloss:0.44763\teval-logloss:0.42911\n",
      "[300]\ttrain-logloss:0.42694\teval-logloss:0.40876\n",
      "[400]\ttrain-logloss:0.41314\teval-logloss:0.39977\n",
      "[500]\ttrain-logloss:0.40317\teval-logloss:0.39517\n",
      "[600]\ttrain-logloss:0.39508\teval-logloss:0.39209\n",
      "[700]\ttrain-logloss:0.38840\teval-logloss:0.38757\n",
      "[800]\ttrain-logloss:0.38310\teval-logloss:0.38498\n",
      "[900]\ttrain-logloss:0.37853\teval-logloss:0.38396\n",
      "[1000]\ttrain-logloss:0.37424\teval-logloss:0.38175\n",
      "[1100]\ttrain-logloss:0.37032\teval-logloss:0.37963\n",
      "[1200]\ttrain-logloss:0.36660\teval-logloss:0.37721\n",
      "[1300]\ttrain-logloss:0.36356\teval-logloss:0.37565\n",
      "[1400]\ttrain-logloss:0.36069\teval-logloss:0.37427\n",
      "[1500]\ttrain-logloss:0.35811\teval-logloss:0.37309\n",
      "[1600]\ttrain-logloss:0.35569\teval-logloss:0.37197\n",
      "[1700]\ttrain-logloss:0.35328\teval-logloss:0.37254\n",
      "[1800]\ttrain-logloss:0.35095\teval-logloss:0.37114\n",
      "[1900]\ttrain-logloss:0.34870\teval-logloss:0.37049\n",
      "[2000]\ttrain-logloss:0.34651\teval-logloss:0.36978\n",
      "[2100]\ttrain-logloss:0.34458\teval-logloss:0.36905\n",
      "[2200]\ttrain-logloss:0.34263\teval-logloss:0.36831\n",
      "[2300]\ttrain-logloss:0.34072\teval-logloss:0.36765\n",
      "[2400]\ttrain-logloss:0.33878\teval-logloss:0.36636\n",
      "[2500]\ttrain-logloss:0.33703\teval-logloss:0.36497\n",
      "[2600]\ttrain-logloss:0.33530\teval-logloss:0.36499\n",
      "[2700]\ttrain-logloss:0.33368\teval-logloss:0.36442\n",
      "[2800]\ttrain-logloss:0.33218\teval-logloss:0.36416\n",
      "[2868]\ttrain-logloss:0.33104\teval-logloss:0.36405\n"
     ]
    }
   ],
   "source": [
    "models = []\n",
    "\n",
    "# Cross Validationによる学習\n",
    "for fold in range(FOLD_NUM):\n",
    "    print(f\"Start fold {fold}\")\n",
    "\n",
    "    train_fold = train.filter(pl.col(\"fold\") != fold)\n",
    "    valid_fold = train.filter(pl.col(\"fold\") == fold)\n",
    "\n",
    "    X_train = train_fold[USE_COL]\n",
    "    X_valid = valid_fold[USE_COL]\n",
    "    y_train = train_fold[TARGET_COL]\n",
    "    y_valid = valid_fold[TARGET_COL]\n",
    "\n",
    "    dtrain = xgb.DMatrix(\n",
    "        X_train.to_pandas(),\n",
    "        label=y_train,\n",
    "        feature_names=USE_COL,\n",
    "        enable_categorical=True\n",
    "    )\n",
    "    dvalid = xgb.DMatrix(\n",
    "        X_valid.to_pandas(),\n",
    "        label=y_valid,\n",
    "        feature_names=USE_COL,\n",
    "        enable_categorical=True\n",
    "    )\n",
    "\n",
    "    # モデル学習\n",
    "    model = xgb.train(\n",
    "        params,\n",
    "        dtrain,\n",
    "        num_boost_round=NUM_BOOST_ROUND,\n",
    "        evals=[(dtrain, \"train\"), (dvalid, \"eval\")],\n",
    "        early_stopping_rounds=EARLY_STOPPING_ROUNDS,\n",
    "        verbose_eval=VERBOSE_EVAL\n",
    "    )\n",
    "\n",
    "    models.append([fold, model])"
   ]
  },
  {
   "cell_type": "code",
   "execution_count": 13,
   "metadata": {},
   "outputs": [
    {
     "name": "stdout",
     "output_type": "stream",
     "text": [
      "fold 0 Score: 0.8282232704402517\n",
      "fold 1 Score: 0.7816492450638792\n",
      "fold 2 Score: 0.7598788198103267\n",
      "fold 3 Score: 0.8095238095238096\n",
      "fold 4 Score: 0.8280627159181504\n"
     ]
    }
   ],
   "source": [
    "# 学習データ全体に対する推論結果を保存するobjectを作成\n",
    "oof = np.zeros((len(train)))\n",
    "\n",
    "# foldの値と学習済みモデルを利用し、モデルの評価を行う\n",
    "for fold, model in models:\n",
    "    valid_fold = train.filter(pl.col(\"fold\") == fold)\n",
    "\n",
    "    X_valid = valid_fold.select(USE_COL)\n",
    "    y_valid = valid_fold.select(TARGET_COL)\n",
    "\n",
    "    dvalid = xgb.DMatrix(\n",
    "        X_valid.to_pandas(),\n",
    "        label=y_valid,\n",
    "        feature_names=USE_COL,\n",
    "        enable_categorical=True\n",
    "    )\n",
    "\n",
    "    # validデータに対する推論\n",
    "    y_valid_pred = model.predict(\n",
    "        dvalid, iteration_range=(0, model.best_iteration+1)\n",
    "    )\n",
    "\n",
    "    y_valid_pred = (y_valid_pred > 0.5).astype(int)\n",
    "\n",
    "    score = roc_auc_score(y_valid, y_valid_pred)\n",
    "    print(f\"fold {fold} Score: {score}\")\n",
    "\n",
    "    is_valid = train.get_column(\"fold\") == fold\n",
    "    oof[is_valid] = y_valid_pred"
   ]
  },
  {
   "cell_type": "code",
   "execution_count": 14,
   "metadata": {},
   "outputs": [
    {
     "data": {
      "text/plain": [
       "0.8017510024407253"
      ]
     },
     "execution_count": 14,
     "metadata": {},
     "output_type": "execute_result"
    }
   ],
   "source": [
    "oof_score = roc_auc_score(train[TARGET_COL], oof)\n",
    "oof_score"
   ]
  },
  {
   "cell_type": "code",
   "execution_count": 15,
   "metadata": {},
   "outputs": [
    {
     "data": {
      "text/plain": [
       "<Axes: >"
      ]
     },
     "execution_count": 15,
     "metadata": {},
     "output_type": "execute_result"
    },
    {
     "data": {
      "image/png": "[encoded data removed]",
      "text/plain": [
       "<Figure size 640x480 with 1 Axes>"
      ]
     },
     "metadata": {},
     "output_type": "display_data"
    }
   ],
   "source": [
    "# 特徴量重要度\n",
    "# XGBoostではmodel.get_score(importance_type='gain')で特徴重要度が取得できる\n",
    "# 戻り値はdict形式なのでDataFrameに変換する\n",
    "feature_importances = []\n",
    "for _, model in models:\n",
    "    score_dict = model.get_score(importance_type=\"gain\")\n",
    "    # 全ての列についてスコアがない場合は0で補完する\n",
    "    row = [score_dict.get(col, 0.0) for col in USE_COL]\n",
    "    feature_importances.append(row)\n",
    "\n",
    "feature_importances_df = pd.DataFrame(feature_importances, columns=USE_COL)\n",
    "\n",
    "order = feature_importances_df.mean().sort_values(ascending=False).index.tolist()\n",
    "sns.boxplot(data=feature_importances_df, orient=\"h\", order=order)"
   ]
  },
  {
   "cell_type": "code",
   "execution_count": 19,
   "metadata": {},
   "outputs": [
    {
     "data": {
      "text/plain": [
       "array([0, 0, 0, 0, 0, 0, 0, 1, 0, 1, 1, 1, 0, 0, 0, 1, 0, 0, 1, 0, 0, 0,\n",
       "       1, 0, 0, 0, 1, 0, 0, 0, 1, 1, 0, 1, 1, 0, 0, 0, 0, 0, 0, 1, 0, 1,\n",
       "       1, 0, 1, 0, 0, 0, 0, 0, 0, 0, 0, 0, 0, 0, 0, 0, 0, 0, 0, 1, 0, 0,\n",
       "       0, 1, 0, 0, 1, 0, 0, 1, 0, 0, 0, 0, 0, 0, 0, 1, 1, 0, 0, 0, 1, 1,\n",
       "       1, 0, 1, 0, 0, 1, 0, 1, 1, 1, 0, 0, 1, 0, 1, 1, 0, 0, 1, 0, 0, 0,\n",
       "       0, 0, 0, 1, 0, 0, 0, 0, 1, 1, 0, 1, 0, 0, 1, 1, 0, 0, 1, 0, 1, 1,\n",
       "       1, 0, 1, 1, 0, 1, 0, 1, 0, 1, 0, 0, 0, 0, 0, 1, 0, 0, 0, 0, 1, 0,\n",
       "       0, 0, 0, 1, 0, 1, 0, 0, 1, 0, 0, 0, 0, 0, 1, 1, 0, 1, 0, 0, 1, 1,\n",
       "       0, 0, 1, 1, 0, 1, 0, 0, 0, 1, 0, 0, 1, 0, 0, 0, 0, 1, 0, 0, 1, 0,\n",
       "       0, 1, 1, 1, 0, 0, 1, 0, 1, 1, 0, 0, 0, 0, 0, 1, 0, 0, 0, 1, 0, 0,\n",
       "       0, 0, 0, 0, 1, 1, 0, 0, 0, 0, 0, 0, 0, 1, 1, 0, 1, 1, 0, 0, 0, 0,\n",
       "       0, 0, 0, 0, 1, 0, 0, 0, 0, 1, 0, 0, 1, 1, 0, 1, 0, 1, 1, 0, 0, 1,\n",
       "       0, 0, 0, 1])"
      ]
     },
     "execution_count": 19,
     "metadata": {},
     "output_type": "execute_result"
    }
   ],
   "source": [
    "# テストデータに対する予測\n",
    "dtest = xgb.DMatrix(\n",
    "    test[USE_COL].to_pandas(),\n",
    "    feature_names=USE_COL,\n",
    "    enable_categorical=True\n",
    ")\n",
    "pred = []\n",
    "for _, model in models:\n",
    "    p = model.predict(dtest, iteration_range=(0, model.best_iteration+1))\n",
    "    pred.append(p)\n",
    "pred = np.mean(pred, axis=0)\n",
    "pred = (pred > 0.5).astype(int)\n",
    "\n",
    "# predに推論結果が入っている\n",
    "pred\n"
   ]
  }
 ],
 "metadata": {
  "kernelspec": {
   "display_name": "base",
   "language": "python",
   "name": "python3"
  },
  "language_info": {
   "codemirror_mode": {
    "name": "ipython",
    "version": 3
   },
   "file_extension": ".py",
   "mimetype": "text/x-python",
   "name": "python",
   "nbconvert_exporter": "python",
   "pygments_lexer": "ipython3",
   "version": "3.10.15"
  }
 },
 "nbformat": 4,
 "nbformat_minor": 2
}
