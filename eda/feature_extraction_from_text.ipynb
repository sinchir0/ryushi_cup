{
 "cells": [
  {
   "cell_type": "markdown",
   "id": "2c8235f8",
   "metadata": {},
   "source": [
    "# 目的\n",
    "テキストからembeddingを作成する"
   ]
  },
  {
   "cell_type": "markdown",
   "id": "759114e2",
   "metadata": {
    "papermill": {
     "duration": 0.005163,
     "end_time": "2024-10-12T10:26:21.419051",
     "exception": false,
     "start_time": "2024-10-12T10:26:21.413888",
     "status": "completed"
    },
    "tags": []
   },
   "source": [
    "# Setting"
   ]
  },
  {
   "cell_type": "code",
   "execution_count": 16,
   "id": "d4a6d57c",
   "metadata": {
    "execution": {
     "iopub.execute_input": "2024-10-12T10:26:21.431595Z",
     "iopub.status.busy": "2024-10-12T10:26:21.431144Z",
     "iopub.status.idle": "2024-10-12T10:26:21.441593Z",
     "shell.execute_reply": "2024-10-12T10:26:21.440584Z"
    },
    "papermill": {
     "duration": 0.019637,
     "end_time": "2024-10-12T10:26:21.444057",
     "exception": false,
     "start_time": "2024-10-12T10:26:21.424420",
     "status": "completed"
    },
    "tags": []
   },
   "outputs": [],
   "source": [
    "DATA_PATH = \"../data\"\n",
    "OUTPUT_PATH = \"../output\"\n",
    "MODEL_PATH = \"BAAI/bge-small-en-v1.5\" # BAAI/bge-large-en-v1.5"
   ]
  },
  {
   "cell_type": "markdown",
   "id": "f3933389",
   "metadata": {
    "papermill": {
     "duration": 0.005251,
     "end_time": "2024-10-12T10:26:39.412584",
     "exception": false,
     "start_time": "2024-10-12T10:26:39.407333",
     "status": "completed"
    },
    "tags": []
   },
   "source": [
    "# Import"
   ]
  },
  {
   "cell_type": "code",
   "execution_count": 17,
   "id": "afdd5945",
   "metadata": {
    "_cell_guid": "b1076dfc-b9ad-4769-8c92-a6c4dae69d19",
    "_uuid": "8f2839f25d086af736a60e9eeb907d3b93b6e0e5",
    "execution": {
     "iopub.execute_input": "2024-10-12T10:26:39.424753Z",
     "iopub.status.busy": "2024-10-12T10:26:39.424385Z",
     "iopub.status.idle": "2024-10-12T10:26:59.425390Z",
     "shell.execute_reply": "2024-10-12T10:26:59.424646Z"
    },
    "papermill": {
     "duration": 20.00984,
     "end_time": "2024-10-12T10:26:59.427747",
     "exception": false,
     "start_time": "2024-10-12T10:26:39.417907",
     "status": "completed"
    },
    "tags": []
   },
   "outputs": [],
   "source": [
    "import os\n",
    "\n",
    "import polars as pl\n",
    "import numpy as np\n",
    "\n",
    "from sklearn.metrics.pairwise import cosine_similarity\n",
    "from sentence_transformers import SentenceTransformer"
   ]
  },
  {
   "cell_type": "code",
   "execution_count": 18,
   "id": "f33edc96",
   "metadata": {
    "execution": {
     "iopub.execute_input": "2024-10-12T10:26:59.440419Z",
     "iopub.status.busy": "2024-10-12T10:26:59.439819Z",
     "iopub.status.idle": "2024-10-12T10:26:59.444169Z",
     "shell.execute_reply": "2024-10-12T10:26:59.443379Z"
    },
    "papermill": {
     "duration": 0.012503,
     "end_time": "2024-10-12T10:26:59.445964",
     "exception": false,
     "start_time": "2024-10-12T10:26:59.433461",
     "status": "completed"
    },
    "tags": []
   },
   "outputs": [],
   "source": [
    "import sentence_transformers\n",
    "\n",
    "assert pl.__version__ == \"1.17.1\"\n",
    "assert sentence_transformers.__version__ == \"3.3.1\""
   ]
  },
  {
   "cell_type": "markdown",
   "id": "9246daa6",
   "metadata": {
    "papermill": {
     "duration": 0.005203,
     "end_time": "2024-10-12T10:26:59.456658",
     "exception": false,
     "start_time": "2024-10-12T10:26:59.451455",
     "status": "completed"
    },
    "tags": []
   },
   "source": [
    "# Data Load"
   ]
  },
  {
   "cell_type": "code",
   "execution_count": 19,
   "id": "3fd86ec4",
   "metadata": {
    "execution": {
     "iopub.execute_input": "2024-10-12T10:26:59.468530Z",
     "iopub.status.busy": "2024-10-12T10:26:59.468212Z",
     "iopub.status.idle": "2024-10-12T10:26:59.485993Z",
     "shell.execute_reply": "2024-10-12T10:26:59.485297Z"
    },
    "papermill": {
     "duration": 0.025934,
     "end_time": "2024-10-12T10:26:59.487953",
     "exception": false,
     "start_time": "2024-10-12T10:26:59.462019",
     "status": "completed"
    },
    "tags": []
   },
   "outputs": [],
   "source": [
    "monster = pl.read_csv(f\"{DATA_PATH}/monster.csv\")\n",
    "\n",
    "# train = pl.DataFrame(\n",
    "#     {\n",
    "#         \"text\": [\n",
    "#             \"I love apples\",\n",
    "#             \"I hate apples\",\n",
    "#             \"I love oranges\",\n",
    "#         ],\n",
    "#         \"num\": [1, 2, 3],\n",
    "#     }\n",
    "# )\n",
    "\n",
    "# test = pl.DataFrame(\n",
    "#     {\n",
    "#         \"text\": [\n",
    "#             \"I love bananas\",\n",
    "#             \"I hate watermelons\",\n",
    "#             \"I love oranges\",\n",
    "#         ],\n",
    "#         \"num\": [4, 5, 6],\n",
    "#     }\n",
    "# )"
   ]
  },
  {
   "cell_type": "markdown",
   "id": "708f2f75",
   "metadata": {
    "papermill": {
     "duration": 0.005661,
     "end_time": "2024-10-12T10:26:59.542628",
     "exception": false,
     "start_time": "2024-10-12T10:26:59.536967",
     "status": "completed"
    },
    "tags": []
   },
   "source": [
    "# BGE"
   ]
  },
  {
   "cell_type": "code",
   "execution_count": 20,
   "id": "595991a8",
   "metadata": {
    "execution": {
     "iopub.execute_input": "2024-10-12T10:26:59.555003Z",
     "iopub.status.busy": "2024-10-12T10:26:59.554533Z",
     "iopub.status.idle": "2024-10-12T10:27:18.611119Z",
     "shell.execute_reply": "2024-10-12T10:27:18.610160Z"
    },
    "papermill": {
     "duration": 19.064938,
     "end_time": "2024-10-12T10:27:18.613115",
     "exception": false,
     "start_time": "2024-10-12T10:26:59.548177",
     "status": "completed"
    },
    "tags": []
   },
   "outputs": [
    {
     "name": "stdout",
     "output_type": "stream",
     "text": [
      "(19, 384)\n"
     ]
    }
   ],
   "source": [
    "model = SentenceTransformer(MODEL_PATH)\n",
    "\n",
    "monster_vec = model.encode(\n",
    "    monster[\"description\"].to_list(), normalize_embeddings=True\n",
    ")\n",
    "\n",
    "print(monster_vec.shape)"
   ]
  },
  {
   "cell_type": "code",
   "execution_count": 23,
   "id": "d0b294dc",
   "metadata": {},
   "outputs": [],
   "source": [
    "monster_vec_df = pl.DataFrame(monster_vec, schema=[f\"vec_{i}\" for i in range(monster_vec.shape[1])])\n",
    "\n",
    "monster_vec_df.write_csv(f\"{OUTPUT_PATH}/monster_vec.csv\")"
   ]
  },
  {
   "cell_type": "code",
   "execution_count": 22,
   "id": "8a2d6352",
   "metadata": {},
   "outputs": [
    {
     "data": {
      "text/html": [
       "<div><style>\n",
       ".dataframe > thead > tr,\n",
       ".dataframe > tbody > tr {\n",
       "  text-align: right;\n",
       "  white-space: pre-wrap;\n",
       "}\n",
       "</style>\n",
       "<small>shape: (19, 384)</small><table border=\"1\" class=\"dataframe\"><thead><tr><th>vec_0</th><th>vec_1</th><th>vec_2</th><th>vec_3</th><th>vec_4</th><th>vec_5</th><th>vec_6</th><th>vec_7</th><th>vec_8</th><th>vec_9</th><th>vec_10</th><th>vec_11</th><th>vec_12</th><th>vec_13</th><th>vec_14</th><th>vec_15</th><th>vec_16</th><th>vec_17</th><th>vec_18</th><th>vec_19</th><th>vec_20</th><th>vec_21</th><th>vec_22</th><th>vec_23</th><th>vec_24</th><th>vec_25</th><th>vec_26</th><th>vec_27</th><th>vec_28</th><th>vec_29</th><th>vec_30</th><th>vec_31</th><th>vec_32</th><th>vec_33</th><th>vec_34</th><th>vec_35</th><th>vec_36</th><th>&hellip;</th><th>vec_347</th><th>vec_348</th><th>vec_349</th><th>vec_350</th><th>vec_351</th><th>vec_352</th><th>vec_353</th><th>vec_354</th><th>vec_355</th><th>vec_356</th><th>vec_357</th><th>vec_358</th><th>vec_359</th><th>vec_360</th><th>vec_361</th><th>vec_362</th><th>vec_363</th><th>vec_364</th><th>vec_365</th><th>vec_366</th><th>vec_367</th><th>vec_368</th><th>vec_369</th><th>vec_370</th><th>vec_371</th><th>vec_372</th><th>vec_373</th><th>vec_374</th><th>vec_375</th><th>vec_376</th><th>vec_377</th><th>vec_378</th><th>vec_379</th><th>vec_380</th><th>vec_381</th><th>vec_382</th><th>vec_383</th></tr><tr><td>f32</td><td>f32</td><td>f32</td><td>f32</td><td>f32</td><td>f32</td><td>f32</td><td>f32</td><td>f32</td><td>f32</td><td>f32</td><td>f32</td><td>f32</td><td>f32</td><td>f32</td><td>f32</td><td>f32</td><td>f32</td><td>f32</td><td>f32</td><td>f32</td><td>f32</td><td>f32</td><td>f32</td><td>f32</td><td>f32</td><td>f32</td><td>f32</td><td>f32</td><td>f32</td><td>f32</td><td>f32</td><td>f32</td><td>f32</td><td>f32</td><td>f32</td><td>f32</td><td>&hellip;</td><td>f32</td><td>f32</td><td>f32</td><td>f32</td><td>f32</td><td>f32</td><td>f32</td><td>f32</td><td>f32</td><td>f32</td><td>f32</td><td>f32</td><td>f32</td><td>f32</td><td>f32</td><td>f32</td><td>f32</td><td>f32</td><td>f32</td><td>f32</td><td>f32</td><td>f32</td><td>f32</td><td>f32</td><td>f32</td><td>f32</td><td>f32</td><td>f32</td><td>f32</td><td>f32</td><td>f32</td><td>f32</td><td>f32</td><td>f32</td><td>f32</td><td>f32</td><td>f32</td></tr></thead><tbody><tr><td>-0.077965</td><td>0.022964</td><td>0.019223</td><td>-0.018083</td><td>0.032325</td><td>0.011745</td><td>0.032781</td><td>0.00406</td><td>0.00802</td><td>-0.00806</td><td>-0.024405</td><td>-0.091296</td><td>0.045534</td><td>0.054921</td><td>0.011585</td><td>-0.041806</td><td>0.002423</td><td>-0.020468</td><td>-0.020397</td><td>-0.001301</td><td>0.055973</td><td>-0.002063</td><td>-0.015292</td><td>-0.071581</td><td>0.029804</td><td>0.001119</td><td>0.016434</td><td>0.030572</td><td>0.020838</td><td>-0.188068</td><td>-0.007308</td><td>-0.022373</td><td>0.024564</td><td>-0.00475</td><td>0.021279</td><td>0.039242</td><td>-0.038893</td><td>&hellip;</td><td>-0.012664</td><td>0.019324</td><td>-0.038133</td><td>0.002214</td><td>0.096769</td><td>0.023403</td><td>0.079889</td><td>0.01341</td><td>0.006448</td><td>0.028502</td><td>0.004605</td><td>-0.017157</td><td>-0.002106</td><td>0.060498</td><td>0.004493</td><td>0.033911</td><td>0.056763</td><td>0.061261</td><td>-0.038509</td><td>-0.029108</td><td>-0.047004</td><td>-0.032966</td><td>-0.014701</td><td>0.004414</td><td>0.036839</td><td>0.038166</td><td>0.007389</td><td>0.038987</td><td>-0.019145</td><td>-0.00243</td><td>-0.014898</td><td>0.012385</td><td>0.036511</td><td>0.011133</td><td>-0.009406</td><td>0.009783</td><td>0.039788</td></tr><tr><td>-0.014884</td><td>0.022541</td><td>0.043756</td><td>0.002289</td><td>0.040177</td><td>0.010712</td><td>-0.003189</td><td>0.043763</td><td>0.02515</td><td>0.00011</td><td>-0.039374</td><td>-0.036549</td><td>0.052302</td><td>0.053889</td><td>0.017337</td><td>-0.035785</td><td>-0.016317</td><td>0.005062</td><td>-0.052683</td><td>0.001505</td><td>0.084764</td><td>0.031305</td><td>0.027686</td><td>-0.067246</td><td>0.013003</td><td>-0.026565</td><td>-0.011453</td><td>-0.033936</td><td>0.012275</td><td>-0.145089</td><td>-0.046922</td><td>0.009985</td><td>0.036808</td><td>-0.004146</td><td>0.01971</td><td>0.035762</td><td>-0.007991</td><td>&hellip;</td><td>-0.006943</td><td>0.015077</td><td>-0.043959</td><td>-0.008857</td><td>0.059743</td><td>0.011725</td><td>0.033811</td><td>-0.02486</td><td>0.041216</td><td>0.044299</td><td>0.027493</td><td>-0.026824</td><td>-0.016259</td><td>0.069942</td><td>-0.021852</td><td>0.054542</td><td>0.052302</td><td>0.035898</td><td>-0.004607</td><td>-0.066251</td><td>-0.07686</td><td>-0.003762</td><td>0.035128</td><td>0.066002</td><td>-0.024795</td><td>0.019826</td><td>0.054408</td><td>0.020847</td><td>-0.054969</td><td>-0.027924</td><td>-0.0247</td><td>-0.054911</td><td>0.010617</td><td>-0.010123</td><td>0.011126</td><td>-0.005766</td><td>0.012046</td></tr><tr><td>-0.054641</td><td>0.032748</td><td>-0.023494</td><td>-0.016202</td><td>0.073966</td><td>-0.023759</td><td>0.045149</td><td>0.041672</td><td>-0.001538</td><td>0.034817</td><td>-0.043592</td><td>-0.100374</td><td>0.06699</td><td>0.065444</td><td>0.070154</td><td>-0.016053</td><td>-0.000729</td><td>-0.017264</td><td>-0.06022</td><td>-0.036901</td><td>0.07751</td><td>-0.023372</td><td>0.02364</td><td>-0.028272</td><td>0.018902</td><td>0.056549</td><td>-0.018039</td><td>0.008967</td><td>0.023857</td><td>-0.146831</td><td>-0.023547</td><td>0.010424</td><td>0.018852</td><td>-0.003624</td><td>0.025339</td><td>0.059238</td><td>-0.035879</td><td>&hellip;</td><td>0.001137</td><td>0.02781</td><td>-0.03565</td><td>-0.028541</td><td>0.063592</td><td>0.02007</td><td>0.037839</td><td>-0.035122</td><td>0.028498</td><td>0.036762</td><td>-0.026525</td><td>-0.03442</td><td>-0.006664</td><td>0.043971</td><td>-0.026987</td><td>0.045071</td><td>0.069922</td><td>0.082999</td><td>-0.006075</td><td>-0.0491</td><td>-0.080801</td><td>-0.036335</td><td>-0.001847</td><td>0.02314</td><td>-0.000149</td><td>0.051705</td><td>0.039438</td><td>0.025008</td><td>-0.017194</td><td>-0.031689</td><td>0.011338</td><td>0.006165</td><td>0.052851</td><td>0.010329</td><td>0.030847</td><td>0.018496</td><td>0.048241</td></tr><tr><td>-0.016118</td><td>0.037495</td><td>0.005233</td><td>0.002177</td><td>0.034076</td><td>0.025638</td><td>0.027348</td><td>-0.01658</td><td>0.002697</td><td>0.023006</td><td>-0.004283</td><td>-0.073776</td><td>0.0445</td><td>0.077884</td><td>-0.02869</td><td>-0.017665</td><td>0.032185</td><td>-0.018933</td><td>-0.059059</td><td>-0.020062</td><td>0.060735</td><td>-0.028042</td><td>-0.003799</td><td>-0.035579</td><td>0.005873</td><td>0.009997</td><td>-0.007921</td><td>0.001245</td><td>-0.023354</td><td>-0.167889</td><td>-0.020511</td><td>0.011287</td><td>0.022884</td><td>-0.025696</td><td>0.028107</td><td>0.032134</td><td>-0.076514</td><td>&hellip;</td><td>-0.004377</td><td>0.068226</td><td>-0.045036</td><td>0.031887</td><td>0.056882</td><td>-0.027964</td><td>0.042912</td><td>0.001102</td><td>0.03235</td><td>0.035656</td><td>-0.020694</td><td>-0.013029</td><td>0.013029</td><td>0.040954</td><td>0.006401</td><td>0.030193</td><td>0.058806</td><td>0.096739</td><td>-0.045359</td><td>-0.070963</td><td>-0.042388</td><td>-0.032401</td><td>-0.003212</td><td>-0.015205</td><td>0.006064</td><td>0.047301</td><td>-0.00353</td><td>0.036536</td><td>-0.018317</td><td>0.012558</td><td>0.010876</td><td>0.020435</td><td>0.012063</td><td>0.017712</td><td>0.002896</td><td>-0.007478</td><td>0.035232</td></tr><tr><td>-0.030969</td><td>0.029671</td><td>0.025217</td><td>0.011273</td><td>0.030282</td><td>-0.027545</td><td>0.044776</td><td>-0.010657</td><td>0.027166</td><td>-0.017408</td><td>-0.009155</td><td>-0.072007</td><td>0.045808</td><td>0.057593</td><td>0.03264</td><td>-0.006629</td><td>0.046936</td><td>-0.035954</td><td>-0.086193</td><td>0.064729</td><td>0.023919</td><td>-0.039066</td><td>0.018369</td><td>-0.033967</td><td>-0.02726</td><td>-0.012141</td><td>-0.016199</td><td>-0.032499</td><td>0.007721</td><td>-0.099665</td><td>-0.009589</td><td>0.038251</td><td>0.045144</td><td>0.00308</td><td>0.016045</td><td>0.066797</td><td>-0.029871</td><td>&hellip;</td><td>0.036331</td><td>0.021912</td><td>-0.022992</td><td>-0.010958</td><td>0.056966</td><td>0.003956</td><td>0.019576</td><td>-0.052944</td><td>-0.007845</td><td>-0.032432</td><td>0.020516</td><td>-0.037194</td><td>0.028711</td><td>0.06906</td><td>0.007494</td><td>0.033332</td><td>0.084038</td><td>0.054585</td><td>-0.010468</td><td>-0.062249</td><td>-0.047304</td><td>0.009385</td><td>0.076781</td><td>-0.015291</td><td>0.006752</td><td>0.028967</td><td>0.077747</td><td>0.039335</td><td>-0.060094</td><td>0.00419</td><td>-0.017965</td><td>-0.028116</td><td>0.025174</td><td>0.036188</td><td>0.038595</td><td>0.032346</td><td>-0.022645</td></tr><tr><td>&hellip;</td><td>&hellip;</td><td>&hellip;</td><td>&hellip;</td><td>&hellip;</td><td>&hellip;</td><td>&hellip;</td><td>&hellip;</td><td>&hellip;</td><td>&hellip;</td><td>&hellip;</td><td>&hellip;</td><td>&hellip;</td><td>&hellip;</td><td>&hellip;</td><td>&hellip;</td><td>&hellip;</td><td>&hellip;</td><td>&hellip;</td><td>&hellip;</td><td>&hellip;</td><td>&hellip;</td><td>&hellip;</td><td>&hellip;</td><td>&hellip;</td><td>&hellip;</td><td>&hellip;</td><td>&hellip;</td><td>&hellip;</td><td>&hellip;</td><td>&hellip;</td><td>&hellip;</td><td>&hellip;</td><td>&hellip;</td><td>&hellip;</td><td>&hellip;</td><td>&hellip;</td><td>&hellip;</td><td>&hellip;</td><td>&hellip;</td><td>&hellip;</td><td>&hellip;</td><td>&hellip;</td><td>&hellip;</td><td>&hellip;</td><td>&hellip;</td><td>&hellip;</td><td>&hellip;</td><td>&hellip;</td><td>&hellip;</td><td>&hellip;</td><td>&hellip;</td><td>&hellip;</td><td>&hellip;</td><td>&hellip;</td><td>&hellip;</td><td>&hellip;</td><td>&hellip;</td><td>&hellip;</td><td>&hellip;</td><td>&hellip;</td><td>&hellip;</td><td>&hellip;</td><td>&hellip;</td><td>&hellip;</td><td>&hellip;</td><td>&hellip;</td><td>&hellip;</td><td>&hellip;</td><td>&hellip;</td><td>&hellip;</td><td>&hellip;</td><td>&hellip;</td><td>&hellip;</td><td>&hellip;</td></tr><tr><td>-0.043604</td><td>-0.01633</td><td>0.022437</td><td>0.008526</td><td>0.026973</td><td>-0.002945</td><td>0.041262</td><td>0.042914</td><td>0.001558</td><td>0.00992</td><td>-0.008774</td><td>-0.088082</td><td>0.068494</td><td>0.008362</td><td>0.01202</td><td>-0.006776</td><td>0.025306</td><td>0.025445</td><td>-0.093748</td><td>0.042723</td><td>0.049638</td><td>-0.039195</td><td>-0.006476</td><td>-0.018549</td><td>0.028023</td><td>-0.017319</td><td>-0.005304</td><td>-0.021703</td><td>0.022952</td><td>-0.129607</td><td>-0.039046</td><td>0.045541</td><td>0.069881</td><td>-0.026783</td><td>0.024974</td><td>0.027885</td><td>-0.03875</td><td>&hellip;</td><td>-0.021446</td><td>0.0423</td><td>-0.072221</td><td>0.030969</td><td>0.059142</td><td>-0.02162</td><td>0.020721</td><td>-0.001602</td><td>-0.050938</td><td>0.008403</td><td>-0.016305</td><td>-0.037387</td><td>0.008752</td><td>0.066907</td><td>-0.035045</td><td>0.039944</td><td>0.028628</td><td>0.012907</td><td>0.013316</td><td>-0.03104</td><td>-0.021013</td><td>-0.007422</td><td>-0.014356</td><td>0.020029</td><td>-0.005095</td><td>0.020885</td><td>0.055265</td><td>0.028703</td><td>-0.028946</td><td>-0.011472</td><td>-0.005227</td><td>-0.047324</td><td>0.029499</td><td>-0.014945</td><td>0.055293</td><td>0.044754</td><td>0.016241</td></tr><tr><td>-0.009148</td><td>-0.00945</td><td>-0.007281</td><td>0.008193</td><td>-0.007158</td><td>-0.008171</td><td>-0.029366</td><td>0.017687</td><td>-0.011854</td><td>-0.020912</td><td>0.006329</td><td>-0.087861</td><td>0.033623</td><td>0.055625</td><td>0.019467</td><td>-0.064392</td><td>0.002532</td><td>0.064619</td><td>-0.041591</td><td>0.041069</td><td>0.039769</td><td>0.027565</td><td>0.000028</td><td>-0.069784</td><td>0.011103</td><td>0.032302</td><td>0.039869</td><td>-0.019627</td><td>0.006082</td><td>-0.139265</td><td>-0.024163</td><td>-0.005552</td><td>0.020221</td><td>-0.035591</td><td>-0.033374</td><td>0.077971</td><td>-0.074883</td><td>&hellip;</td><td>-0.02211</td><td>0.025374</td><td>-0.058065</td><td>0.011001</td><td>0.027442</td><td>0.01347</td><td>0.061317</td><td>-0.01098</td><td>-0.011541</td><td>-0.009354</td><td>0.007802</td><td>-0.0343</td><td>-0.022024</td><td>0.042012</td><td>-0.004099</td><td>0.015622</td><td>0.099419</td><td>-0.005748</td><td>-0.017744</td><td>-0.039054</td><td>0.013192</td><td>0.009824</td><td>-0.028434</td><td>0.048996</td><td>-0.00759</td><td>0.046679</td><td>0.064307</td><td>0.029748</td><td>0.039456</td><td>-0.051768</td><td>-0.00688</td><td>-0.06079</td><td>0.033238</td><td>-0.004497</td><td>0.018037</td><td>0.026905</td><td>-0.020925</td></tr><tr><td>-0.018451</td><td>-0.006669</td><td>0.02224</td><td>0.017761</td><td>0.045688</td><td>-0.017289</td><td>0.073982</td><td>0.036411</td><td>0.02542</td><td>-0.00881</td><td>0.023831</td><td>-0.098281</td><td>0.057053</td><td>0.042081</td><td>0.037048</td><td>-0.042902</td><td>0.014583</td><td>-0.014831</td><td>-0.039172</td><td>0.004187</td><td>0.087928</td><td>-0.024699</td><td>0.018039</td><td>-0.013335</td><td>0.028231</td><td>-0.018123</td><td>0.013093</td><td>-0.037684</td><td>-0.015997</td><td>-0.163564</td><td>-0.052262</td><td>0.009002</td><td>0.040367</td><td>0.022159</td><td>-0.043369</td><td>0.046024</td><td>-0.080853</td><td>&hellip;</td><td>0.031598</td><td>0.001347</td><td>-0.038455</td><td>0.044549</td><td>0.092833</td><td>0.012755</td><td>0.001102</td><td>-0.018938</td><td>-0.0163</td><td>-0.007077</td><td>-0.027333</td><td>-0.00903</td><td>0.022856</td><td>0.035517</td><td>-0.018029</td><td>-0.010818</td><td>0.04974</td><td>0.010408</td><td>-0.037371</td><td>-0.131922</td><td>-0.034309</td><td>-0.020772</td><td>0.022874</td><td>0.014186</td><td>0.015303</td><td>0.024342</td><td>0.069979</td><td>0.029068</td><td>-0.03959</td><td>0.010617</td><td>-0.032146</td><td>-0.060421</td><td>0.00105</td><td>-0.046938</td><td>0.012893</td><td>0.049319</td><td>0.050983</td></tr><tr><td>0.01025</td><td>0.007741</td><td>-0.043485</td><td>0.00086</td><td>-0.010995</td><td>-0.018369</td><td>0.020118</td><td>-0.014985</td><td>0.023164</td><td>0.020806</td><td>0.006474</td><td>-0.14434</td><td>0.026635</td><td>0.077319</td><td>0.038857</td><td>-0.016749</td><td>-0.002867</td><td>0.044478</td><td>-0.058873</td><td>-0.021487</td><td>0.032312</td><td>-0.017969</td><td>0.033627</td><td>-0.069503</td><td>0.046677</td><td>0.01497</td><td>0.053011</td><td>-0.014348</td><td>-0.016007</td><td>-0.138957</td><td>-0.020349</td><td>0.029355</td><td>0.065407</td><td>-0.045179</td><td>-0.014726</td><td>0.044333</td><td>-0.051586</td><td>&hellip;</td><td>0.044937</td><td>0.00665</td><td>-0.041979</td><td>0.027439</td><td>0.049314</td><td>0.008817</td><td>0.007368</td><td>-0.03446</td><td>-0.051061</td><td>-0.022487</td><td>-0.041094</td><td>-0.052438</td><td>0.018063</td><td>0.04982</td><td>-0.040628</td><td>-0.015371</td><td>0.085144</td><td>-0.013856</td><td>-0.005302</td><td>-0.075235</td><td>-0.036939</td><td>0.018379</td><td>0.009535</td><td>0.048552</td><td>0.007761</td><td>0.023158</td><td>0.105621</td><td>0.037334</td><td>-0.030315</td><td>-0.01212</td><td>-0.038821</td><td>-0.078842</td><td>0.022445</td><td>0.053476</td><td>-0.018061</td><td>0.003009</td><td>0.03932</td></tr><tr><td>-0.000598</td><td>0.000206</td><td>-0.011298</td><td>-0.054428</td><td>-0.006616</td><td>-0.001028</td><td>-0.002864</td><td>-0.014752</td><td>0.030358</td><td>0.028807</td><td>-0.001993</td><td>-0.062934</td><td>0.052549</td><td>0.04722</td><td>0.014774</td><td>-0.042113</td><td>0.000217</td><td>0.041074</td><td>-0.018046</td><td>0.028766</td><td>0.045456</td><td>0.01901</td><td>0.014564</td><td>-0.03254</td><td>0.017614</td><td>0.012422</td><td>0.024182</td><td>-0.007438</td><td>0.013071</td><td>-0.181878</td><td>-0.024746</td><td>0.004934</td><td>0.049565</td><td>0.010771</td><td>0.01344</td><td>0.034221</td><td>-0.016236</td><td>&hellip;</td><td>-0.00427</td><td>-0.020851</td><td>-0.013473</td><td>0.006514</td><td>0.045204</td><td>0.048496</td><td>0.029699</td><td>-0.000699</td><td>-0.00693</td><td>0.017455</td><td>0.014444</td><td>-0.043928</td><td>0.005757</td><td>0.036689</td><td>-0.005632</td><td>0.02439</td><td>0.053559</td><td>0.014258</td><td>-0.016306</td><td>-0.058228</td><td>-0.02101</td><td>-0.03881</td><td>0.027053</td><td>0.03979</td><td>0.024165</td><td>0.02076</td><td>0.066255</td><td>0.025646</td><td>-0.009712</td><td>-0.003537</td><td>-0.072033</td><td>-0.053857</td><td>0.026307</td><td>-0.028556</td><td>-0.017227</td><td>0.024476</td><td>-0.000009</td></tr></tbody></table></div>"
      ],
      "text/plain": [
       "shape: (19, 384)\n",
       "┌───────────┬───────────┬───────────┬───────────┬───┬───────────┬───────────┬───────────┬──────────┐\n",
       "│ vec_0     ┆ vec_1     ┆ vec_2     ┆ vec_3     ┆ … ┆ vec_380   ┆ vec_381   ┆ vec_382   ┆ vec_383  │\n",
       "│ ---       ┆ ---       ┆ ---       ┆ ---       ┆   ┆ ---       ┆ ---       ┆ ---       ┆ ---      │\n",
       "│ f32       ┆ f32       ┆ f32       ┆ f32       ┆   ┆ f32       ┆ f32       ┆ f32       ┆ f32      │\n",
       "╞═══════════╪═══════════╪═══════════╪═══════════╪═══╪═══════════╪═══════════╪═══════════╪══════════╡\n",
       "│ -0.077965 ┆ 0.022964  ┆ 0.019223  ┆ -0.018083 ┆ … ┆ 0.011133  ┆ -0.009406 ┆ 0.009783  ┆ 0.039788 │\n",
       "│ -0.014884 ┆ 0.022541  ┆ 0.043756  ┆ 0.002289  ┆ … ┆ -0.010123 ┆ 0.011126  ┆ -0.005766 ┆ 0.012046 │\n",
       "│ -0.054641 ┆ 0.032748  ┆ -0.023494 ┆ -0.016202 ┆ … ┆ 0.010329  ┆ 0.030847  ┆ 0.018496  ┆ 0.048241 │\n",
       "│ -0.016118 ┆ 0.037495  ┆ 0.005233  ┆ 0.002177  ┆ … ┆ 0.017712  ┆ 0.002896  ┆ -0.007478 ┆ 0.035232 │\n",
       "│ -0.030969 ┆ 0.029671  ┆ 0.025217  ┆ 0.011273  ┆ … ┆ 0.036188  ┆ 0.038595  ┆ 0.032346  ┆ -0.02264 │\n",
       "│           ┆           ┆           ┆           ┆   ┆           ┆           ┆           ┆ 5        │\n",
       "│ …         ┆ …         ┆ …         ┆ …         ┆ … ┆ …         ┆ …         ┆ …         ┆ …        │\n",
       "│ -0.043604 ┆ -0.01633  ┆ 0.022437  ┆ 0.008526  ┆ … ┆ -0.014945 ┆ 0.055293  ┆ 0.044754  ┆ 0.016241 │\n",
       "│ -0.009148 ┆ -0.00945  ┆ -0.007281 ┆ 0.008193  ┆ … ┆ -0.004497 ┆ 0.018037  ┆ 0.026905  ┆ -0.02092 │\n",
       "│           ┆           ┆           ┆           ┆   ┆           ┆           ┆           ┆ 5        │\n",
       "│ -0.018451 ┆ -0.006669 ┆ 0.02224   ┆ 0.017761  ┆ … ┆ -0.046938 ┆ 0.012893  ┆ 0.049319  ┆ 0.050983 │\n",
       "│ 0.01025   ┆ 0.007741  ┆ -0.043485 ┆ 0.00086   ┆ … ┆ 0.053476  ┆ -0.018061 ┆ 0.003009  ┆ 0.03932  │\n",
       "│ -0.000598 ┆ 0.000206  ┆ -0.011298 ┆ -0.054428 ┆ … ┆ -0.028556 ┆ -0.017227 ┆ 0.024476  ┆ -0.00000 │\n",
       "│           ┆           ┆           ┆           ┆   ┆           ┆           ┆           ┆ 9        │\n",
       "└───────────┴───────────┴───────────┴───────────┴───┴───────────┴───────────┴───────────┴──────────┘"
      ]
     },
     "execution_count": 22,
     "metadata": {},
     "output_type": "execute_result"
    }
   ],
   "source": [
    "monster_vec_df"
   ]
  },
  {
   "cell_type": "code",
   "execution_count": null,
   "id": "b75d4f39",
   "metadata": {},
   "outputs": [],
   "source": []
  }
 ],
 "metadata": {
  "kaggle": {
   "accelerator": "gpu",
   "dataSources": [
    {
     "databundleVersionId": 9738540,
     "sourceId": 82695,
     "sourceType": "competition"
    },
    {
     "datasetId": 5744154,
     "isSourceIdPinned": true,
     "sourceId": 9450350,
     "sourceType": "datasetVersion"
    },
    {
     "sourceId": 196883629,
     "sourceType": "kernelVersion"
    }
   ],
   "dockerImageVersionId": 30762,
   "isGpuEnabled": true,
   "isInternetEnabled": false,
   "language": "python",
   "sourceType": "notebook"
  },
  "kernelspec": {
   "display_name": "base",
   "language": "python",
   "name": "python3"
  },
  "language_info": {
   "codemirror_mode": {
    "name": "ipython",
    "version": 3
   },
   "file_extension": ".py",
   "mimetype": "text/x-python",
   "name": "python",
   "nbconvert_exporter": "python",
   "pygments_lexer": "ipython3",
   "version": "3.10.15"
  },
  "papermill": {
   "default_parameters": {},
   "duration": 62.719032,
   "end_time": "2024-10-12T10:27:21.392364",
   "environment_variables": {},
   "exception": null,
   "input_path": "__notebook__.ipynb",
   "output_path": "__notebook__.ipynb",
   "parameters": {},
   "start_time": "2024-10-12T10:26:18.673332",
   "version": "2.6.0"
  },
  "widgets": {
   "application/vnd.jupyter.widget-state+json": {
    "state": {
     "047d6ef257ea46b380e3501ec9c09563": {
      "model_module": "@jupyter-widgets/base",
      "model_module_version": "1.2.0",
      "model_name": "LayoutModel",
      "state": {
       "_model_module": "@jupyter-widgets/base",
       "_model_module_version": "1.2.0",
       "_model_name": "LayoutModel",
       "_view_count": null,
       "_view_module": "@jupyter-widgets/base",
       "_view_module_version": "1.2.0",
       "_view_name": "LayoutView",
       "align_content": null,
       "align_items": null,
       "align_self": null,
       "border": null,
       "bottom": null,
       "display": null,
       "flex": null,
       "flex_flow": null,
       "grid_area": null,
       "grid_auto_columns": null,
       "grid_auto_flow": null,
       "grid_auto_rows": null,
       "grid_column": null,
       "grid_gap": null,
       "grid_row": null,
       "grid_template_areas": null,
       "grid_template_columns": null,
       "grid_template_rows": null,
       "height": null,
       "justify_content": null,
       "justify_items": null,
       "left": null,
       "margin": null,
       "max_height": null,
       "max_width": null,
       "min_height": null,
       "min_width": null,
       "object_fit": null,
       "object_position": null,
       "order": null,
       "overflow": null,
       "overflow_x": null,
       "overflow_y": null,
       "padding": null,
       "right": null,
       "top": null,
       "visibility": null,
       "width": null
      }
     },
     "07e01130f4064228a147170006c4786e": {
      "model_module": "@jupyter-widgets/controls",
      "model_module_version": "1.5.0",
      "model_name": "HBoxModel",
      "state": {
       "_dom_classes": [],
       "_model_module": "@jupyter-widgets/controls",
       "_model_module_version": "1.5.0",
       "_model_name": "HBoxModel",
       "_view_count": null,
       "_view_module": "@jupyter-widgets/controls",
       "_view_module_version": "1.5.0",
       "_view_name": "HBoxView",
       "box_style": "",
       "children": [
        "IPY_MODEL_c93f8111bfcc4dfbba1bba7183af6cb9",
        "IPY_MODEL_bcd0f0f094804276918a98b14bed08ea",
        "IPY_MODEL_c53990119a324508bb5c3538b7d0f427"
       ],
       "layout": "IPY_MODEL_8ee7e29db318404f8a3282c614602250"
      }
     },
     "081e174a6a6c4a17a447737ec36658df": {
      "model_module": "@jupyter-widgets/base",
      "model_module_version": "1.2.0",
      "model_name": "LayoutModel",
      "state": {
       "_model_module": "@jupyter-widgets/base",
       "_model_module_version": "1.2.0",
       "_model_name": "LayoutModel",
       "_view_count": null,
       "_view_module": "@jupyter-widgets/base",
       "_view_module_version": "1.2.0",
       "_view_name": "LayoutView",
       "align_content": null,
       "align_items": null,
       "align_self": null,
       "border": null,
       "bottom": null,
       "display": null,
       "flex": null,
       "flex_flow": null,
       "grid_area": null,
       "grid_auto_columns": null,
       "grid_auto_flow": null,
       "grid_auto_rows": null,
       "grid_column": null,
       "grid_gap": null,
       "grid_row": null,
       "grid_template_areas": null,
       "grid_template_columns": null,
       "grid_template_rows": null,
       "height": null,
       "justify_content": null,
       "justify_items": null,
       "left": null,
       "margin": null,
       "max_height": null,
       "max_width": null,
       "min_height": null,
       "min_width": null,
       "object_fit": null,
       "object_position": null,
       "order": null,
       "overflow": null,
       "overflow_x": null,
       "overflow_y": null,
       "padding": null,
       "right": null,
       "top": null,
       "visibility": null,
       "width": null
      }
     },
     "13cf085284d4419cae7090365e5f18c5": {
      "model_module": "@jupyter-widgets/controls",
      "model_module_version": "1.5.0",
      "model_name": "HTMLModel",
      "state": {
       "_dom_classes": [],
       "_model_module": "@jupyter-widgets/controls",
       "_model_module_version": "1.5.0",
       "_model_name": "HTMLModel",
       "_view_count": null,
       "_view_module": "@jupyter-widgets/controls",
       "_view_module_version": "1.5.0",
       "_view_name": "HTMLView",
       "description": "",
       "description_tooltip": null,
       "layout": "IPY_MODEL_081e174a6a6c4a17a447737ec36658df",
       "placeholder": "​",
       "style": "IPY_MODEL_e86d7a6c8bae432481517f62a02585ad",
       "value": "Batches: 100%"
      }
     },
     "18c38fded058444a9a1c5c831b63dabb": {
      "model_module": "@jupyter-widgets/controls",
      "model_module_version": "1.5.0",
      "model_name": "FloatProgressModel",
      "state": {
       "_dom_classes": [],
       "_model_module": "@jupyter-widgets/controls",
       "_model_module_version": "1.5.0",
       "_model_name": "FloatProgressModel",
       "_view_count": null,
       "_view_module": "@jupyter-widgets/controls",
       "_view_module_version": "1.5.0",
       "_view_name": "ProgressView",
       "bar_style": "success",
       "description": "",
       "description_tooltip": null,
       "layout": "IPY_MODEL_047d6ef257ea46b380e3501ec9c09563",
       "max": 1,
       "min": 0,
       "orientation": "horizontal",
       "style": "IPY_MODEL_8a7b933183f5428498f6d2ba8a47f592",
       "value": 1
      }
     },
     "25e414e596994e25b8f5e9a23bc9d79e": {
      "model_module": "@jupyter-widgets/controls",
      "model_module_version": "1.5.0",
      "model_name": "ProgressStyleModel",
      "state": {
       "_model_module": "@jupyter-widgets/controls",
       "_model_module_version": "1.5.0",
       "_model_name": "ProgressStyleModel",
       "_view_count": null,
       "_view_module": "@jupyter-widgets/base",
       "_view_module_version": "1.2.0",
       "_view_name": "StyleView",
       "bar_color": null,
       "description_width": ""
      }
     },
     "6d4b444ef24b44f8a3c2dfe4f1259f01": {
      "model_module": "@jupyter-widgets/controls",
      "model_module_version": "1.5.0",
      "model_name": "DescriptionStyleModel",
      "state": {
       "_model_module": "@jupyter-widgets/controls",
       "_model_module_version": "1.5.0",
       "_model_name": "DescriptionStyleModel",
       "_view_count": null,
       "_view_module": "@jupyter-widgets/base",
       "_view_module_version": "1.2.0",
       "_view_name": "StyleView",
       "description_width": ""
      }
     },
     "8a7b933183f5428498f6d2ba8a47f592": {
      "model_module": "@jupyter-widgets/controls",
      "model_module_version": "1.5.0",
      "model_name": "ProgressStyleModel",
      "state": {
       "_model_module": "@jupyter-widgets/controls",
       "_model_module_version": "1.5.0",
       "_model_name": "ProgressStyleModel",
       "_view_count": null,
       "_view_module": "@jupyter-widgets/base",
       "_view_module_version": "1.2.0",
       "_view_name": "StyleView",
       "bar_color": null,
       "description_width": ""
      }
     },
     "8ee7e29db318404f8a3282c614602250": {
      "model_module": "@jupyter-widgets/base",
      "model_module_version": "1.2.0",
      "model_name": "LayoutModel",
      "state": {
       "_model_module": "@jupyter-widgets/base",
       "_model_module_version": "1.2.0",
       "_model_name": "LayoutModel",
       "_view_count": null,
       "_view_module": "@jupyter-widgets/base",
       "_view_module_version": "1.2.0",
       "_view_name": "LayoutView",
       "align_content": null,
       "align_items": null,
       "align_self": null,
       "border": null,
       "bottom": null,
       "display": null,
       "flex": null,
       "flex_flow": null,
       "grid_area": null,
       "grid_auto_columns": null,
       "grid_auto_flow": null,
       "grid_auto_rows": null,
       "grid_column": null,
       "grid_gap": null,
       "grid_row": null,
       "grid_template_areas": null,
       "grid_template_columns": null,
       "grid_template_rows": null,
       "height": null,
       "justify_content": null,
       "justify_items": null,
       "left": null,
       "margin": null,
       "max_height": null,
       "max_width": null,
       "min_height": null,
       "min_width": null,
       "object_fit": null,
       "object_position": null,
       "order": null,
       "overflow": null,
       "overflow_x": null,
       "overflow_y": null,
       "padding": null,
       "right": null,
       "top": null,
       "visibility": null,
       "width": null
      }
     },
     "8f5ca2a9d06a4cf2a627e2a5d7531667": {
      "model_module": "@jupyter-widgets/controls",
      "model_module_version": "1.5.0",
      "model_name": "HTMLModel",
      "state": {
       "_dom_classes": [],
       "_model_module": "@jupyter-widgets/controls",
       "_model_module_version": "1.5.0",
       "_model_name": "HTMLModel",
       "_view_count": null,
       "_view_module": "@jupyter-widgets/controls",
       "_view_module_version": "1.5.0",
       "_view_name": "HTMLView",
       "description": "",
       "description_tooltip": null,
       "layout": "IPY_MODEL_cd14b1b593c64bfeabfc58c1e4578422",
       "placeholder": "​",
       "style": "IPY_MODEL_6d4b444ef24b44f8a3c2dfe4f1259f01",
       "value": " 1/1 [00:01&lt;00:00,  1.04s/it]"
      }
     },
     "9da153fc95294cb8bb799c149c5673ec": {
      "model_module": "@jupyter-widgets/base",
      "model_module_version": "1.2.0",
      "model_name": "LayoutModel",
      "state": {
       "_model_module": "@jupyter-widgets/base",
       "_model_module_version": "1.2.0",
       "_model_name": "LayoutModel",
       "_view_count": null,
       "_view_module": "@jupyter-widgets/base",
       "_view_module_version": "1.2.0",
       "_view_name": "LayoutView",
       "align_content": null,
       "align_items": null,
       "align_self": null,
       "border": null,
       "bottom": null,
       "display": null,
       "flex": null,
       "flex_flow": null,
       "grid_area": null,
       "grid_auto_columns": null,
       "grid_auto_flow": null,
       "grid_auto_rows": null,
       "grid_column": null,
       "grid_gap": null,
       "grid_row": null,
       "grid_template_areas": null,
       "grid_template_columns": null,
       "grid_template_rows": null,
       "height": null,
       "justify_content": null,
       "justify_items": null,
       "left": null,
       "margin": null,
       "max_height": null,
       "max_width": null,
       "min_height": null,
       "min_width": null,
       "object_fit": null,
       "object_position": null,
       "order": null,
       "overflow": null,
       "overflow_x": null,
       "overflow_y": null,
       "padding": null,
       "right": null,
       "top": null,
       "visibility": null,
       "width": null
      }
     },
     "a27474461aa54dd9bd7c108310940bee": {
      "model_module": "@jupyter-widgets/base",
      "model_module_version": "1.2.0",
      "model_name": "LayoutModel",
      "state": {
       "_model_module": "@jupyter-widgets/base",
       "_model_module_version": "1.2.0",
       "_model_name": "LayoutModel",
       "_view_count": null,
       "_view_module": "@jupyter-widgets/base",
       "_view_module_version": "1.2.0",
       "_view_name": "LayoutView",
       "align_content": null,
       "align_items": null,
       "align_self": null,
       "border": null,
       "bottom": null,
       "display": null,
       "flex": null,
       "flex_flow": null,
       "grid_area": null,
       "grid_auto_columns": null,
       "grid_auto_flow": null,
       "grid_auto_rows": null,
       "grid_column": null,
       "grid_gap": null,
       "grid_row": null,
       "grid_template_areas": null,
       "grid_template_columns": null,
       "grid_template_rows": null,
       "height": null,
       "justify_content": null,
       "justify_items": null,
       "left": null,
       "margin": null,
       "max_height": null,
       "max_width": null,
       "min_height": null,
       "min_width": null,
       "object_fit": null,
       "object_position": null,
       "order": null,
       "overflow": null,
       "overflow_x": null,
       "overflow_y": null,
       "padding": null,
       "right": null,
       "top": null,
       "visibility": null,
       "width": null
      }
     },
     "a31a56699d58417f93f3d895845f1897": {
      "model_module": "@jupyter-widgets/controls",
      "model_module_version": "1.5.0",
      "model_name": "DescriptionStyleModel",
      "state": {
       "_model_module": "@jupyter-widgets/controls",
       "_model_module_version": "1.5.0",
       "_model_name": "DescriptionStyleModel",
       "_view_count": null,
       "_view_module": "@jupyter-widgets/base",
       "_view_module_version": "1.2.0",
       "_view_name": "StyleView",
       "description_width": ""
      }
     },
     "bcd0f0f094804276918a98b14bed08ea": {
      "model_module": "@jupyter-widgets/controls",
      "model_module_version": "1.5.0",
      "model_name": "FloatProgressModel",
      "state": {
       "_dom_classes": [],
       "_model_module": "@jupyter-widgets/controls",
       "_model_module_version": "1.5.0",
       "_model_name": "FloatProgressModel",
       "_view_count": null,
       "_view_module": "@jupyter-widgets/controls",
       "_view_module_version": "1.5.0",
       "_view_name": "ProgressView",
       "bar_style": "success",
       "description": "",
       "description_tooltip": null,
       "layout": "IPY_MODEL_e26cb3dfadf34d74a8baa7c5f3796402",
       "max": 81,
       "min": 0,
       "orientation": "horizontal",
       "style": "IPY_MODEL_25e414e596994e25b8f5e9a23bc9d79e",
       "value": 81
      }
     },
     "c53990119a324508bb5c3538b7d0f427": {
      "model_module": "@jupyter-widgets/controls",
      "model_module_version": "1.5.0",
      "model_name": "HTMLModel",
      "state": {
       "_dom_classes": [],
       "_model_module": "@jupyter-widgets/controls",
       "_model_module_version": "1.5.0",
       "_model_name": "HTMLModel",
       "_view_count": null,
       "_view_module": "@jupyter-widgets/controls",
       "_view_module_version": "1.5.0",
       "_view_name": "HTMLView",
       "description": "",
       "description_tooltip": null,
       "layout": "IPY_MODEL_a27474461aa54dd9bd7c108310940bee",
       "placeholder": "​",
       "style": "IPY_MODEL_d143e713af2241d990c09b1bb53d8dae",
       "value": " 81/81 [00:06&lt;00:00, 18.69it/s]"
      }
     },
     "c704c78b160942da948cb7969e1dccc2": {
      "model_module": "@jupyter-widgets/controls",
      "model_module_version": "1.5.0",
      "model_name": "HBoxModel",
      "state": {
       "_dom_classes": [],
       "_model_module": "@jupyter-widgets/controls",
       "_model_module_version": "1.5.0",
       "_model_name": "HBoxModel",
       "_view_count": null,
       "_view_module": "@jupyter-widgets/controls",
       "_view_module_version": "1.5.0",
       "_view_name": "HBoxView",
       "box_style": "",
       "children": [
        "IPY_MODEL_13cf085284d4419cae7090365e5f18c5",
        "IPY_MODEL_18c38fded058444a9a1c5c831b63dabb",
        "IPY_MODEL_8f5ca2a9d06a4cf2a627e2a5d7531667"
       ],
       "layout": "IPY_MODEL_9da153fc95294cb8bb799c149c5673ec"
      }
     },
     "c93f8111bfcc4dfbba1bba7183af6cb9": {
      "model_module": "@jupyter-widgets/controls",
      "model_module_version": "1.5.0",
      "model_name": "HTMLModel",
      "state": {
       "_dom_classes": [],
       "_model_module": "@jupyter-widgets/controls",
       "_model_module_version": "1.5.0",
       "_model_name": "HTMLModel",
       "_view_count": null,
       "_view_module": "@jupyter-widgets/controls",
       "_view_module_version": "1.5.0",
       "_view_name": "HTMLView",
       "description": "",
       "description_tooltip": null,
       "layout": "IPY_MODEL_d106967ffa0f4c3da6fec246cc10007a",
       "placeholder": "​",
       "style": "IPY_MODEL_a31a56699d58417f93f3d895845f1897",
       "value": "Batches: 100%"
      }
     },
     "cd14b1b593c64bfeabfc58c1e4578422": {
      "model_module": "@jupyter-widgets/base",
      "model_module_version": "1.2.0",
      "model_name": "LayoutModel",
      "state": {
       "_model_module": "@jupyter-widgets/base",
       "_model_module_version": "1.2.0",
       "_model_name": "LayoutModel",
       "_view_count": null,
       "_view_module": "@jupyter-widgets/base",
       "_view_module_version": "1.2.0",
       "_view_name": "LayoutView",
       "align_content": null,
       "align_items": null,
       "align_self": null,
       "border": null,
       "bottom": null,
       "display": null,
       "flex": null,
       "flex_flow": null,
       "grid_area": null,
       "grid_auto_columns": null,
       "grid_auto_flow": null,
       "grid_auto_rows": null,
       "grid_column": null,
       "grid_gap": null,
       "grid_row": null,
       "grid_template_areas": null,
       "grid_template_columns": null,
       "grid_template_rows": null,
       "height": null,
       "justify_content": null,
       "justify_items": null,
       "left": null,
       "margin": null,
       "max_height": null,
       "max_width": null,
       "min_height": null,
       "min_width": null,
       "object_fit": null,
       "object_position": null,
       "order": null,
       "overflow": null,
       "overflow_x": null,
       "overflow_y": null,
       "padding": null,
       "right": null,
       "top": null,
       "visibility": null,
       "width": null
      }
     },
     "d106967ffa0f4c3da6fec246cc10007a": {
      "model_module": "@jupyter-widgets/base",
      "model_module_version": "1.2.0",
      "model_name": "LayoutModel",
      "state": {
       "_model_module": "@jupyter-widgets/base",
       "_model_module_version": "1.2.0",
       "_model_name": "LayoutModel",
       "_view_count": null,
       "_view_module": "@jupyter-widgets/base",
       "_view_module_version": "1.2.0",
       "_view_name": "LayoutView",
       "align_content": null,
       "align_items": null,
       "align_self": null,
       "border": null,
       "bottom": null,
       "display": null,
       "flex": null,
       "flex_flow": null,
       "grid_area": null,
       "grid_auto_columns": null,
       "grid_auto_flow": null,
       "grid_auto_rows": null,
       "grid_column": null,
       "grid_gap": null,
       "grid_row": null,
       "grid_template_areas": null,
       "grid_template_columns": null,
       "grid_template_rows": null,
       "height": null,
       "justify_content": null,
       "justify_items": null,
       "left": null,
       "margin": null,
       "max_height": null,
       "max_width": null,
       "min_height": null,
       "min_width": null,
       "object_fit": null,
       "object_position": null,
       "order": null,
       "overflow": null,
       "overflow_x": null,
       "overflow_y": null,
       "padding": null,
       "right": null,
       "top": null,
       "visibility": null,
       "width": null
      }
     },
     "d143e713af2241d990c09b1bb53d8dae": {
      "model_module": "@jupyter-widgets/controls",
      "model_module_version": "1.5.0",
      "model_name": "DescriptionStyleModel",
      "state": {
       "_model_module": "@jupyter-widgets/controls",
       "_model_module_version": "1.5.0",
       "_model_name": "DescriptionStyleModel",
       "_view_count": null,
       "_view_module": "@jupyter-widgets/base",
       "_view_module_version": "1.2.0",
       "_view_name": "StyleView",
       "description_width": ""
      }
     },
     "e26cb3dfadf34d74a8baa7c5f3796402": {
      "model_module": "@jupyter-widgets/base",
      "model_module_version": "1.2.0",
      "model_name": "LayoutModel",
      "state": {
       "_model_module": "@jupyter-widgets/base",
       "_model_module_version": "1.2.0",
       "_model_name": "LayoutModel",
       "_view_count": null,
       "_view_module": "@jupyter-widgets/base",
       "_view_module_version": "1.2.0",
       "_view_name": "LayoutView",
       "align_content": null,
       "align_items": null,
       "align_self": null,
       "border": null,
       "bottom": null,
       "display": null,
       "flex": null,
       "flex_flow": null,
       "grid_area": null,
       "grid_auto_columns": null,
       "grid_auto_flow": null,
       "grid_auto_rows": null,
       "grid_column": null,
       "grid_gap": null,
       "grid_row": null,
       "grid_template_areas": null,
       "grid_template_columns": null,
       "grid_template_rows": null,
       "height": null,
       "justify_content": null,
       "justify_items": null,
       "left": null,
       "margin": null,
       "max_height": null,
       "max_width": null,
       "min_height": null,
       "min_width": null,
       "object_fit": null,
       "object_position": null,
       "order": null,
       "overflow": null,
       "overflow_x": null,
       "overflow_y": null,
       "padding": null,
       "right": null,
       "top": null,
       "visibility": null,
       "width": null
      }
     },
     "e86d7a6c8bae432481517f62a02585ad": {
      "model_module": "@jupyter-widgets/controls",
      "model_module_version": "1.5.0",
      "model_name": "DescriptionStyleModel",
      "state": {
       "_model_module": "@jupyter-widgets/controls",
       "_model_module_version": "1.5.0",
       "_model_name": "DescriptionStyleModel",
       "_view_count": null,
       "_view_module": "@jupyter-widgets/base",
       "_view_module_version": "1.2.0",
       "_view_name": "StyleView",
       "description_width": ""
      }
     }
    },
    "version_major": 2,
    "version_minor": 0
   }
  }
 },
 "nbformat": 4,
 "nbformat_minor": 5
}
