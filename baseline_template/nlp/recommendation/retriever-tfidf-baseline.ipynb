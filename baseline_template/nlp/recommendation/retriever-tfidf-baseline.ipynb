{
 "cells": [
  {
   "cell_type": "markdown",
   "id": "71acc131",
   "metadata": {
    "papermill": {
     "duration": 0.011532,
     "end_time": "2024-09-14T01:45:57.074016",
     "exception": false,
     "start_time": "2024-09-14T01:45:57.062484",
     "status": "completed"
    },
    "tags": []
   },
   "source": [
    "# Overview\n",
    "In this notebook, `ConstructName` + `SubjectName` + `QuestionText` and `Answer[A-D]Text` are vectorized using TFIDF, and those with high cosine similarity are submitted as inference results.\n",
    "\n",
    "- MAP@25: 0.1378\n",
    "- recall: 0.4530\n",
    "\n",
    "Please let me know if there are any mistakes."
   ]
  },
  {
   "cell_type": "markdown",
   "id": "82cc8a91",
   "metadata": {},
   "source": [
    "# Setting"
   ]
  },
  {
   "cell_type": "code",
   "execution_count": 117,
   "id": "6c063a5a",
   "metadata": {},
   "outputs": [],
   "source": [
    "EXP_NAME = \"e001-ret-tfidf\"\n",
    "DATA_PATH = \"../../data\"\n",
    "\n",
    "DATA_OUTPUT_PATH = \"../../retrieved_data\"\n",
    "\n",
    "DATASET_NAME = EXP_NAME\n",
    "MODEL_OUTPUT_PATH = (\n",
    "    \"../../eedi-mining-misconceptions-in-mathematics/trained_models/retriever/e001\"\n",
    ")\n",
    "\n",
    "RETRIEVE_NUM = 25  # TODO: 多くしてみる"
   ]
  },
  {
   "cell_type": "markdown",
   "id": "27e26266",
   "metadata": {
    "papermill": {
     "duration": 0.010544,
     "end_time": "2024-09-14T01:45:57.095623",
     "exception": false,
     "start_time": "2024-09-14T01:45:57.085079",
     "status": "completed"
    },
    "tags": []
   },
   "source": [
    "# Import"
   ]
  },
  {
   "cell_type": "code",
   "execution_count": 118,
   "id": "e5c0dbcc",
   "metadata": {
    "_cell_guid": "b1076dfc-b9ad-4769-8c92-a6c4dae69d19",
    "_uuid": "8f2839f25d086af736a60e9eeb907d3b93b6e0e5",
    "execution": {
     "iopub.execute_input": "2024-09-14T01:45:57.119081Z",
     "iopub.status.busy": "2024-09-14T01:45:57.118643Z",
     "iopub.status.idle": "2024-09-14T01:45:59.534275Z",
     "shell.execute_reply": "2024-09-14T01:45:59.532994Z"
    },
    "papermill": {
     "duration": 2.430721,
     "end_time": "2024-09-14T01:45:59.537229",
     "exception": false,
     "start_time": "2024-09-14T01:45:57.106508",
     "status": "completed"
    },
    "tags": []
   },
   "outputs": [],
   "source": [
    "import polars as pl\n",
    "import numpy as np\n",
    "\n",
    "from sklearn.feature_extraction.text import TfidfVectorizer\n",
    "from sklearn.metrics.pairwise import cosine_similarity"
   ]
  },
  {
   "cell_type": "markdown",
   "id": "5a32e060",
   "metadata": {
    "papermill": {
     "duration": 0.011076,
     "end_time": "2024-09-14T01:45:59.559566",
     "exception": false,
     "start_time": "2024-09-14T01:45:59.548490",
     "status": "completed"
    },
    "tags": []
   },
   "source": [
    "# Data Load"
   ]
  },
  {
   "cell_type": "code",
   "execution_count": 119,
   "id": "3958cd14",
   "metadata": {
    "execution": {
     "iopub.execute_input": "2024-09-14T01:45:59.584553Z",
     "iopub.status.busy": "2024-09-14T01:45:59.583242Z",
     "iopub.status.idle": "2024-09-14T01:45:59.655219Z",
     "shell.execute_reply": "2024-09-14T01:45:59.653998Z"
    },
    "papermill": {
     "duration": 0.087244,
     "end_time": "2024-09-14T01:45:59.658201",
     "exception": false,
     "start_time": "2024-09-14T01:45:59.570957",
     "status": "completed"
    },
    "tags": []
   },
   "outputs": [],
   "source": [
    "train = pl.read_csv(f\"{DATA_PATH}/train.csv\")\n",
    "test = pl.read_csv(f\"{DATA_PATH}/test.csv\")\n",
    "\n",
    "misconception_mapping = pl.read_csv(f\"{DATA_PATH}/misconception_mapping.csv\")\n",
    "sample_submission = pl.read_csv(f\"{DATA_PATH}/sample_submission.csv\")"
   ]
  },
  {
   "cell_type": "markdown",
   "id": "c6c21264",
   "metadata": {
    "papermill": {
     "duration": 0.010552,
     "end_time": "2024-09-14T01:45:59.679936",
     "exception": false,
     "start_time": "2024-09-14T01:45:59.669384",
     "status": "completed"
    },
    "tags": []
   },
   "source": [
    "# Preprocess"
   ]
  },
  {
   "cell_type": "code",
   "execution_count": 121,
   "id": "8b785134",
   "metadata": {
    "execution": {
     "iopub.execute_input": "2024-09-14T01:45:59.748361Z",
     "iopub.status.busy": "2024-09-14T01:45:59.747260Z",
     "iopub.status.idle": "2024-09-14T01:45:59.783052Z",
     "shell.execute_reply": "2024-09-14T01:45:59.781736Z"
    },
    "papermill": {
     "duration": 0.051291,
     "end_time": "2024-09-14T01:45:59.785946",
     "exception": false,
     "start_time": "2024-09-14T01:45:59.734655",
     "status": "completed"
    },
    "tags": []
   },
   "outputs": [
    {
     "data": {
      "text/html": [
       "<div><style>\n",
       ".dataframe > thead > tr,\n",
       ".dataframe > tbody > tr {\n",
       "  text-align: right;\n",
       "  white-space: pre-wrap;\n",
       "}\n",
       "</style>\n",
       "<small>shape: (5, 10)</small><table border=\"1\" class=\"dataframe\"><thead><tr><th>QuestionId</th><th>ConstructName</th><th>SubjectName</th><th>QuestionText</th><th>CorrectAnswer</th><th>AnswerType</th><th>AnswerText</th><th>AllText</th><th>AnswerAlphabet</th><th>QuestionId_Answer</th></tr><tr><td>i64</td><td>str</td><td>str</td><td>str</td><td>str</td><td>str</td><td>str</td><td>str</td><td>str</td><td>str</td></tr></thead><tbody><tr><td>0</td><td>&quot;Use the order of operations to…</td><td>&quot;BIDMAS&quot;</td><td>&quot;\\[\n",
       "3 \\times 2+4-5\n",
       "\\]\n",
       "Where do …</td><td>&quot;A&quot;</td><td>&quot;AnswerAText&quot;</td><td>&quot;\\( 3 \\times(2+4)-5 \\)&quot;</td><td>&quot;Use the order of operations to…</td><td>&quot;A&quot;</td><td>&quot;0_A&quot;</td></tr><tr><td>0</td><td>&quot;Use the order of operations to…</td><td>&quot;BIDMAS&quot;</td><td>&quot;\\[\n",
       "3 \\times 2+4-5\n",
       "\\]\n",
       "Where do …</td><td>&quot;A&quot;</td><td>&quot;AnswerBText&quot;</td><td>&quot;\\( 3 \\times 2+(4-5) \\)&quot;</td><td>&quot;Use the order of operations to…</td><td>&quot;B&quot;</td><td>&quot;0_B&quot;</td></tr><tr><td>0</td><td>&quot;Use the order of operations to…</td><td>&quot;BIDMAS&quot;</td><td>&quot;\\[\n",
       "3 \\times 2+4-5\n",
       "\\]\n",
       "Where do …</td><td>&quot;A&quot;</td><td>&quot;AnswerCText&quot;</td><td>&quot;\\( 3 \\times(2+4-5) \\)&quot;</td><td>&quot;Use the order of operations to…</td><td>&quot;C&quot;</td><td>&quot;0_C&quot;</td></tr><tr><td>0</td><td>&quot;Use the order of operations to…</td><td>&quot;BIDMAS&quot;</td><td>&quot;\\[\n",
       "3 \\times 2+4-5\n",
       "\\]\n",
       "Where do …</td><td>&quot;A&quot;</td><td>&quot;AnswerDText&quot;</td><td>&quot;Does not need brackets&quot;</td><td>&quot;Use the order of operations to…</td><td>&quot;D&quot;</td><td>&quot;0_D&quot;</td></tr><tr><td>1000</td><td>&quot;Simplify an algebraic fraction…</td><td>&quot;Simplifying Algebraic Fraction…</td><td>&quot;Simplify the following, if pos…</td><td>&quot;B&quot;</td><td>&quot;AnswerAText&quot;</td><td>&quot;\\( t \\)&quot;</td><td>&quot;Simplify an algebraic fraction…</td><td>&quot;A&quot;</td><td>&quot;1000_A&quot;</td></tr></tbody></table></div>"
      ],
      "text/plain": [
       "shape: (5, 10)\n",
       "┌───────────┬───────────┬───────────┬───────────┬───┬───────────┬───────────┬───────────┬──────────┐\n",
       "│ QuestionI ┆ Construct ┆ SubjectNa ┆ QuestionT ┆ … ┆ AnswerTex ┆ AllText   ┆ AnswerAlp ┆ Question │\n",
       "│ d         ┆ Name      ┆ me        ┆ ext       ┆   ┆ t         ┆ ---       ┆ habet     ┆ Id_Answe │\n",
       "│ ---       ┆ ---       ┆ ---       ┆ ---       ┆   ┆ ---       ┆ str       ┆ ---       ┆ r        │\n",
       "│ i64       ┆ str       ┆ str       ┆ str       ┆   ┆ str       ┆           ┆ str       ┆ ---      │\n",
       "│           ┆           ┆           ┆           ┆   ┆           ┆           ┆           ┆ str      │\n",
       "╞═══════════╪═══════════╪═══════════╪═══════════╪═══╪═══════════╪═══════════╪═══════════╪══════════╡\n",
       "│ 0         ┆ Use the   ┆ BIDMAS    ┆ \\[        ┆ … ┆ \\( 3 \\tim ┆ Use the   ┆ A         ┆ 0_A      │\n",
       "│           ┆ order of  ┆           ┆ 3 \\times  ┆   ┆ es(2+4)-5 ┆ order of  ┆           ┆          │\n",
       "│           ┆ operation ┆           ┆ 2+4-5     ┆   ┆ \\)        ┆ operation ┆           ┆          │\n",
       "│           ┆ s to…     ┆           ┆ \\]        ┆   ┆           ┆ s to…     ┆           ┆          │\n",
       "│           ┆           ┆           ┆ Where do  ┆   ┆           ┆           ┆           ┆          │\n",
       "│           ┆           ┆           ┆ …         ┆   ┆           ┆           ┆           ┆          │\n",
       "│ 0         ┆ Use the   ┆ BIDMAS    ┆ \\[        ┆ … ┆ \\( 3      ┆ Use the   ┆ B         ┆ 0_B      │\n",
       "│           ┆ order of  ┆           ┆ 3 \\times  ┆   ┆ \\times    ┆ order of  ┆           ┆          │\n",
       "│           ┆ operation ┆           ┆ 2+4-5     ┆   ┆ 2+(4-5)   ┆ operation ┆           ┆          │\n",
       "│           ┆ s to…     ┆           ┆ \\]        ┆   ┆ \\)        ┆ s to…     ┆           ┆          │\n",
       "│           ┆           ┆           ┆ Where do  ┆   ┆           ┆           ┆           ┆          │\n",
       "│           ┆           ┆           ┆ …         ┆   ┆           ┆           ┆           ┆          │\n",
       "│ 0         ┆ Use the   ┆ BIDMAS    ┆ \\[        ┆ … ┆ \\( 3 \\tim ┆ Use the   ┆ C         ┆ 0_C      │\n",
       "│           ┆ order of  ┆           ┆ 3 \\times  ┆   ┆ es(2+4-5) ┆ order of  ┆           ┆          │\n",
       "│           ┆ operation ┆           ┆ 2+4-5     ┆   ┆ \\)        ┆ operation ┆           ┆          │\n",
       "│           ┆ s to…     ┆           ┆ \\]        ┆   ┆           ┆ s to…     ┆           ┆          │\n",
       "│           ┆           ┆           ┆ Where do  ┆   ┆           ┆           ┆           ┆          │\n",
       "│           ┆           ┆           ┆ …         ┆   ┆           ┆           ┆           ┆          │\n",
       "│ 0         ┆ Use the   ┆ BIDMAS    ┆ \\[        ┆ … ┆ Does not  ┆ Use the   ┆ D         ┆ 0_D      │\n",
       "│           ┆ order of  ┆           ┆ 3 \\times  ┆   ┆ need      ┆ order of  ┆           ┆          │\n",
       "│           ┆ operation ┆           ┆ 2+4-5     ┆   ┆ brackets  ┆ operation ┆           ┆          │\n",
       "│           ┆ s to…     ┆           ┆ \\]        ┆   ┆           ┆ s to…     ┆           ┆          │\n",
       "│           ┆           ┆           ┆ Where do  ┆   ┆           ┆           ┆           ┆          │\n",
       "│           ┆           ┆           ┆ …         ┆   ┆           ┆           ┆           ┆          │\n",
       "│ 1000      ┆ Simplify  ┆ Simplifyi ┆ Simplify  ┆ … ┆ \\( t \\)   ┆ Simplify  ┆ A         ┆ 1000_A   │\n",
       "│           ┆ an        ┆ ng        ┆ the follo ┆   ┆           ┆ an        ┆           ┆          │\n",
       "│           ┆ algebraic ┆ Algebraic ┆ wing, if  ┆   ┆           ┆ algebraic ┆           ┆          │\n",
       "│           ┆ fraction… ┆ Fraction… ┆ pos…      ┆   ┆           ┆ fraction… ┆           ┆          │\n",
       "└───────────┴───────────┴───────────┴───────────┴───┴───────────┴───────────┴───────────┴──────────┘"
      ]
     },
     "execution_count": 121,
     "metadata": {},
     "output_type": "execute_result"
    }
   ],
   "source": [
    "common_col = [\n",
    "    \"QuestionId\",\n",
    "    \"ConstructName\",\n",
    "    \"SubjectName\",\n",
    "    \"QuestionText\",\n",
    "    \"CorrectAnswer\",\n",
    "]\n",
    "\n",
    "train_long = (\n",
    "    pl.read_csv(f\"{DATA_PATH}/train.csv\")\n",
    "    .select(\n",
    "        pl.col(common_col + [f\"Answer{alpha}Text\" for alpha in [\"A\", \"B\", \"C\", \"D\"]])\n",
    "    )\n",
    "    .unpivot(\n",
    "        index=common_col,\n",
    "        variable_name=\"AnswerType\",\n",
    "        value_name=\"AnswerText\",\n",
    "    )\n",
    "    .with_columns(\n",
    "        pl.concat_str(\n",
    "            [\n",
    "                pl.col(\"ConstructName\"),\n",
    "                pl.col(\"SubjectName\"),\n",
    "                pl.col(\"QuestionText\"),\n",
    "                pl.col(\"AnswerText\"),\n",
    "            ],\n",
    "            separator=\" \",\n",
    "        ).alias(\"AllText\"),\n",
    "        pl.col(\"AnswerType\").str.extract(r\"Answer([A-D])Text$\").alias(\"AnswerAlphabet\"),\n",
    "    )\n",
    "    .with_columns(\n",
    "        pl.concat_str(\n",
    "            [pl.col(\"QuestionId\"), pl.col(\"AnswerAlphabet\")], separator=\"_\"\n",
    "        ).alias(\"QuestionId_Answer\"),\n",
    "    )\n",
    "    .sort(\"QuestionId_Answer\")\n",
    ")\n",
    "train_long.head()"
   ]
  },
  {
   "cell_type": "code",
   "execution_count": 122,
   "id": "fff8dcce",
   "metadata": {},
   "outputs": [
    {
     "data": {
      "text/html": [
       "<div><style>\n",
       ".dataframe > thead > tr,\n",
       ".dataframe > tbody > tr {\n",
       "  text-align: right;\n",
       "  white-space: pre-wrap;\n",
       "}\n",
       "</style>\n",
       "<small>shape: (5, 2)</small><table border=\"1\" class=\"dataframe\"><thead><tr><th>QuestionId_Answer</th><th>MisconceptionId</th></tr><tr><td>str</td><td>i64</td></tr></thead><tbody><tr><td>&quot;0_A&quot;</td><td>null</td></tr><tr><td>&quot;0_B&quot;</td><td>null</td></tr><tr><td>&quot;0_C&quot;</td><td>null</td></tr><tr><td>&quot;0_D&quot;</td><td>1672</td></tr><tr><td>&quot;1000_A&quot;</td><td>891</td></tr></tbody></table></div>"
      ],
      "text/plain": [
       "shape: (5, 2)\n",
       "┌───────────────────┬─────────────────┐\n",
       "│ QuestionId_Answer ┆ MisconceptionId │\n",
       "│ ---               ┆ ---             │\n",
       "│ str               ┆ i64             │\n",
       "╞═══════════════════╪═════════════════╡\n",
       "│ 0_A               ┆ null            │\n",
       "│ 0_B               ┆ null            │\n",
       "│ 0_C               ┆ null            │\n",
       "│ 0_D               ┆ 1672            │\n",
       "│ 1000_A            ┆ 891             │\n",
       "└───────────────────┴─────────────────┘"
      ]
     },
     "execution_count": 122,
     "metadata": {},
     "output_type": "execute_result"
    }
   ],
   "source": [
    "train_misconception_long = (\n",
    "    pl.read_csv(f\"{DATA_PATH}/train.csv\")\n",
    "    .select(\n",
    "        pl.col(\n",
    "            common_col + [f\"Misconception{alpha}Id\" for alpha in [\"A\", \"B\", \"C\", \"D\"]]\n",
    "        )\n",
    "    )\n",
    "    .unpivot(\n",
    "        index=common_col,\n",
    "        variable_name=\"MisconceptionType\",\n",
    "        value_name=\"MisconceptionId\",\n",
    "    )\n",
    "    .with_columns(\n",
    "        pl.col(\"MisconceptionType\")\n",
    "        .str.extract(r\"Misconception([A-D])Id$\")\n",
    "        .alias(\"AnswerAlphabet\"),\n",
    "    )\n",
    "    .with_columns(\n",
    "        pl.concat_str(\n",
    "            [pl.col(\"QuestionId\"), pl.col(\"AnswerAlphabet\")], separator=\"_\"\n",
    "        ).alias(\"QuestionId_Answer\"),\n",
    "    )\n",
    "    .sort(\"QuestionId_Answer\")\n",
    "    .select(pl.col([\"QuestionId_Answer\", \"MisconceptionId\"]))\n",
    "    .with_columns(pl.col(\"MisconceptionId\").cast(pl.Int64))\n",
    ")\n",
    "train_misconception_long.head()"
   ]
  },
  {
   "cell_type": "code",
   "execution_count": 123,
   "id": "f1c72715",
   "metadata": {},
   "outputs": [],
   "source": [
    "# join MisconceptionId\n",
    "train_long = train_long.join(train_misconception_long, on=\"QuestionId_Answer\")"
   ]
  },
  {
   "cell_type": "markdown",
   "id": "26d11def",
   "metadata": {
    "papermill": {
     "duration": 0.010829,
     "end_time": "2024-09-14T01:46:00.109663",
     "exception": false,
     "start_time": "2024-09-14T01:46:00.098834",
     "status": "completed"
    },
    "tags": []
   },
   "source": [
    "# Train tfidf"
   ]
  },
  {
   "cell_type": "code",
   "execution_count": 128,
   "id": "bb34e27b",
   "metadata": {
    "execution": {
     "iopub.execute_input": "2024-09-14T01:46:00.133900Z",
     "iopub.status.busy": "2024-09-14T01:46:00.133378Z",
     "iopub.status.idle": "2024-09-14T01:46:00.628494Z",
     "shell.execute_reply": "2024-09-14T01:46:00.627364Z"
    },
    "papermill": {
     "duration": 0.510358,
     "end_time": "2024-09-14T01:46:00.631304",
     "exception": false,
     "start_time": "2024-09-14T01:46:00.120946",
     "status": "completed"
    },
    "tags": []
   },
   "outputs": [],
   "source": [
    "vectorizer = TfidfVectorizer()\n",
    "tfidf_matrix = vectorizer.fit_transform(\n",
    "    pl.concat(\n",
    "        [train_long[\"AllText\"], misconception_mapping[\"MisconceptionName\"]],\n",
    "        how=\"vertical\",\n",
    "    )\n",
    ")"
   ]
  },
  {
   "cell_type": "code",
   "execution_count": 129,
   "id": "166561d6",
   "metadata": {},
   "outputs": [],
   "source": [
    "# save fitted vectorizer\n",
    "import pickle\n",
    "import os\n",
    "\n",
    "# save vectorizer\n",
    "os.makedirs(MODEL_OUTPUT_PATH, exist_ok=True)\n",
    "with open(f\"{MODEL_OUTPUT_PATH}/vectorizer.pkl\", \"wb\") as file:\n",
    "    pickle.dump(vectorizer, file)"
   ]
  },
  {
   "cell_type": "code",
   "execution_count": 130,
   "id": "fd2a1d9c",
   "metadata": {
    "execution": {
     "iopub.execute_input": "2024-09-14T01:46:00.656101Z",
     "iopub.status.busy": "2024-09-14T01:46:00.654921Z",
     "iopub.status.idle": "2024-09-14T01:46:01.379382Z",
     "shell.execute_reply": "2024-09-14T01:46:01.377502Z"
    },
    "papermill": {
     "duration": 0.74008,
     "end_time": "2024-09-14T01:46:01.382606",
     "exception": false,
     "start_time": "2024-09-14T01:46:00.642526",
     "status": "completed"
    },
    "tags": []
   },
   "outputs": [
    {
     "name": "stdout",
     "output_type": "stream",
     "text": [
      "(7476, 3564)\n",
      "(2587, 3564)\n"
     ]
    }
   ],
   "source": [
    "train_long_vec = tfidf_matrix.toarray()[: len(train_long)]\n",
    "misconception_mapping_vec = tfidf_matrix.toarray()[len(train_long) :]\n",
    "\n",
    "print(train_long_vec.shape)\n",
    "print(misconception_mapping_vec.shape)"
   ]
  },
  {
   "cell_type": "code",
   "execution_count": 131,
   "id": "6368fe01",
   "metadata": {},
   "outputs": [],
   "source": [
    "# misconception_mapping_vecを保存する\n",
    "np.save(f\"{MODEL_OUTPUT_PATH}/misconception_mapping_vec.npy\", misconception_mapping_vec)"
   ]
  },
  {
   "cell_type": "code",
   "execution_count": 132,
   "id": "8171be61",
   "metadata": {
    "execution": {
     "iopub.execute_input": "2024-09-14T01:46:01.415427Z",
     "iopub.status.busy": "2024-09-14T01:46:01.414946Z",
     "iopub.status.idle": "2024-09-14T01:46:06.419565Z",
     "shell.execute_reply": "2024-09-14T01:46:06.418520Z"
    },
    "papermill": {
     "duration": 5.023799,
     "end_time": "2024-09-14T01:46:06.422421",
     "exception": false,
     "start_time": "2024-09-14T01:46:01.398622",
     "status": "completed"
    },
    "tags": []
   },
   "outputs": [],
   "source": [
    "train_cos_sim_arr = cosine_similarity(train_long_vec, misconception_mapping_vec)\n",
    "train_sorted_indices = np.argsort(-train_cos_sim_arr, axis=1)"
   ]
  },
  {
   "cell_type": "code",
   "execution_count": 133,
   "id": "3288a590",
   "metadata": {
    "execution": {
     "iopub.execute_input": "2024-09-14T01:46:06.485692Z",
     "iopub.status.busy": "2024-09-14T01:46:06.484542Z",
     "iopub.status.idle": "2024-09-14T01:46:06.493692Z",
     "shell.execute_reply": "2024-09-14T01:46:06.492283Z"
    },
    "papermill": {
     "duration": 0.025202,
     "end_time": "2024-09-14T01:46:06.496371",
     "exception": false,
     "start_time": "2024-09-14T01:46:06.471169",
     "status": "completed"
    },
    "tags": []
   },
   "outputs": [],
   "source": [
    "# example\n",
    "def print_example(df: pl.DataFrame, sorted_indices: np.ndarray, idx: int) -> None:\n",
    "    print(f\"Query idx{idx}\")\n",
    "    print(df[\"AllText\"][idx])\n",
    "    print(\"\\nCos Sim No.1\")\n",
    "    print(misconception_mapping[\"MisconceptionName\"][int(sorted_indices[idx, 0])])\n",
    "    print(\"\\nCos Sim No.2\")\n",
    "    print(misconception_mapping[\"MisconceptionName\"][int(sorted_indices[idx, 1])])"
   ]
  },
  {
   "cell_type": "code",
   "execution_count": 134,
   "id": "0b85607c",
   "metadata": {},
   "outputs": [
    {
     "name": "stdout",
     "output_type": "stream",
     "text": [
      "Query idx0\n",
      "Use the order of operations to carry out calculations involving powers BIDMAS \\[\n",
      "3 \\times 2+4-5\n",
      "\\]\n",
      "Where do the brackets need to go to make the answer equal \\( 13 \\) ? \\( 3 \\times(2+4)-5 \\)\n",
      "\n",
      "Cos Sim No.1\n",
      "Answers order of operations questions with brackets as if the brackets are not there\n",
      "\n",
      "Cos Sim No.2\n",
      "Believes order of operations does not affect the answer to a calculation\n"
     ]
    }
   ],
   "source": [
    "print_example(train_long, train_sorted_indices, 0)"
   ]
  },
  {
   "cell_type": "code",
   "execution_count": 135,
   "id": "1211ff44",
   "metadata": {
    "execution": {
     "iopub.execute_input": "2024-09-14T01:46:06.521580Z",
     "iopub.status.busy": "2024-09-14T01:46:06.521011Z",
     "iopub.status.idle": "2024-09-14T01:46:06.527584Z",
     "shell.execute_reply": "2024-09-14T01:46:06.526276Z"
    },
    "papermill": {
     "duration": 0.022384,
     "end_time": "2024-09-14T01:46:06.530441",
     "exception": false,
     "start_time": "2024-09-14T01:46:06.508057",
     "status": "completed"
    },
    "tags": []
   },
   "outputs": [
    {
     "name": "stdout",
     "output_type": "stream",
     "text": [
      "Query idx1\n",
      "Use the order of operations to carry out calculations involving powers BIDMAS \\[\n",
      "3 \\times 2+4-5\n",
      "\\]\n",
      "Where do the brackets need to go to make the answer equal \\( 13 \\) ? \\( 3 \\times 2+(4-5) \\)\n",
      "\n",
      "Cos Sim No.1\n",
      "Answers order of operations questions with brackets as if the brackets are not there\n",
      "\n",
      "Cos Sim No.2\n",
      "Believes order of operations does not affect the answer to a calculation\n"
     ]
    }
   ],
   "source": [
    "print_example(train_long, train_sorted_indices, 1)"
   ]
  },
  {
   "cell_type": "markdown",
   "id": "7ffe1e2c",
   "metadata": {
    "papermill": {
     "duration": 0.011086,
     "end_time": "2024-09-14T01:46:06.552908",
     "exception": false,
     "start_time": "2024-09-14T01:46:06.541822",
     "status": "completed"
    },
    "tags": []
   },
   "source": [
    "# Evaluate"
   ]
  },
  {
   "cell_type": "code",
   "execution_count": 136,
   "id": "37b5f922",
   "metadata": {
    "execution": {
     "iopub.execute_input": "2024-09-14T01:46:06.579007Z",
     "iopub.status.busy": "2024-09-14T01:46:06.578594Z",
     "iopub.status.idle": "2024-09-14T01:46:06.602802Z",
     "shell.execute_reply": "2024-09-14T01:46:06.601417Z"
    },
    "papermill": {
     "duration": 0.04065,
     "end_time": "2024-09-14T01:46:06.605893",
     "exception": false,
     "start_time": "2024-09-14T01:46:06.565243",
     "status": "completed"
    },
    "tags": []
   },
   "outputs": [],
   "source": [
    "train_long = train_long.with_columns(\n",
    "    pl.Series(train_sorted_indices[:, :RETRIEVE_NUM].tolist()).alias(\n",
    "        \"PredictMisconceptionId\"\n",
    "    )\n",
    ")"
   ]
  },
  {
   "cell_type": "code",
   "execution_count": 137,
   "id": "19b400a0",
   "metadata": {
    "execution": {
     "iopub.execute_input": "2024-09-14T01:46:06.631229Z",
     "iopub.status.busy": "2024-09-14T01:46:06.630809Z",
     "iopub.status.idle": "2024-09-14T01:46:06.638133Z",
     "shell.execute_reply": "2024-09-14T01:46:06.636961Z"
    },
    "papermill": {
     "duration": 0.023321,
     "end_time": "2024-09-14T01:46:06.640719",
     "exception": false,
     "start_time": "2024-09-14T01:46:06.617398",
     "status": "completed"
    },
    "tags": []
   },
   "outputs": [],
   "source": [
    "# https://www.kaggle.com/code/cdeotte/how-to-train-open-book-model-part-1#MAP@3-Metric\n",
    "def map_at_25(predictions, labels):\n",
    "    map_sum = 0\n",
    "    for x, y in zip(predictions, labels):\n",
    "        z = [1 / i if y == j else 0 for i, j in zip(range(1, 26), x)]\n",
    "        map_sum += np.sum(z)\n",
    "    return map_sum / len(predictions)"
   ]
  },
  {
   "cell_type": "code",
   "execution_count": 138,
   "id": "dbd99f42",
   "metadata": {
    "execution": {
     "iopub.execute_input": "2024-09-14T01:46:06.666065Z",
     "iopub.status.busy": "2024-09-14T01:46:06.665606Z",
     "iopub.status.idle": "2024-09-14T01:46:06.762803Z",
     "shell.execute_reply": "2024-09-14T01:46:06.761446Z"
    },
    "papermill": {
     "duration": 0.113621,
     "end_time": "2024-09-14T01:46:06.765721",
     "exception": false,
     "start_time": "2024-09-14T01:46:06.652100",
     "status": "completed"
    },
    "tags": []
   },
   "outputs": [
    {
     "data": {
      "text/plain": [
       "0.13781884858544355"
      ]
     },
     "execution_count": 138,
     "metadata": {},
     "output_type": "execute_result"
    }
   ],
   "source": [
    "map_at_25_score = map_at_25(\n",
    "    train_long.filter(pl.col(\"MisconceptionId\").is_not_null())[\n",
    "        \"PredictMisconceptionId\"\n",
    "    ],\n",
    "    train_long.filter(pl.col(\"MisconceptionId\").is_not_null())[\"MisconceptionId\"],\n",
    ")\n",
    "map_at_25_score"
   ]
  },
  {
   "cell_type": "code",
   "execution_count": 139,
   "id": "1a66afa0",
   "metadata": {
    "execution": {
     "iopub.execute_input": "2024-09-14T01:46:06.790904Z",
     "iopub.status.busy": "2024-09-14T01:46:06.790453Z",
     "iopub.status.idle": "2024-09-14T01:46:06.809203Z",
     "shell.execute_reply": "2024-09-14T01:46:06.807875Z"
    },
    "papermill": {
     "duration": 0.034606,
     "end_time": "2024-09-14T01:46:06.812192",
     "exception": false,
     "start_time": "2024-09-14T01:46:06.777586",
     "status": "completed"
    },
    "tags": []
   },
   "outputs": [
    {
     "data": {
      "text/plain": [
       "0.45308924485125857"
      ]
     },
     "execution_count": 139,
     "metadata": {},
     "output_type": "execute_result"
    }
   ],
   "source": [
    "def recall(predictions, labels):\n",
    "    acc_num = np.sum([1 for x, y in zip(predictions, labels) if y in x])\n",
    "    return acc_num / len(predictions)\n",
    "\n",
    "\n",
    "recall_score = recall(\n",
    "    train_long.filter(pl.col(\"MisconceptionId\").is_not_null())[\n",
    "        \"PredictMisconceptionId\"\n",
    "    ],\n",
    "    train_long.filter(pl.col(\"MisconceptionId\").is_not_null())[\"MisconceptionId\"],\n",
    ")\n",
    "recall_score"
   ]
  },
  {
   "cell_type": "markdown",
   "id": "0657bf3d",
   "metadata": {
    "papermill": {
     "duration": 0.011875,
     "end_time": "2024-09-14T01:46:07.146569",
     "exception": false,
     "start_time": "2024-09-14T01:46:07.134694",
     "status": "completed"
    },
    "tags": []
   },
   "source": [
    "# Make Retrieved Train File"
   ]
  },
  {
   "cell_type": "code",
   "execution_count": 143,
   "id": "297ca4b1",
   "metadata": {},
   "outputs": [
    {
     "data": {
      "text/html": [
       "<div><style>\n",
       ".dataframe > thead > tr,\n",
       ".dataframe > tbody > tr {\n",
       "  text-align: right;\n",
       "  white-space: pre-wrap;\n",
       "}\n",
       "</style>\n",
       "<small>shape: (5, 16)</small><table border=\"1\" class=\"dataframe\"><thead><tr><th>QuestionId</th><th>ConstructName</th><th>SubjectName</th><th>QuestionText</th><th>CorrectAnswer</th><th>AnswerType</th><th>AnswerText</th><th>AllText</th><th>AnswerAlphabet</th><th>QuestionId_Answer</th><th>MisconceptionId</th><th>PredictMisconceptionId</th><th>target</th><th>MisconceptionId_right</th><th>MisconceptionName</th><th>PredictMisconceptionName</th></tr><tr><td>i64</td><td>str</td><td>str</td><td>str</td><td>str</td><td>str</td><td>str</td><td>str</td><td>str</td><td>str</td><td>i64</td><td>i64</td><td>i64</td><td>i64</td><td>str</td><td>str</td></tr></thead><tbody><tr><td>0</td><td>&quot;Use the order of operations to…</td><td>&quot;BIDMAS&quot;</td><td>&quot;\\[\n",
       "3 \\times 2+4-5\n",
       "\\]\n",
       "Where do …</td><td>&quot;A&quot;</td><td>&quot;AnswerDText&quot;</td><td>&quot;Does not need brackets&quot;</td><td>&quot;Use the order of operations to…</td><td>&quot;D&quot;</td><td>&quot;0_D&quot;</td><td>1672</td><td>2488</td><td>0</td><td>2488</td><td>&quot;Answers order of operations qu…</td><td>&quot;Answers order of operations qu…</td></tr><tr><td>0</td><td>&quot;Use the order of operations to…</td><td>&quot;BIDMAS&quot;</td><td>&quot;\\[\n",
       "3 \\times 2+4-5\n",
       "\\]\n",
       "Where do …</td><td>&quot;A&quot;</td><td>&quot;AnswerDText&quot;</td><td>&quot;Does not need brackets&quot;</td><td>&quot;Use the order of operations to…</td><td>&quot;D&quot;</td><td>&quot;0_D&quot;</td><td>1672</td><td>2551</td><td>0</td><td>2551</td><td>&quot;Believes range does not need u…</td><td>&quot;Believes range does not need u…</td></tr><tr><td>0</td><td>&quot;Use the order of operations to…</td><td>&quot;BIDMAS&quot;</td><td>&quot;\\[\n",
       "3 \\times 2+4-5\n",
       "\\]\n",
       "Where do …</td><td>&quot;A&quot;</td><td>&quot;AnswerDText&quot;</td><td>&quot;Does not need brackets&quot;</td><td>&quot;Use the order of operations to…</td><td>&quot;D&quot;</td><td>&quot;0_D&quot;</td><td>1672</td><td>2532</td><td>0</td><td>2532</td><td>&quot;Believes order of operations d…</td><td>&quot;Believes order of operations d…</td></tr><tr><td>0</td><td>&quot;Use the order of operations to…</td><td>&quot;BIDMAS&quot;</td><td>&quot;\\[\n",
       "3 \\times 2+4-5\n",
       "\\]\n",
       "Where do …</td><td>&quot;A&quot;</td><td>&quot;AnswerDText&quot;</td><td>&quot;Does not need brackets&quot;</td><td>&quot;Use the order of operations to…</td><td>&quot;D&quot;</td><td>&quot;0_D&quot;</td><td>1672</td><td>2039</td><td>0</td><td>2039</td><td>&quot;Thinks you need to just add a …</td><td>&quot;Thinks you need to just add a …</td></tr><tr><td>0</td><td>&quot;Use the order of operations to…</td><td>&quot;BIDMAS&quot;</td><td>&quot;\\[\n",
       "3 \\times 2+4-5\n",
       "\\]\n",
       "Where do …</td><td>&quot;A&quot;</td><td>&quot;AnswerDText&quot;</td><td>&quot;Does not need brackets&quot;</td><td>&quot;Use the order of operations to…</td><td>&quot;D&quot;</td><td>&quot;0_D&quot;</td><td>1672</td><td>1872</td><td>0</td><td>1872</td><td>&quot;Believes they only need to mul…</td><td>&quot;Believes they only need to mul…</td></tr></tbody></table></div>"
      ],
      "text/plain": [
       "shape: (5, 16)\n",
       "┌────────────┬────────────┬───────────┬───────────┬───┬────────┬───────────┬───────────┬───────────┐\n",
       "│ QuestionId ┆ ConstructN ┆ SubjectNa ┆ QuestionT ┆ … ┆ target ┆ Misconcep ┆ Misconcep ┆ PredictMi │\n",
       "│ ---        ┆ ame        ┆ me        ┆ ext       ┆   ┆ ---    ┆ tionId_ri ┆ tionName  ┆ sconcepti │\n",
       "│ i64        ┆ ---        ┆ ---       ┆ ---       ┆   ┆ i64    ┆ ght       ┆ ---       ┆ onName    │\n",
       "│            ┆ str        ┆ str       ┆ str       ┆   ┆        ┆ ---       ┆ str       ┆ ---       │\n",
       "│            ┆            ┆           ┆           ┆   ┆        ┆ i64       ┆           ┆ str       │\n",
       "╞════════════╪════════════╪═══════════╪═══════════╪═══╪════════╪═══════════╪═══════════╪═══════════╡\n",
       "│ 0          ┆ Use the    ┆ BIDMAS    ┆ \\[        ┆ … ┆ 0      ┆ 2488      ┆ Answers   ┆ Answers   │\n",
       "│            ┆ order of   ┆           ┆ 3 \\times  ┆   ┆        ┆           ┆ order of  ┆ order of  │\n",
       "│            ┆ operations ┆           ┆ 2+4-5     ┆   ┆        ┆           ┆ operation ┆ operation │\n",
       "│            ┆ to…        ┆           ┆ \\]        ┆   ┆        ┆           ┆ s qu…     ┆ s qu…     │\n",
       "│            ┆            ┆           ┆ Where do  ┆   ┆        ┆           ┆           ┆           │\n",
       "│            ┆            ┆           ┆ …         ┆   ┆        ┆           ┆           ┆           │\n",
       "│ 0          ┆ Use the    ┆ BIDMAS    ┆ \\[        ┆ … ┆ 0      ┆ 2551      ┆ Believes  ┆ Believes  │\n",
       "│            ┆ order of   ┆           ┆ 3 \\times  ┆   ┆        ┆           ┆ range     ┆ range     │\n",
       "│            ┆ operations ┆           ┆ 2+4-5     ┆   ┆        ┆           ┆ does not  ┆ does not  │\n",
       "│            ┆ to…        ┆           ┆ \\]        ┆   ┆        ┆           ┆ need u…   ┆ need u…   │\n",
       "│            ┆            ┆           ┆ Where do  ┆   ┆        ┆           ┆           ┆           │\n",
       "│            ┆            ┆           ┆ …         ┆   ┆        ┆           ┆           ┆           │\n",
       "│ 0          ┆ Use the    ┆ BIDMAS    ┆ \\[        ┆ … ┆ 0      ┆ 2532      ┆ Believes  ┆ Believes  │\n",
       "│            ┆ order of   ┆           ┆ 3 \\times  ┆   ┆        ┆           ┆ order of  ┆ order of  │\n",
       "│            ┆ operations ┆           ┆ 2+4-5     ┆   ┆        ┆           ┆ operation ┆ operation │\n",
       "│            ┆ to…        ┆           ┆ \\]        ┆   ┆        ┆           ┆ s d…      ┆ s d…      │\n",
       "│            ┆            ┆           ┆ Where do  ┆   ┆        ┆           ┆           ┆           │\n",
       "│            ┆            ┆           ┆ …         ┆   ┆        ┆           ┆           ┆           │\n",
       "│ 0          ┆ Use the    ┆ BIDMAS    ┆ \\[        ┆ … ┆ 0      ┆ 2039      ┆ Thinks    ┆ Thinks    │\n",
       "│            ┆ order of   ┆           ┆ 3 \\times  ┆   ┆        ┆           ┆ you need  ┆ you need  │\n",
       "│            ┆ operations ┆           ┆ 2+4-5     ┆   ┆        ┆           ┆ to just   ┆ to just   │\n",
       "│            ┆ to…        ┆           ┆ \\]        ┆   ┆        ┆           ┆ add a …   ┆ add a …   │\n",
       "│            ┆            ┆           ┆ Where do  ┆   ┆        ┆           ┆           ┆           │\n",
       "│            ┆            ┆           ┆ …         ┆   ┆        ┆           ┆           ┆           │\n",
       "│ 0          ┆ Use the    ┆ BIDMAS    ┆ \\[        ┆ … ┆ 0      ┆ 1872      ┆ Believes  ┆ Believes  │\n",
       "│            ┆ order of   ┆           ┆ 3 \\times  ┆   ┆        ┆           ┆ they only ┆ they only │\n",
       "│            ┆ operations ┆           ┆ 2+4-5     ┆   ┆        ┆           ┆ need to   ┆ need to   │\n",
       "│            ┆ to…        ┆           ┆ \\]        ┆   ┆        ┆           ┆ mul…      ┆ mul…      │\n",
       "│            ┆            ┆           ┆ Where do  ┆   ┆        ┆           ┆           ┆           │\n",
       "│            ┆            ┆           ┆ …         ┆   ┆        ┆           ┆           ┆           │\n",
       "└────────────┴────────────┴───────────┴───────────┴───┴────────┴───────────┴───────────┴───────────┘"
      ]
     },
     "execution_count": 143,
     "metadata": {},
     "output_type": "execute_result"
    }
   ],
   "source": [
    "train_retrieved = (\n",
    "    train_long.filter(\n",
    "        pl.col(\n",
    "            \"MisconceptionId\"\n",
    "        ).is_not_null()  # TODO: Consider ways to utilize data where MisconceptionId is NaN.\n",
    "    )\n",
    "    .explode(\"PredictMisconceptionId\")\n",
    "    .with_columns(\n",
    "        (pl.col(\"MisconceptionId\") == pl.col(\"PredictMisconceptionId\"))\n",
    "        .cast(pl.Int64)\n",
    "        .alias(\"target\")\n",
    "    )\n",
    "    .join(\n",
    "        misconception_mapping.with_columns(pl.all().name.prefix(\"Predict\")),\n",
    "        on=\"PredictMisconceptionId\",\n",
    "    )\n",
    ")\n",
    "train_retrieved.head()"
   ]
  },
  {
   "cell_type": "code",
   "execution_count": 144,
   "id": "5fdd7ac6",
   "metadata": {},
   "outputs": [],
   "source": [
    "train_retrieved.write_csv(\n",
    "    f\"{DATA_OUTPUT_PATH}/e001-train_ret{RETRIEVE_NUM}_map{map_at_25_score:.4f}_recall{recall_score:.4f}.csv\",\n",
    ")"
   ]
  },
  {
   "cell_type": "code",
   "execution_count": 145,
   "id": "0f7d6dcf",
   "metadata": {},
   "outputs": [
    {
     "name": "stdout",
     "output_type": "stream",
     "text": [
      "../../retrieved_data/e001-train_ret25_map0.1378_recall0.4531.csv\n"
     ]
    }
   ],
   "source": [
    "print(\n",
    "    f\"{DATA_OUTPUT_PATH}/e001-train_ret{RETRIEVE_NUM}_map{map_at_25_score:.4f}_recall{recall_score:.4f}.csv\"\n",
    ")"
   ]
  },
  {
   "cell_type": "markdown",
   "id": "ffaa7596",
   "metadata": {},
   "source": [
    "# Kaggle Upload"
   ]
  },
  {
   "cell_type": "code",
   "execution_count": 79,
   "id": "f368627a",
   "metadata": {},
   "outputs": [
    {
     "name": "stdout",
     "output_type": "stream",
     "text": [
      "Create Dataset name:e001-ret-tfidf, output_dir:../../eedi-mining-misconceptions-in-mathematics/trained_models/retriever/e001\n"
     ]
    },
    {
     "name": "stdout",
     "output_type": "stream",
     "text": [
      "Starting upload for file vectorizer.pkl\n"
     ]
    },
    {
     "name": "stderr",
     "output_type": "stream",
     "text": [
      "100%|██████████| 69.5k/69.5k [00:00<00:00, 114kB/s]\n"
     ]
    },
    {
     "name": "stdout",
     "output_type": "stream",
     "text": [
      "Upload successful: vectorizer.pkl (70KB)\n",
      "Starting upload for file misconception_mapping_vec.npy\n"
     ]
    },
    {
     "name": "stderr",
     "output_type": "stream",
     "text": [
      "100%|██████████| 70.3M/70.3M [00:03<00:00, 23.3MB/s]"
     ]
    },
    {
     "name": "stdout",
     "output_type": "stream",
     "text": [
      "Upload successful: misconception_mapping_vec.npy (70MB)\n"
     ]
    },
    {
     "name": "stderr",
     "output_type": "stream",
     "text": [
      "\n"
     ]
    }
   ],
   "source": [
    "import os\n",
    "import json\n",
    "\n",
    "from kaggle.api.kaggle_api_extended import KaggleApi\n",
    "\n",
    "\n",
    "def dataset_create_new(dataset_name: str, upload_dir: str):\n",
    "    # if \"_\" in dataset_name:\n",
    "    #     raise ValueError(\"datasetの名称に_の使用は禁止です\")\n",
    "    dataset_metadata = {}\n",
    "    dataset_metadata[\"id\"] = f\"sinchir0/{dataset_name}\"\n",
    "    dataset_metadata[\"licenses\"] = [{\"name\": \"CC0-1.0\"}]\n",
    "    dataset_metadata[\"title\"] = dataset_name\n",
    "    with open(os.path.join(upload_dir, \"dataset-metadata.json\"), \"w\") as f:\n",
    "        json.dump(dataset_metadata, f, indent=4)\n",
    "    api = KaggleApi()\n",
    "    api.authenticate()\n",
    "    api.dataset_create_new(folder=upload_dir, convert_to_csv=False, dir_mode=\"tar\")\n",
    "\n",
    "\n",
    "print(f\"Create Dataset name:{DATASET_NAME}, output_dir:{MODEL_OUTPUT_PATH}\")\n",
    "dataset_create_new(dataset_name=DATASET_NAME, upload_dir=MODEL_OUTPUT_PATH)"
   ]
  },
  {
   "cell_type": "code",
   "execution_count": null,
   "id": "5a0f1c40",
   "metadata": {},
   "outputs": [],
   "source": []
  }
 ],
 "metadata": {
  "kaggle": {
   "accelerator": "none",
   "dataSources": [
    {
     "databundleVersionId": 9551816,
     "sourceId": 82695,
     "sourceType": "competition"
    }
   ],
   "dockerImageVersionId": 30761,
   "isGpuEnabled": false,
   "isInternetEnabled": false,
   "language": "python",
   "sourceType": "notebook"
  },
  "kernelspec": {
   "display_name": "base",
   "language": "python",
   "name": "python3"
  },
  "language_info": {
   "codemirror_mode": {
    "name": "ipython",
    "version": 3
   },
   "file_extension": ".py",
   "mimetype": "text/x-python",
   "name": "python",
   "nbconvert_exporter": "python",
   "pygments_lexer": "ipython3",
   "version": "3.10.14"
  },
  "papermill": {
   "default_parameters": {},
   "duration": 14.614286,
   "end_time": "2024-09-14T01:46:08.075104",
   "environment_variables": {},
   "exception": null,
   "input_path": "__notebook__.ipynb",
   "output_path": "__notebook__.ipynb",
   "parameters": {},
   "start_time": "2024-09-14T01:45:53.460818",
   "version": "2.6.0"
  }
 },
 "nbformat": 4,
 "nbformat_minor": 5
}
