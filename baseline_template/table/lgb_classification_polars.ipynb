{
 "cells": [
  {
   "cell_type": "code",
   "execution_count": 3,
   "metadata": {},
   "outputs": [],
   "source": [
    "import polars as pl\n",
    "import numpy as np\n",
    "\n",
    "from sklearn.model_selection import KFold, train_test_split\n",
    "from sklearn.metrics import roc_auc_score\n",
    "\n",
    "import lightgbm as lgb\n",
    "\n",
    "import seaborn as sns"
   ]
  },
  {
   "cell_type": "code",
   "execution_count": 4,
   "metadata": {},
   "outputs": [
    {
     "data": {
      "text/plain": [
       "'1.17.1'"
      ]
     },
     "execution_count": 4,
     "metadata": {},
     "output_type": "execute_result"
    }
   ],
   "source": [
    "pl.__version__"
   ]
  },
  {
   "cell_type": "code",
   "execution_count": 5,
   "metadata": {},
   "outputs": [
    {
     "data": {
      "text/plain": [
       "'4.5.0'"
      ]
     },
     "execution_count": 5,
     "metadata": {},
     "output_type": "execute_result"
    }
   ],
   "source": [
    "lgb.__version__"
   ]
  },
  {
   "cell_type": "code",
   "execution_count": 8,
   "metadata": {},
   "outputs": [],
   "source": [
    "df = pl.read_csv(\"../../input/train.csv\")"
   ]
  },
  {
   "cell_type": "code",
   "execution_count": 12,
   "metadata": {},
   "outputs": [
    {
     "data": {
      "text/plain": [
       "['PassengerId',\n",
       " 'Survived',\n",
       " 'Pclass',\n",
       " 'Name',\n",
       " 'Sex',\n",
       " 'Age',\n",
       " 'SibSp',\n",
       " 'Parch',\n",
       " 'Ticket',\n",
       " 'Fare',\n",
       " 'Cabin',\n",
       " 'Embarked']"
      ]
     },
     "execution_count": 12,
     "metadata": {},
     "output_type": "execute_result"
    }
   ],
   "source": [
    "df.columns"
   ]
  },
  {
   "cell_type": "code",
   "execution_count": 19,
   "metadata": {},
   "outputs": [],
   "source": [
    "USE_COL = [\"Pclass\", \"Sex\", \"Age\", \"SibSp\", \"Parch\", \"Fare\", \"Embarked\"]\n",
    "CATEGORICAL_FEATURE = [\"Sex\", \"Embarked\"]\n",
    "TARGET_COL = \"Survived\"\n",
    "FOLD_NUM = 5\n",
    "SEED = 42"
   ]
  },
  {
   "cell_type": "code",
   "execution_count": 20,
   "metadata": {},
   "outputs": [],
   "source": [
    "# 学習データとテストデータに分割する\n",
    "train, test = train_test_split(\n",
    "    df,\n",
    "    test_size=0.3,\n",
    "    random_state=SEED,\n",
    "    shuffle=True,\n",
    "    stratify=df.get_column(TARGET_COL),\n",
    ")"
   ]
  },
  {
   "cell_type": "code",
   "execution_count": 21,
   "metadata": {},
   "outputs": [],
   "source": [
    "# Categorical型への変換\n",
    "for cat_col in CATEGORICAL_FEATURE:\n",
    "    train = train.with_columns(pl.col(cat_col).cast(pl.Categorical))\n",
    "\n",
    "    test = test.with_columns(pl.col(cat_col).cast(pl.Categorical))"
   ]
  },
  {
   "cell_type": "code",
   "execution_count": 22,
   "metadata": {},
   "outputs": [],
   "source": [
    "# Foldの作成\n",
    "fold_arr = np.zeros(train.height)\n",
    "fold = KFold(n_splits=FOLD_NUM, shuffle=True, random_state=SEED)\n",
    "\n",
    "for idx, (_, val_idx) in enumerate(fold.split(train)):\n",
    "    fold_arr[val_idx] = idx\n",
    "\n",
    "train = train.with_columns(pl.Series(fold_arr).cast(pl.Int64).alias(\"fold\"))"
   ]
  },
  {
   "cell_type": "code",
   "execution_count": 23,
   "metadata": {},
   "outputs": [],
   "source": [
    "# LightGBMで用いるパラメータを指定\n",
    "params = {\n",
    "    \"objective\": \"binary\",\n",
    "    \"max_depth\": -1,\n",
    "    \"min_data_in_leaf\": 10,  # 1つの葉に入る最小のデータ数\n",
    "    \"num_leaves\": 24,  # 2**max_depthより少し小さめにすると過学習を防げる\n",
    "    \"learning_rate\": 0.01,  # 1回のiterationで学習を進める割合、大きいと学習が早く終わる。小さいと学習は長いが高精度になりやすい。\n",
    "    \"bagging_freq\": 5,  # 指定した回数ごとにbaggingを行う\n",
    "    \"feature_fraction\": 0.9,  # 1回のiterationで利用する特徴量(列方向)の割合\n",
    "    \"bagging_fraction\": 0.8,  # 1回のiterationで利用するデータ(行方向)の割合\n",
    "    \"verbose\": -1,  # 出力するログレベルの変更、-1はFatalなログのみを出力\n",
    "    \"seed\": SEED,  # ランダムシードの固定\n",
    "    \"lambda_l1\": 0.4,  # 正則化のためのパラメータ\n",
    "    \"lambda_l2\": 0.4,  # 正則化のためのパラメータ\n",
    "}"
   ]
  },
  {
   "cell_type": "code",
   "execution_count": 24,
   "metadata": {},
   "outputs": [
    {
     "name": "stdout",
     "output_type": "stream",
     "text": [
      "Start fold 0\n",
      "Training until validation scores don't improve for 100 rounds\n",
      "[100]\ttraining's binary_logloss: 0.427434\tvalid_1's binary_logloss: 0.496271\n",
      "[200]\ttraining's binary_logloss: 0.341521\tvalid_1's binary_logloss: 0.459564\n",
      "[300]\ttraining's binary_logloss: 0.2923\tvalid_1's binary_logloss: 0.454839\n",
      "Early stopping, best iteration is:\n",
      "[282]\ttraining's binary_logloss: 0.299309\tvalid_1's binary_logloss: 0.453808\n",
      "Start fold 1\n",
      "Training until validation scores don't improve for 100 rounds\n",
      "[100]\ttraining's binary_logloss: 0.438975\tvalid_1's binary_logloss: 0.46905\n",
      "[200]\ttraining's binary_logloss: 0.357904\tvalid_1's binary_logloss: 0.424231\n",
      "[300]\ttraining's binary_logloss: 0.310732\tvalid_1's binary_logloss: 0.410972\n",
      "[400]\ttraining's binary_logloss: 0.275321\tvalid_1's binary_logloss: 0.406915\n",
      "[500]\ttraining's binary_logloss: 0.248517\tvalid_1's binary_logloss: 0.403877\n",
      "[600]\ttraining's binary_logloss: 0.227755\tvalid_1's binary_logloss: 0.403621\n",
      "Early stopping, best iteration is:\n",
      "[510]\ttraining's binary_logloss: 0.246178\tvalid_1's binary_logloss: 0.403152\n",
      "Start fold 2\n",
      "Training until validation scores don't improve for 100 rounds\n",
      "[100]\ttraining's binary_logloss: 0.423547\tvalid_1's binary_logloss: 0.509907\n",
      "[200]\ttraining's binary_logloss: 0.335252\tvalid_1's binary_logloss: 0.479021\n",
      "[300]\ttraining's binary_logloss: 0.285357\tvalid_1's binary_logloss: 0.481289\n",
      "Early stopping, best iteration is:\n",
      "[210]\ttraining's binary_logloss: 0.328864\tvalid_1's binary_logloss: 0.477694\n",
      "Start fold 3\n",
      "Training until validation scores don't improve for 100 rounds\n",
      "[100]\ttraining's binary_logloss: 0.449569\tvalid_1's binary_logloss: 0.469735\n",
      "[200]\ttraining's binary_logloss: 0.367819\tvalid_1's binary_logloss: 0.408848\n",
      "[300]\ttraining's binary_logloss: 0.318426\tvalid_1's binary_logloss: 0.3831\n",
      "[400]\ttraining's binary_logloss: 0.281368\tvalid_1's binary_logloss: 0.371819\n",
      "[500]\ttraining's binary_logloss: 0.252899\tvalid_1's binary_logloss: 0.363377\n",
      "[600]\ttraining's binary_logloss: 0.231997\tvalid_1's binary_logloss: 0.363768\n",
      "Early stopping, best iteration is:\n",
      "[541]\ttraining's binary_logloss: 0.243308\tvalid_1's binary_logloss: 0.36306\n",
      "Start fold 4\n",
      "Training until validation scores don't improve for 100 rounds\n",
      "[100]\ttraining's binary_logloss: 0.446539\tvalid_1's binary_logloss: 0.45926\n",
      "[200]\ttraining's binary_logloss: 0.363999\tvalid_1's binary_logloss: 0.382566\n",
      "[300]\ttraining's binary_logloss: 0.315488\tvalid_1's binary_logloss: 0.357156\n",
      "[400]\ttraining's binary_logloss: 0.278687\tvalid_1's binary_logloss: 0.344612\n",
      "[500]\ttraining's binary_logloss: 0.251609\tvalid_1's binary_logloss: 0.340768\n",
      "[600]\ttraining's binary_logloss: 0.231898\tvalid_1's binary_logloss: 0.337803\n",
      "Early stopping, best iteration is:\n",
      "[585]\ttraining's binary_logloss: 0.2347\tvalid_1's binary_logloss: 0.336367\n"
     ]
    }
   ],
   "source": [
    "# テストデータに対する推論、特徴量重要度(後述)を計算するために、モデルを保存するobjectを作成\n",
    "models = []\n",
    "\n",
    "# Cross Validationによる学習の実施\n",
    "for fold in range(FOLD_NUM):\n",
    "    print(f\"Start fold {fold}\")\n",
    "\n",
    "    # foldごとにtrainとvalidに分ける\n",
    "    train_fold = train.filter(pl.col(\"fold\") != fold)\n",
    "    valid_fold = train.filter(pl.col(\"fold\") == fold)\n",
    "\n",
    "    # X(説明変数)とy(目的変数)に分ける\n",
    "    X_train = train_fold.select(USE_COL)\n",
    "    X_valid = valid_fold.select(USE_COL)\n",
    "    y_train = train_fold.select(TARGET_COL)\n",
    "    y_valid = valid_fold.select(TARGET_COL)\n",
    "\n",
    "    # LightGBMが認識可能な形にデータセットを変換\n",
    "    lgb_train = lgb.Dataset(X_train.to_pandas(), y_train.to_pandas())\n",
    "    lgb_eval = lgb.Dataset(\n",
    "        X_valid.to_pandas(), y_valid.to_pandas(), reference=lgb_train\n",
    "    )\n",
    "\n",
    "    # モデルの学習\n",
    "    model = lgb.train(\n",
    "        params,\n",
    "        lgb_train,\n",
    "        num_boost_round=10000,  # 学習のiteration回数\n",
    "        valid_sets=[lgb_train, lgb_eval],\n",
    "        callbacks=[\n",
    "            lgb.early_stopping(\n",
    "                stopping_rounds=100\n",
    "            ),  # Early stopingの回数、binary_loglossが改善しないiterationが100回続いたら学習を止める\n",
    "            lgb.log_evaluation(100),  # 指定したiteration回数ごとにlogを出力する\n",
    "        ],\n",
    "    )\n",
    "\n",
    "    # モデルを保存\n",
    "    models.append([fold, model])"
   ]
  },
  {
   "cell_type": "code",
   "execution_count": 25,
   "metadata": {},
   "outputs": [
    {
     "name": "stdout",
     "output_type": "stream",
     "text": [
      "fold 0 Score: 0.8162997903563942\n",
      "fold 1 Score: 0.8182346109175378\n",
      "fold 2 Score: 0.7776606954689146\n",
      "fold 3 Score: 0.8154761904761904\n",
      "fold 4 Score: 0.8493223491894765\n"
     ]
    }
   ],
   "source": [
    "# 学習データ全体に対する推論結果を保存するobjectを作成\n",
    "oof = np.zeros((len(train)))\n",
    "\n",
    "# foldの値と学習済みモデルを利用し、モデルの評価を行う\n",
    "for fold, model in models:\n",
    "    valid_fold = train.filter(pl.col(\"fold\") == fold)\n",
    "\n",
    "    X_valid = valid_fold.select(USE_COL)\n",
    "    y_valid = valid_fold.select(TARGET_COL)\n",
    "\n",
    "    # validデータに対する推論\n",
    "    y_valid_pred = model.predict(\n",
    "        X_valid.to_pandas(), num_iteration=model.best_iteration\n",
    "    )\n",
    "\n",
    "    y_valid_pred = (y_valid_pred > 0.5).astype(int)\n",
    "\n",
    "    score = roc_auc_score(y_valid, y_valid_pred)\n",
    "    print(f\"fold {fold} Score: {score}\")\n",
    "\n",
    "    is_valid = train.get_column(\"fold\") == fold\n",
    "    oof[is_valid] = y_valid_pred"
   ]
  },
  {
   "cell_type": "code",
   "execution_count": 26,
   "metadata": {},
   "outputs": [
    {
     "data": {
      "text/plain": [
       "<lightgbm.basic.Booster at 0x7fd548bd13f0>"
      ]
     },
     "execution_count": 26,
     "metadata": {},
     "output_type": "execute_result"
    }
   ],
   "source": [
    "model"
   ]
  },
  {
   "cell_type": "code",
   "execution_count": 27,
   "metadata": {},
   "outputs": [
    {
     "ename": "ColumnNotFoundError",
     "evalue": "\"survived\" not found",
     "output_type": "error",
     "traceback": [
      "\u001b[0;31m---------------------------------------------------------------------------\u001b[0m",
      "\u001b[0;31mColumnNotFoundError\u001b[0m                       Traceback (most recent call last)",
      "\u001b[0;32m/var/tmp/ipykernel_20682/1437989215.py\u001b[0m in \u001b[0;36m?\u001b[0;34m()\u001b[0m\n\u001b[0;32m----> 1\u001b[0;31m \u001b[0moof_score\u001b[0m \u001b[0;34m=\u001b[0m \u001b[0mroc_auc_score\u001b[0m\u001b[0;34m(\u001b[0m\u001b[0mtrain\u001b[0m\u001b[0;34m.\u001b[0m\u001b[0mget_column\u001b[0m\u001b[0;34m(\u001b[0m\u001b[0;34m\"survived\"\u001b[0m\u001b[0;34m)\u001b[0m\u001b[0;34m,\u001b[0m \u001b[0moof\u001b[0m\u001b[0;34m)\u001b[0m\u001b[0;34m\u001b[0m\u001b[0;34m\u001b[0m\u001b[0m\n\u001b[0m\u001b[1;32m      2\u001b[0m \u001b[0moof_score\u001b[0m\u001b[0;34m\u001b[0m\u001b[0;34m\u001b[0m\u001b[0m\n",
      "\u001b[0;32m/opt/conda/lib/python3.10/site-packages/polars/dataframe/frame.py\u001b[0m in \u001b[0;36m?\u001b[0;34m(self, name, default)\u001b[0m\n\u001b[1;32m   8208\u001b[0m         \u001b[0;32mtry\u001b[0m\u001b[0;34m:\u001b[0m\u001b[0;34m\u001b[0m\u001b[0;34m\u001b[0m\u001b[0m\n\u001b[1;32m   8209\u001b[0m             \u001b[0;32mreturn\u001b[0m \u001b[0mwrap_s\u001b[0m\u001b[0;34m(\u001b[0m\u001b[0mself\u001b[0m\u001b[0;34m.\u001b[0m\u001b[0m_df\u001b[0m\u001b[0;34m.\u001b[0m\u001b[0mget_column\u001b[0m\u001b[0;34m(\u001b[0m\u001b[0mname\u001b[0m\u001b[0;34m)\u001b[0m\u001b[0;34m)\u001b[0m\u001b[0;34m\u001b[0m\u001b[0;34m\u001b[0m\u001b[0m\n\u001b[1;32m   8210\u001b[0m         \u001b[0;32mexcept\u001b[0m \u001b[0mColumnNotFoundError\u001b[0m\u001b[0;34m:\u001b[0m\u001b[0;34m\u001b[0m\u001b[0;34m\u001b[0m\u001b[0m\n\u001b[1;32m   8211\u001b[0m             \u001b[0;32mif\u001b[0m \u001b[0mdefault\u001b[0m \u001b[0;32mis\u001b[0m \u001b[0mno_default\u001b[0m\u001b[0;34m:\u001b[0m\u001b[0;34m\u001b[0m\u001b[0;34m\u001b[0m\u001b[0m\n\u001b[0;32m-> 8212\u001b[0;31m                 \u001b[0;32mraise\u001b[0m\u001b[0;34m\u001b[0m\u001b[0;34m\u001b[0m\u001b[0m\n\u001b[0m\u001b[1;32m   8213\u001b[0m             \u001b[0;32mreturn\u001b[0m \u001b[0mdefault\u001b[0m\u001b[0;34m\u001b[0m\u001b[0;34m\u001b[0m\u001b[0m\n",
      "\u001b[0;31mColumnNotFoundError\u001b[0m: \"survived\" not found"
     ]
    }
   ],
   "source": [
    "oof_score = roc_auc_score(train.get_column(\"survived\"), oof)\n",
    "oof_score"
   ]
  },
  {
   "cell_type": "code",
   "execution_count": 28,
   "metadata": {},
   "outputs": [
    {
     "data": {
      "text/plain": [
       "<Axes: >"
      ]
     },
     "execution_count": 28,
     "metadata": {},
     "output_type": "execute_result"
    },
    {
     "data": {
      "image/png": "[encoded data removed]",
      "text/plain": [
       "<Figure size 640x480 with 1 Axes>"
      ]
     },
     "metadata": {},
     "output_type": "display_data"
    }
   ],
   "source": [
    "import pandas as pd\n",
    "\n",
    "feature_importances = [\n",
    "    model.feature_importance(importance_type=\"gain\") for _, model in models\n",
    "]\n",
    "feature_importances_df = pd.DataFrame(feature_importances, columns=USE_COL)\n",
    "\n",
    "order = feature_importances_df.mean().sort_values(ascending=False).index.tolist()\n",
    "\n",
    "sns.boxplot(data=feature_importances_df, orient=\"h\", order=order)"
   ]
  },
  {
   "cell_type": "code",
   "execution_count": 29,
   "metadata": {},
   "outputs": [],
   "source": [
    "pred = np.array([model.predict(test[USE_COL].to_pandas()) for _, model in models])\n",
    "pred = np.mean(pred, axis=0)\n",
    "pred = (pred > 0.5).astype(int)"
   ]
  },
  {
   "cell_type": "code",
   "execution_count": null,
   "metadata": {},
   "outputs": [],
   "source": []
  }
 ],
 "metadata": {
  "kernelspec": {
   "display_name": "base",
   "language": "python",
   "name": "python3"
  },
  "language_info": {
   "codemirror_mode": {
    "name": "ipython",
    "version": 3
   },
   "file_extension": ".py",
   "mimetype": "text/x-python",
   "name": "python",
   "nbconvert_exporter": "python",
   "pygments_lexer": "ipython3",
   "version": "3.10.15"
  }
 },
 "nbformat": 4,
 "nbformat_minor": 2
}
