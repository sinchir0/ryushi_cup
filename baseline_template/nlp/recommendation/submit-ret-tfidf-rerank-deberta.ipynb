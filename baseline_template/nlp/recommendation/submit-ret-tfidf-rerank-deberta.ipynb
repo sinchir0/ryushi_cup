{
 "cells": [
  {
   "cell_type": "markdown",
   "id": "e3ae844e",
   "metadata": {
    "papermill": {
     "duration": 0.00913,
     "end_time": "2024-09-16T02:11:08.701396",
     "exception": false,
     "start_time": "2024-09-16T02:11:08.692266",
     "status": "completed"
    },
    "tags": []
   },
   "source": [
    "# Overview\n",
    "I prepare 3 Notebook.\n",
    "\n",
    "1. [Train Tfidf Retriver](https://www.kaggle.com/code/sinchir0/retriever-tfidf-reranker-deberta-1-trn-ret) (Recall: 0.4530, CV:0.1378, LB:0.128)\n",
    "\n",
    "2. [Train DeBERTa Reranker](https://www.kaggle.com/code/sinchir0/retriever-tfidf-reranker-deberta-2-trn-rerank)(CV: 0.1616)\n",
    "\n",
    "3. Infer by Tfidf Retriver And DeBERTa Reranker(LB:0.169)  <- Now\n",
    "\n",
    "Submit Time: 65min\n",
    "\n",
    "Please let me know if there are any mistakes."
   ]
  },
  {
   "cell_type": "markdown",
   "id": "a47fe24c",
   "metadata": {
    "papermill": {
     "duration": 0.007994,
     "end_time": "2024-09-16T02:11:08.717827",
     "exception": false,
     "start_time": "2024-09-16T02:11:08.709833",
     "status": "completed"
    },
    "tags": []
   },
   "source": [
    "# Install"
   ]
  },
  {
   "cell_type": "code",
   "execution_count": 1,
   "id": "07bf5a7a",
   "metadata": {
    "execution": {
     "iopub.execute_input": "2024-09-16T02:11:08.736313Z",
     "iopub.status.busy": "2024-09-16T02:11:08.735523Z",
     "iopub.status.idle": "2024-09-16T02:11:16.961559Z",
     "shell.execute_reply": "2024-09-16T02:11:16.960369Z"
    },
    "papermill": {
     "duration": 8.237963,
     "end_time": "2024-09-16T02:11:16.964013",
     "exception": false,
     "start_time": "2024-09-16T02:11:08.726050",
     "status": "completed"
    },
    "tags": []
   },
   "outputs": [],
   "source": [
    "!pip uninstall -qq -y \\\n",
    "scikit-learn \\\n",
    "polars \\\n",
    "transformers \\\n",
    "accelerate \\\n",
    "datasets"
   ]
  },
  {
   "cell_type": "code",
   "execution_count": 2,
   "id": "aca51f5e",
   "metadata": {
    "execution": {
     "iopub.execute_input": "2024-09-16T02:11:16.982659Z",
     "iopub.status.busy": "2024-09-16T02:11:16.982317Z",
     "iopub.status.idle": "2024-09-16T02:11:54.772653Z",
     "shell.execute_reply": "2024-09-16T02:11:54.771698Z"
    },
    "papermill": {
     "duration": 37.802389,
     "end_time": "2024-09-16T02:11:54.775135",
     "exception": false,
     "start_time": "2024-09-16T02:11:16.972746",
     "status": "completed"
    },
    "tags": []
   },
   "outputs": [
    {
     "name": "stdout",
     "output_type": "stream",
     "text": [
      "\u001b[31mERROR: pip's dependency resolver does not currently take into account all the packages that are installed. This behaviour is the source of the following dependency conflicts.\r\n",
      "bigframes 0.22.0 requires google-cloud-bigquery[bqstorage,pandas]>=3.10.0, but you have google-cloud-bigquery 2.34.4 which is incompatible.\r\n",
      "bigframes 0.22.0 requires google-cloud-storage>=2.0.0, but you have google-cloud-storage 1.44.0 which is incompatible.\r\n",
      "bigframes 0.22.0 requires pandas<2.1.4,>=1.5.0, but you have pandas 2.2.2 which is incompatible.\r\n",
      "dataproc-jupyter-plugin 0.1.79 requires pydantic~=1.10.0, but you have pydantic 2.8.2 which is incompatible.\r\n",
      "spaghetti 1.7.6 requires shapely>=2.0.1, but you have shapely 1.8.5.post1 which is incompatible.\r\n",
      "spopt 0.6.1 requires shapely>=2.0.1, but you have shapely 1.8.5.post1 which is incompatible.\u001b[0m\u001b[31m\r\n",
      "\u001b[0m"
     ]
    }
   ],
   "source": [
    "!python -m pip install -qq --no-index --find-links=/kaggle/input/eedi-library \\\n",
    "scikit-learn \\\n",
    "polars \\\n",
    "transformers \\\n",
    "accelerate \\\n",
    "datasets"
   ]
  },
  {
   "cell_type": "markdown",
   "id": "3f771f3e",
   "metadata": {
    "papermill": {
     "duration": 0.008318,
     "end_time": "2024-09-16T02:11:54.792042",
     "exception": false,
     "start_time": "2024-09-16T02:11:54.783724",
     "status": "completed"
    },
    "tags": []
   },
   "source": [
    "# Setting"
   ]
  },
  {
   "cell_type": "code",
   "execution_count": 3,
   "id": "d127fcb9",
   "metadata": {
    "execution": {
     "iopub.execute_input": "2024-09-16T02:11:54.810973Z",
     "iopub.status.busy": "2024-09-16T02:11:54.810498Z",
     "iopub.status.idle": "2024-09-16T02:11:54.815590Z",
     "shell.execute_reply": "2024-09-16T02:11:54.814723Z"
    },
    "papermill": {
     "duration": 0.017028,
     "end_time": "2024-09-16T02:11:54.817690",
     "exception": false,
     "start_time": "2024-09-16T02:11:54.800662",
     "status": "completed"
    },
    "tags": []
   },
   "outputs": [],
   "source": [
    "RETRIEVE_NUM = 25\n",
    "EVAL_BS = 4\n",
    "INFERENCE_MAX_LENGTH = 256\n",
    "\n",
    "DATA_PATH = \"/kaggle/input/eedi-mining-misconceptions-in-mathematics\"\n",
    "RETRIEVER_PATH = \"/kaggle/input/retriever-tfidf-reranker-deberta-1-trn-ret\"\n",
    "RERANKER_PATH = \"/kaggle/input/e003-gr-ml256-deberta-v3-xsmall\""
   ]
  },
  {
   "cell_type": "markdown",
   "id": "8c71c895",
   "metadata": {
    "papermill": {
     "duration": 0.008053,
     "end_time": "2024-09-16T02:11:54.833993",
     "exception": false,
     "start_time": "2024-09-16T02:11:54.825940",
     "status": "completed"
    },
    "tags": []
   },
   "source": [
    "# Import"
   ]
  },
  {
   "cell_type": "code",
   "execution_count": 4,
   "id": "59d98093",
   "metadata": {
    "execution": {
     "iopub.execute_input": "2024-09-16T02:11:54.852639Z",
     "iopub.status.busy": "2024-09-16T02:11:54.852362Z",
     "iopub.status.idle": "2024-09-16T02:12:14.699547Z",
     "shell.execute_reply": "2024-09-16T02:12:14.698607Z"
    },
    "papermill": {
     "duration": 19.860438,
     "end_time": "2024-09-16T02:12:14.702570",
     "exception": false,
     "start_time": "2024-09-16T02:11:54.842132",
     "status": "completed"
    },
    "tags": []
   },
   "outputs": [],
   "source": [
    "import os\n",
    "import pickle\n",
    "\n",
    "from tqdm.auto import tqdm\n",
    "\n",
    "import numpy as np\n",
    "import polars as pl\n",
    "\n",
    "from sklearn.feature_extraction.text import TfidfVectorizer\n",
    "from sklearn.metrics.pairwise import cosine_similarity\n",
    "\n",
    "import torch\n",
    "from datasets import Dataset\n",
    "from scipy.special import softmax\n",
    "from transformers.data.data_collator import pad_without_fast_tokenizer_warning\n",
    "from transformers import (\n",
    "    AutoModelForSequenceClassification,\n",
    "    AutoTokenizer,\n",
    "    DataCollatorWithPadding,\n",
    "    Trainer,\n",
    "    TrainingArguments,\n",
    ")"
   ]
  },
  {
   "cell_type": "code",
   "execution_count": 5,
   "id": "6ecdcf06",
   "metadata": {
    "execution": {
     "iopub.execute_input": "2024-09-16T02:12:14.726224Z",
     "iopub.status.busy": "2024-09-16T02:12:14.725366Z",
     "iopub.status.idle": "2024-09-16T02:12:14.731542Z",
     "shell.execute_reply": "2024-09-16T02:12:14.730664Z"
    },
    "papermill": {
     "duration": 0.018876,
     "end_time": "2024-09-16T02:12:14.733918",
     "exception": false,
     "start_time": "2024-09-16T02:12:14.715042",
     "status": "completed"
    },
    "tags": []
   },
   "outputs": [],
   "source": [
    "NUM_PROC = os.cpu_count()"
   ]
  },
  {
   "cell_type": "code",
   "execution_count": 6,
   "id": "636e308d",
   "metadata": {
    "execution": {
     "iopub.execute_input": "2024-09-16T02:12:14.756319Z",
     "iopub.status.busy": "2024-09-16T02:12:14.755450Z",
     "iopub.status.idle": "2024-09-16T02:12:14.759841Z",
     "shell.execute_reply": "2024-09-16T02:12:14.758991Z"
    },
    "papermill": {
     "duration": 0.015879,
     "end_time": "2024-09-16T02:12:14.761816",
     "exception": false,
     "start_time": "2024-09-16T02:12:14.745937",
     "status": "completed"
    },
    "tags": []
   },
   "outputs": [],
   "source": [
    "device = torch.device(f\"cuda:0\")"
   ]
  },
  {
   "cell_type": "code",
   "execution_count": 7,
   "id": "48f127d5",
   "metadata": {
    "execution": {
     "iopub.execute_input": "2024-09-16T02:12:14.780105Z",
     "iopub.status.busy": "2024-09-16T02:12:14.779776Z",
     "iopub.status.idle": "2024-09-16T02:12:14.784656Z",
     "shell.execute_reply": "2024-09-16T02:12:14.783754Z"
    },
    "papermill": {
     "duration": 0.016335,
     "end_time": "2024-09-16T02:12:14.786640",
     "exception": false,
     "start_time": "2024-09-16T02:12:14.770305",
     "status": "completed"
    },
    "tags": []
   },
   "outputs": [],
   "source": [
    "import transformers\n",
    "import sklearn\n",
    "import datasets\n",
    "\n",
    "assert pl.__version__ == \"1.7.1\"\n",
    "assert transformers.__version__ == \"4.44.2\"\n",
    "assert sklearn.__version__ == \"1.5.2\"\n",
    "assert datasets.__version__ == \"3.0.0\""
   ]
  },
  {
   "cell_type": "markdown",
   "id": "4a35b762",
   "metadata": {
    "papermill": {
     "duration": 0.008479,
     "end_time": "2024-09-16T02:12:14.803943",
     "exception": false,
     "start_time": "2024-09-16T02:12:14.795464",
     "status": "completed"
    },
    "tags": []
   },
   "source": [
    "# Load"
   ]
  },
  {
   "cell_type": "code",
   "execution_count": 8,
   "id": "49af3d53",
   "metadata": {
    "_cell_guid": "b1076dfc-b9ad-4769-8c92-a6c4dae69d19",
    "_uuid": "8f2839f25d086af736a60e9eeb907d3b93b6e0e5",
    "execution": {
     "iopub.execute_input": "2024-09-16T02:12:14.822539Z",
     "iopub.status.busy": "2024-09-16T02:12:14.821785Z",
     "iopub.status.idle": "2024-09-16T02:12:15.277658Z",
     "shell.execute_reply": "2024-09-16T02:12:15.276627Z"
    },
    "papermill": {
     "duration": 0.467723,
     "end_time": "2024-09-16T02:12:15.279984",
     "exception": false,
     "start_time": "2024-09-16T02:12:14.812261",
     "status": "completed"
    },
    "tags": []
   },
   "outputs": [],
   "source": [
    "with open(f\"{RETRIEVER_PATH}/vectorizer.pkl\", \"rb\") as file:\n",
    "    vectorizer = pickle.load(file)\n",
    "    \n",
    "misconception_mapping_vec = np.load(f\"{RETRIEVER_PATH}/misconception_mapping_vec.npy\")"
   ]
  },
  {
   "cell_type": "markdown",
   "id": "3e086a03",
   "metadata": {
    "papermill": {
     "duration": 0.008243,
     "end_time": "2024-09-16T02:12:15.297000",
     "exception": false,
     "start_time": "2024-09-16T02:12:15.288757",
     "status": "completed"
    },
    "tags": []
   },
   "source": [
    "# Check Environment"
   ]
  },
  {
   "cell_type": "code",
   "execution_count": 9,
   "id": "e6baf89a",
   "metadata": {
    "execution": {
     "iopub.execute_input": "2024-09-16T02:12:15.315525Z",
     "iopub.status.busy": "2024-09-16T02:12:15.315149Z",
     "iopub.status.idle": "2024-09-16T02:12:16.320946Z",
     "shell.execute_reply": "2024-09-16T02:12:16.319873Z"
    },
    "papermill": {
     "duration": 1.017809,
     "end_time": "2024-09-16T02:12:16.323370",
     "exception": false,
     "start_time": "2024-09-16T02:12:15.305561",
     "status": "completed"
    },
    "tags": []
   },
   "outputs": [
    {
     "name": "stderr",
     "output_type": "stream",
     "text": [
      "/opt/conda/lib/python3.10/pty.py:89: RuntimeWarning: os.fork() was called. os.fork() is incompatible with multithreaded code, and JAX is multithreaded, so this will likely lead to a deadlock.\n",
      "  pid, fd = os.forkpty()\n"
     ]
    },
    {
     "name": "stdout",
     "output_type": "stream",
     "text": [
      "Python 3.10.14\r\n"
     ]
    }
   ],
   "source": [
    "!python --version"
   ]
  },
  {
   "cell_type": "code",
   "execution_count": 10,
   "id": "9588dca8",
   "metadata": {
    "execution": {
     "iopub.execute_input": "2024-09-16T02:12:16.342557Z",
     "iopub.status.busy": "2024-09-16T02:12:16.342172Z",
     "iopub.status.idle": "2024-09-16T02:12:17.387445Z",
     "shell.execute_reply": "2024-09-16T02:12:17.386403Z"
    },
    "papermill": {
     "duration": 1.057645,
     "end_time": "2024-09-16T02:12:17.389894",
     "exception": false,
     "start_time": "2024-09-16T02:12:16.332249",
     "status": "completed"
    },
    "tags": []
   },
   "outputs": [
    {
     "name": "stdout",
     "output_type": "stream",
     "text": [
      "Mon Sep 16 02:12:17 2024       \r\n",
      "+-----------------------------------------------------------------------------------------+\r\n",
      "| NVIDIA-SMI 550.90.07              Driver Version: 550.90.07      CUDA Version: 12.4     |\r\n",
      "|-----------------------------------------+------------------------+----------------------+\r\n",
      "| GPU  Name                 Persistence-M | Bus-Id          Disp.A | Volatile Uncorr. ECC |\r\n",
      "| Fan  Temp   Perf          Pwr:Usage/Cap |           Memory-Usage | GPU-Util  Compute M. |\r\n",
      "|                                         |                        |               MIG M. |\r\n",
      "|=========================================+========================+======================|\r\n",
      "|   0  Tesla P100-PCIE-16GB           Off |   00000000:00:04.0 Off |                    0 |\r\n",
      "| N/A   34C    P0             26W /  250W |       0MiB /  16384MiB |      0%      Default |\r\n",
      "|                                         |                        |                  N/A |\r\n",
      "+-----------------------------------------+------------------------+----------------------+\r\n",
      "                                                                                         \r\n",
      "+-----------------------------------------------------------------------------------------+\r\n",
      "| Processes:                                                                              |\r\n",
      "|  GPU   GI   CI        PID   Type   Process name                              GPU Memory |\r\n",
      "|        ID   ID                                                               Usage      |\r\n",
      "|=========================================================================================|\r\n",
      "|  No running processes found                                                             |\r\n",
      "+-----------------------------------------------------------------------------------------+\r\n"
     ]
    }
   ],
   "source": [
    "!nvidia-smi"
   ]
  },
  {
   "cell_type": "markdown",
   "id": "79bb171a",
   "metadata": {
    "papermill": {
     "duration": 0.008517,
     "end_time": "2024-09-16T02:12:17.407316",
     "exception": false,
     "start_time": "2024-09-16T02:12:17.398799",
     "status": "completed"
    },
    "tags": []
   },
   "source": [
    "# Preprocess Test"
   ]
  },
  {
   "cell_type": "code",
   "execution_count": 11,
   "id": "f5fe25c8",
   "metadata": {
    "execution": {
     "iopub.execute_input": "2024-09-16T02:12:17.426851Z",
     "iopub.status.busy": "2024-09-16T02:12:17.426416Z",
     "iopub.status.idle": "2024-09-16T02:12:17.461521Z",
     "shell.execute_reply": "2024-09-16T02:12:17.460522Z"
    },
    "papermill": {
     "duration": 0.047186,
     "end_time": "2024-09-16T02:12:17.463551",
     "exception": false,
     "start_time": "2024-09-16T02:12:17.416365",
     "status": "completed"
    },
    "tags": []
   },
   "outputs": [
    {
     "data": {
      "text/html": [
       "<div><style>\n",
       ".dataframe > thead > tr,\n",
       ".dataframe > tbody > tr {\n",
       "  text-align: right;\n",
       "  white-space: pre-wrap;\n",
       "}\n",
       "</style>\n",
       "<small>shape: (5, 10)</small><table border=\"1\" class=\"dataframe\"><thead><tr><th>QuestionId</th><th>ConstructName</th><th>SubjectName</th><th>QuestionText</th><th>CorrectAnswer</th><th>AnswerType</th><th>AnswerText</th><th>AllText</th><th>AnswerAlphabet</th><th>QuestionId_Answer</th></tr><tr><td>i64</td><td>str</td><td>str</td><td>str</td><td>str</td><td>str</td><td>str</td><td>str</td><td>str</td><td>str</td></tr></thead><tbody><tr><td>1869</td><td>&quot;Use the order of operations to…</td><td>&quot;BIDMAS&quot;</td><td>&quot;\\[\n",
       "3 \\times 2+4-5\n",
       "\\]\n",
       "Where do …</td><td>&quot;A&quot;</td><td>&quot;AnswerAText&quot;</td><td>&quot;\\( 3 \\times(2+4)-5 \\)&quot;</td><td>&quot;Use the order of operations to…</td><td>&quot;A&quot;</td><td>&quot;1869_A&quot;</td></tr><tr><td>1869</td><td>&quot;Use the order of operations to…</td><td>&quot;BIDMAS&quot;</td><td>&quot;\\[\n",
       "3 \\times 2+4-5\n",
       "\\]\n",
       "Where do …</td><td>&quot;A&quot;</td><td>&quot;AnswerBText&quot;</td><td>&quot;\\( 3 \\times 2+(4-5) \\)&quot;</td><td>&quot;Use the order of operations to…</td><td>&quot;B&quot;</td><td>&quot;1869_B&quot;</td></tr><tr><td>1869</td><td>&quot;Use the order of operations to…</td><td>&quot;BIDMAS&quot;</td><td>&quot;\\[\n",
       "3 \\times 2+4-5\n",
       "\\]\n",
       "Where do …</td><td>&quot;A&quot;</td><td>&quot;AnswerCText&quot;</td><td>&quot;\\( 3 \\times(2+4-5) \\)&quot;</td><td>&quot;Use the order of operations to…</td><td>&quot;C&quot;</td><td>&quot;1869_C&quot;</td></tr><tr><td>1869</td><td>&quot;Use the order of operations to…</td><td>&quot;BIDMAS&quot;</td><td>&quot;\\[\n",
       "3 \\times 2+4-5\n",
       "\\]\n",
       "Where do …</td><td>&quot;A&quot;</td><td>&quot;AnswerDText&quot;</td><td>&quot;Does not need brackets&quot;</td><td>&quot;Use the order of operations to…</td><td>&quot;D&quot;</td><td>&quot;1869_D&quot;</td></tr><tr><td>1870</td><td>&quot;Simplify an algebraic fraction…</td><td>&quot;Simplifying Algebraic Fraction…</td><td>&quot;Simplify the following, if pos…</td><td>&quot;D&quot;</td><td>&quot;AnswerAText&quot;</td><td>&quot;\\( m+1 \\)&quot;</td><td>&quot;Simplify an algebraic fraction…</td><td>&quot;A&quot;</td><td>&quot;1870_A&quot;</td></tr></tbody></table></div>"
      ],
      "text/plain": [
       "shape: (5, 10)\n",
       "┌───────────┬───────────┬───────────┬───────────┬───┬───────────┬───────────┬───────────┬──────────┐\n",
       "│ QuestionI ┆ Construct ┆ SubjectNa ┆ QuestionT ┆ … ┆ AnswerTex ┆ AllText   ┆ AnswerAlp ┆ Question │\n",
       "│ d         ┆ Name      ┆ me        ┆ ext       ┆   ┆ t         ┆ ---       ┆ habet     ┆ Id_Answe │\n",
       "│ ---       ┆ ---       ┆ ---       ┆ ---       ┆   ┆ ---       ┆ str       ┆ ---       ┆ r        │\n",
       "│ i64       ┆ str       ┆ str       ┆ str       ┆   ┆ str       ┆           ┆ str       ┆ ---      │\n",
       "│           ┆           ┆           ┆           ┆   ┆           ┆           ┆           ┆ str      │\n",
       "╞═══════════╪═══════════╪═══════════╪═══════════╪═══╪═══════════╪═══════════╪═══════════╪══════════╡\n",
       "│ 1869      ┆ Use the   ┆ BIDMAS    ┆ \\[        ┆ … ┆ \\( 3 \\tim ┆ Use the   ┆ A         ┆ 1869_A   │\n",
       "│           ┆ order of  ┆           ┆ 3 \\times  ┆   ┆ es(2+4)-5 ┆ order of  ┆           ┆          │\n",
       "│           ┆ operation ┆           ┆ 2+4-5     ┆   ┆ \\)        ┆ operation ┆           ┆          │\n",
       "│           ┆ s to…     ┆           ┆ \\]        ┆   ┆           ┆ s to…     ┆           ┆          │\n",
       "│           ┆           ┆           ┆ Where do  ┆   ┆           ┆           ┆           ┆          │\n",
       "│           ┆           ┆           ┆ …         ┆   ┆           ┆           ┆           ┆          │\n",
       "│ 1869      ┆ Use the   ┆ BIDMAS    ┆ \\[        ┆ … ┆ \\( 3      ┆ Use the   ┆ B         ┆ 1869_B   │\n",
       "│           ┆ order of  ┆           ┆ 3 \\times  ┆   ┆ \\times    ┆ order of  ┆           ┆          │\n",
       "│           ┆ operation ┆           ┆ 2+4-5     ┆   ┆ 2+(4-5)   ┆ operation ┆           ┆          │\n",
       "│           ┆ s to…     ┆           ┆ \\]        ┆   ┆ \\)        ┆ s to…     ┆           ┆          │\n",
       "│           ┆           ┆           ┆ Where do  ┆   ┆           ┆           ┆           ┆          │\n",
       "│           ┆           ┆           ┆ …         ┆   ┆           ┆           ┆           ┆          │\n",
       "│ 1869      ┆ Use the   ┆ BIDMAS    ┆ \\[        ┆ … ┆ \\( 3 \\tim ┆ Use the   ┆ C         ┆ 1869_C   │\n",
       "│           ┆ order of  ┆           ┆ 3 \\times  ┆   ┆ es(2+4-5) ┆ order of  ┆           ┆          │\n",
       "│           ┆ operation ┆           ┆ 2+4-5     ┆   ┆ \\)        ┆ operation ┆           ┆          │\n",
       "│           ┆ s to…     ┆           ┆ \\]        ┆   ┆           ┆ s to…     ┆           ┆          │\n",
       "│           ┆           ┆           ┆ Where do  ┆   ┆           ┆           ┆           ┆          │\n",
       "│           ┆           ┆           ┆ …         ┆   ┆           ┆           ┆           ┆          │\n",
       "│ 1869      ┆ Use the   ┆ BIDMAS    ┆ \\[        ┆ … ┆ Does not  ┆ Use the   ┆ D         ┆ 1869_D   │\n",
       "│           ┆ order of  ┆           ┆ 3 \\times  ┆   ┆ need      ┆ order of  ┆           ┆          │\n",
       "│           ┆ operation ┆           ┆ 2+4-5     ┆   ┆ brackets  ┆ operation ┆           ┆          │\n",
       "│           ┆ s to…     ┆           ┆ \\]        ┆   ┆           ┆ s to…     ┆           ┆          │\n",
       "│           ┆           ┆           ┆ Where do  ┆   ┆           ┆           ┆           ┆          │\n",
       "│           ┆           ┆           ┆ …         ┆   ┆           ┆           ┆           ┆          │\n",
       "│ 1870      ┆ Simplify  ┆ Simplifyi ┆ Simplify  ┆ … ┆ \\( m+1 \\) ┆ Simplify  ┆ A         ┆ 1870_A   │\n",
       "│           ┆ an        ┆ ng        ┆ the follo ┆   ┆           ┆ an        ┆           ┆          │\n",
       "│           ┆ algebraic ┆ Algebraic ┆ wing, if  ┆   ┆           ┆ algebraic ┆           ┆          │\n",
       "│           ┆ fraction… ┆ Fraction… ┆ pos…      ┆   ┆           ┆ fraction… ┆           ┆          │\n",
       "└───────────┴───────────┴───────────┴───────────┴───┴───────────┴───────────┴───────────┴──────────┘"
      ]
     },
     "execution_count": 11,
     "metadata": {},
     "output_type": "execute_result"
    }
   ],
   "source": [
    "common_col = [\n",
    "    \"QuestionId\",\n",
    "    \"ConstructName\",\n",
    "    \"SubjectName\",\n",
    "    \"QuestionText\",\n",
    "    \"CorrectAnswer\",\n",
    "]\n",
    "\n",
    "test_long = (\n",
    "    pl.read_csv(f\"{DATA_PATH}/test.csv\")\n",
    "    .select(\n",
    "        pl.col(common_col + [f\"Answer{alpha}Text\" for alpha in [\"A\", \"B\", \"C\", \"D\"]])\n",
    "    )\n",
    "    .unpivot(\n",
    "        index=common_col,\n",
    "        variable_name=\"AnswerType\",\n",
    "        value_name=\"AnswerText\",\n",
    "    )\n",
    "    .with_columns(\n",
    "        pl.concat_str(\n",
    "            [\n",
    "                pl.col(\"ConstructName\"),\n",
    "                pl.col(\"SubjectName\"),\n",
    "                pl.col(\"QuestionText\"),\n",
    "                pl.col(\"AnswerText\"),\n",
    "            ],\n",
    "            separator=\" \",\n",
    "        ).alias(\"AllText\"),\n",
    "        pl.col(\"AnswerType\").str.extract(r\"Answer([A-Z])Text$\").alias(\"AnswerAlphabet\"),\n",
    "    )\n",
    "    .with_columns(\n",
    "        pl.concat_str([pl.col(\"QuestionId\"), pl.col(\"AnswerAlphabet\")], separator=\"_\").alias(\"QuestionId_Answer\"),\n",
    "    )\n",
    "    .sort(\"QuestionId_Answer\")\n",
    ")\n",
    "test_long.head()"
   ]
  },
  {
   "cell_type": "markdown",
   "id": "91ad3633",
   "metadata": {
    "papermill": {
     "duration": 0.008948,
     "end_time": "2024-09-16T02:12:17.481768",
     "exception": false,
     "start_time": "2024-09-16T02:12:17.472820",
     "status": "completed"
    },
    "tags": []
   },
   "source": [
    "# Retrieval"
   ]
  },
  {
   "cell_type": "code",
   "execution_count": 12,
   "id": "896e498c",
   "metadata": {
    "execution": {
     "iopub.execute_input": "2024-09-16T02:12:17.501072Z",
     "iopub.status.busy": "2024-09-16T02:12:17.500676Z",
     "iopub.status.idle": "2024-09-16T02:12:17.617917Z",
     "shell.execute_reply": "2024-09-16T02:12:17.616927Z"
    },
    "papermill": {
     "duration": 0.12935,
     "end_time": "2024-09-16T02:12:17.619985",
     "exception": false,
     "start_time": "2024-09-16T02:12:17.490635",
     "status": "completed"
    },
    "tags": []
   },
   "outputs": [
    {
     "data": {
      "text/html": [
       "<div><style>\n",
       ".dataframe > thead > tr,\n",
       ".dataframe > tbody > tr {\n",
       "  text-align: right;\n",
       "  white-space: pre-wrap;\n",
       "}\n",
       "</style>\n",
       "<small>shape: (5, 11)</small><table border=\"1\" class=\"dataframe\"><thead><tr><th>QuestionId</th><th>ConstructName</th><th>SubjectName</th><th>QuestionText</th><th>CorrectAnswer</th><th>AnswerType</th><th>AnswerText</th><th>AllText</th><th>AnswerAlphabet</th><th>QuestionId_Answer</th><th>PredictMisconceptionId</th></tr><tr><td>i64</td><td>str</td><td>str</td><td>str</td><td>str</td><td>str</td><td>str</td><td>str</td><td>str</td><td>str</td><td>list[i64]</td></tr></thead><tbody><tr><td>1869</td><td>&quot;Use the order of operations to…</td><td>&quot;BIDMAS&quot;</td><td>&quot;\\[\n",
       "3 \\times 2+4-5\n",
       "\\]\n",
       "Where do …</td><td>&quot;A&quot;</td><td>&quot;AnswerAText&quot;</td><td>&quot;\\( 3 \\times(2+4)-5 \\)&quot;</td><td>&quot;Use the order of operations to…</td><td>&quot;A&quot;</td><td>&quot;1869_A&quot;</td><td>[2488, 2532, … 15]</td></tr><tr><td>1869</td><td>&quot;Use the order of operations to…</td><td>&quot;BIDMAS&quot;</td><td>&quot;\\[\n",
       "3 \\times 2+4-5\n",
       "\\]\n",
       "Where do …</td><td>&quot;A&quot;</td><td>&quot;AnswerBText&quot;</td><td>&quot;\\( 3 \\times 2+(4-5) \\)&quot;</td><td>&quot;Use the order of operations to…</td><td>&quot;B&quot;</td><td>&quot;1869_B&quot;</td><td>[2488, 2532, … 15]</td></tr><tr><td>1869</td><td>&quot;Use the order of operations to…</td><td>&quot;BIDMAS&quot;</td><td>&quot;\\[\n",
       "3 \\times 2+4-5\n",
       "\\]\n",
       "Where do …</td><td>&quot;A&quot;</td><td>&quot;AnswerCText&quot;</td><td>&quot;\\( 3 \\times(2+4-5) \\)&quot;</td><td>&quot;Use the order of operations to…</td><td>&quot;C&quot;</td><td>&quot;1869_C&quot;</td><td>[2488, 2532, … 15]</td></tr><tr><td>1869</td><td>&quot;Use the order of operations to…</td><td>&quot;BIDMAS&quot;</td><td>&quot;\\[\n",
       "3 \\times 2+4-5\n",
       "\\]\n",
       "Where do …</td><td>&quot;A&quot;</td><td>&quot;AnswerDText&quot;</td><td>&quot;Does not need brackets&quot;</td><td>&quot;Use the order of operations to…</td><td>&quot;D&quot;</td><td>&quot;1869_D&quot;</td><td>[2488, 2551, … 1756]</td></tr><tr><td>1870</td><td>&quot;Simplify an algebraic fraction…</td><td>&quot;Simplifying Algebraic Fraction…</td><td>&quot;Simplify the following, if pos…</td><td>&quot;D&quot;</td><td>&quot;AnswerAText&quot;</td><td>&quot;\\( m+1 \\)&quot;</td><td>&quot;Simplify an algebraic fraction…</td><td>&quot;A&quot;</td><td>&quot;1870_A&quot;</td><td>[1540, 979, … 419]</td></tr></tbody></table></div>"
      ],
      "text/plain": [
       "shape: (5, 11)\n",
       "┌───────────┬───────────┬───────────┬───────────┬───┬───────────┬───────────┬───────────┬──────────┐\n",
       "│ QuestionI ┆ Construct ┆ SubjectNa ┆ QuestionT ┆ … ┆ AllText   ┆ AnswerAlp ┆ QuestionI ┆ PredictM │\n",
       "│ d         ┆ Name      ┆ me        ┆ ext       ┆   ┆ ---       ┆ habet     ┆ d_Answer  ┆ isconcep │\n",
       "│ ---       ┆ ---       ┆ ---       ┆ ---       ┆   ┆ str       ┆ ---       ┆ ---       ┆ tionId   │\n",
       "│ i64       ┆ str       ┆ str       ┆ str       ┆   ┆           ┆ str       ┆ str       ┆ ---      │\n",
       "│           ┆           ┆           ┆           ┆   ┆           ┆           ┆           ┆ list[i64 │\n",
       "│           ┆           ┆           ┆           ┆   ┆           ┆           ┆           ┆ ]        │\n",
       "╞═══════════╪═══════════╪═══════════╪═══════════╪═══╪═══════════╪═══════════╪═══════════╪══════════╡\n",
       "│ 1869      ┆ Use the   ┆ BIDMAS    ┆ \\[        ┆ … ┆ Use the   ┆ A         ┆ 1869_A    ┆ [2488,   │\n",
       "│           ┆ order of  ┆           ┆ 3 \\times  ┆   ┆ order of  ┆           ┆           ┆ 2532, …  │\n",
       "│           ┆ operation ┆           ┆ 2+4-5     ┆   ┆ operation ┆           ┆           ┆ 15]      │\n",
       "│           ┆ s to…     ┆           ┆ \\]        ┆   ┆ s to…     ┆           ┆           ┆          │\n",
       "│           ┆           ┆           ┆ Where do  ┆   ┆           ┆           ┆           ┆          │\n",
       "│           ┆           ┆           ┆ …         ┆   ┆           ┆           ┆           ┆          │\n",
       "│ 1869      ┆ Use the   ┆ BIDMAS    ┆ \\[        ┆ … ┆ Use the   ┆ B         ┆ 1869_B    ┆ [2488,   │\n",
       "│           ┆ order of  ┆           ┆ 3 \\times  ┆   ┆ order of  ┆           ┆           ┆ 2532, …  │\n",
       "│           ┆ operation ┆           ┆ 2+4-5     ┆   ┆ operation ┆           ┆           ┆ 15]      │\n",
       "│           ┆ s to…     ┆           ┆ \\]        ┆   ┆ s to…     ┆           ┆           ┆          │\n",
       "│           ┆           ┆           ┆ Where do  ┆   ┆           ┆           ┆           ┆          │\n",
       "│           ┆           ┆           ┆ …         ┆   ┆           ┆           ┆           ┆          │\n",
       "│ 1869      ┆ Use the   ┆ BIDMAS    ┆ \\[        ┆ … ┆ Use the   ┆ C         ┆ 1869_C    ┆ [2488,   │\n",
       "│           ┆ order of  ┆           ┆ 3 \\times  ┆   ┆ order of  ┆           ┆           ┆ 2532, …  │\n",
       "│           ┆ operation ┆           ┆ 2+4-5     ┆   ┆ operation ┆           ┆           ┆ 15]      │\n",
       "│           ┆ s to…     ┆           ┆ \\]        ┆   ┆ s to…     ┆           ┆           ┆          │\n",
       "│           ┆           ┆           ┆ Where do  ┆   ┆           ┆           ┆           ┆          │\n",
       "│           ┆           ┆           ┆ …         ┆   ┆           ┆           ┆           ┆          │\n",
       "│ 1869      ┆ Use the   ┆ BIDMAS    ┆ \\[        ┆ … ┆ Use the   ┆ D         ┆ 1869_D    ┆ [2488,   │\n",
       "│           ┆ order of  ┆           ┆ 3 \\times  ┆   ┆ order of  ┆           ┆           ┆ 2551, …  │\n",
       "│           ┆ operation ┆           ┆ 2+4-5     ┆   ┆ operation ┆           ┆           ┆ 1756]    │\n",
       "│           ┆ s to…     ┆           ┆ \\]        ┆   ┆ s to…     ┆           ┆           ┆          │\n",
       "│           ┆           ┆           ┆ Where do  ┆   ┆           ┆           ┆           ┆          │\n",
       "│           ┆           ┆           ┆ …         ┆   ┆           ┆           ┆           ┆          │\n",
       "│ 1870      ┆ Simplify  ┆ Simplifyi ┆ Simplify  ┆ … ┆ Simplify  ┆ A         ┆ 1870_A    ┆ [1540,   │\n",
       "│           ┆ an        ┆ ng        ┆ the follo ┆   ┆ an        ┆           ┆           ┆ 979, …   │\n",
       "│           ┆ algebraic ┆ Algebraic ┆ wing, if  ┆   ┆ algebraic ┆           ┆           ┆ 419]     │\n",
       "│           ┆ fraction… ┆ Fraction… ┆ pos…      ┆   ┆ fraction… ┆           ┆           ┆          │\n",
       "└───────────┴───────────┴───────────┴───────────┴───┴───────────┴───────────┴───────────┴──────────┘"
      ]
     },
     "execution_count": 12,
     "metadata": {},
     "output_type": "execute_result"
    }
   ],
   "source": [
    "test_long_vec = vectorizer.transform(test_long[\"AllText\"])\n",
    "test_cos_sim_arr = cosine_similarity(test_long_vec, misconception_mapping_vec)\n",
    "test_sorted_indices = np.argsort(-test_cos_sim_arr, axis=1)\n",
    "\n",
    "test_long = test_long.with_columns(\n",
    "    pl.Series(test_sorted_indices[:, :RETRIEVE_NUM].tolist()).alias(\"PredictMisconceptionId\")\n",
    ")\n",
    "test_long.head()"
   ]
  },
  {
   "cell_type": "code",
   "execution_count": 13,
   "id": "df39d45d",
   "metadata": {
    "execution": {
     "iopub.execute_input": "2024-09-16T02:12:17.640285Z",
     "iopub.status.busy": "2024-09-16T02:12:17.639929Z",
     "iopub.status.idle": "2024-09-16T02:12:17.659795Z",
     "shell.execute_reply": "2024-09-16T02:12:17.658886Z"
    },
    "papermill": {
     "duration": 0.032186,
     "end_time": "2024-09-16T02:12:17.661712",
     "exception": false,
     "start_time": "2024-09-16T02:12:17.629526",
     "status": "completed"
    },
    "tags": []
   },
   "outputs": [
    {
     "data": {
      "text/html": [
       "<div><style>\n",
       ".dataframe > thead > tr,\n",
       ".dataframe > tbody > tr {\n",
       "  text-align: right;\n",
       "  white-space: pre-wrap;\n",
       "}\n",
       "</style>\n",
       "<small>shape: (10, 14)</small><table border=\"1\" class=\"dataframe\"><thead><tr><th>QuestionId</th><th>ConstructName</th><th>SubjectName</th><th>QuestionText</th><th>CorrectAnswer</th><th>AnswerType</th><th>AnswerText</th><th>AllText</th><th>AnswerAlphabet</th><th>QuestionId_Answer</th><th>PredictMisconceptionId</th><th>MisconceptionId</th><th>MisconceptionName</th><th>PredictMisconceptionName</th></tr><tr><td>i64</td><td>str</td><td>str</td><td>str</td><td>str</td><td>str</td><td>str</td><td>str</td><td>str</td><td>str</td><td>i64</td><td>i64</td><td>str</td><td>str</td></tr></thead><tbody><tr><td>1869</td><td>&quot;Use the order of operations to…</td><td>&quot;BIDMAS&quot;</td><td>&quot;\\[\n",
       "3 \\times 2+4-5\n",
       "\\]\n",
       "Where do …</td><td>&quot;A&quot;</td><td>&quot;AnswerAText&quot;</td><td>&quot;\\( 3 \\times(2+4)-5 \\)&quot;</td><td>&quot;Use the order of operations to…</td><td>&quot;A&quot;</td><td>&quot;1869_A&quot;</td><td>15</td><td>15</td><td>&quot;Confuses the order of operatio…</td><td>&quot;Confuses the order of operatio…</td></tr><tr><td>1869</td><td>&quot;Use the order of operations to…</td><td>&quot;BIDMAS&quot;</td><td>&quot;\\[\n",
       "3 \\times 2+4-5\n",
       "\\]\n",
       "Where do …</td><td>&quot;A&quot;</td><td>&quot;AnswerBText&quot;</td><td>&quot;\\( 3 \\times 2+(4-5) \\)&quot;</td><td>&quot;Use the order of operations to…</td><td>&quot;B&quot;</td><td>&quot;1869_B&quot;</td><td>15</td><td>15</td><td>&quot;Confuses the order of operatio…</td><td>&quot;Confuses the order of operatio…</td></tr><tr><td>1869</td><td>&quot;Use the order of operations to…</td><td>&quot;BIDMAS&quot;</td><td>&quot;\\[\n",
       "3 \\times 2+4-5\n",
       "\\]\n",
       "Where do …</td><td>&quot;A&quot;</td><td>&quot;AnswerCText&quot;</td><td>&quot;\\( 3 \\times(2+4-5) \\)&quot;</td><td>&quot;Use the order of operations to…</td><td>&quot;C&quot;</td><td>&quot;1869_C&quot;</td><td>15</td><td>15</td><td>&quot;Confuses the order of operatio…</td><td>&quot;Confuses the order of operatio…</td></tr><tr><td>1870</td><td>&quot;Simplify an algebraic fraction…</td><td>&quot;Simplifying Algebraic Fraction…</td><td>&quot;Simplify the following, if pos…</td><td>&quot;D&quot;</td><td>&quot;AnswerAText&quot;</td><td>&quot;\\( m+1 \\)&quot;</td><td>&quot;Simplify an algebraic fraction…</td><td>&quot;A&quot;</td><td>&quot;1870_A&quot;</td><td>29</td><td>29</td><td>&quot;Forgot to simplify the fractio…</td><td>&quot;Forgot to simplify the fractio…</td></tr><tr><td>1870</td><td>&quot;Simplify an algebraic fraction…</td><td>&quot;Simplifying Algebraic Fraction…</td><td>&quot;Simplify the following, if pos…</td><td>&quot;D&quot;</td><td>&quot;AnswerBText&quot;</td><td>&quot;\\( m+2 \\)&quot;</td><td>&quot;Simplify an algebraic fraction…</td><td>&quot;B&quot;</td><td>&quot;1870_B&quot;</td><td>29</td><td>29</td><td>&quot;Forgot to simplify the fractio…</td><td>&quot;Forgot to simplify the fractio…</td></tr><tr><td>1870</td><td>&quot;Simplify an algebraic fraction…</td><td>&quot;Simplifying Algebraic Fraction…</td><td>&quot;Simplify the following, if pos…</td><td>&quot;D&quot;</td><td>&quot;AnswerCText&quot;</td><td>&quot;\\( m-1 \\)&quot;</td><td>&quot;Simplify an algebraic fraction…</td><td>&quot;C&quot;</td><td>&quot;1870_C&quot;</td><td>29</td><td>29</td><td>&quot;Forgot to simplify the fractio…</td><td>&quot;Forgot to simplify the fractio…</td></tr><tr><td>1870</td><td>&quot;Simplify an algebraic fraction…</td><td>&quot;Simplifying Algebraic Fraction…</td><td>&quot;Simplify the following, if pos…</td><td>&quot;D&quot;</td><td>&quot;AnswerDText&quot;</td><td>&quot;Does not simplify&quot;</td><td>&quot;Simplify an algebraic fraction…</td><td>&quot;D&quot;</td><td>&quot;1870_D&quot;</td><td>29</td><td>29</td><td>&quot;Forgot to simplify the fractio…</td><td>&quot;Forgot to simplify the fractio…</td></tr><tr><td>1870</td><td>&quot;Simplify an algebraic fraction…</td><td>&quot;Simplifying Algebraic Fraction…</td><td>&quot;Simplify the following, if pos…</td><td>&quot;D&quot;</td><td>&quot;AnswerAText&quot;</td><td>&quot;\\( m+1 \\)&quot;</td><td>&quot;Simplify an algebraic fraction…</td><td>&quot;A&quot;</td><td>&quot;1870_A&quot;</td><td>59</td><td>59</td><td>&quot;Cannot identify a common facto…</td><td>&quot;Cannot identify a common facto…</td></tr><tr><td>1870</td><td>&quot;Simplify an algebraic fraction…</td><td>&quot;Simplifying Algebraic Fraction…</td><td>&quot;Simplify the following, if pos…</td><td>&quot;D&quot;</td><td>&quot;AnswerBText&quot;</td><td>&quot;\\( m+2 \\)&quot;</td><td>&quot;Simplify an algebraic fraction…</td><td>&quot;B&quot;</td><td>&quot;1870_B&quot;</td><td>59</td><td>59</td><td>&quot;Cannot identify a common facto…</td><td>&quot;Cannot identify a common facto…</td></tr><tr><td>1870</td><td>&quot;Simplify an algebraic fraction…</td><td>&quot;Simplifying Algebraic Fraction…</td><td>&quot;Simplify the following, if pos…</td><td>&quot;D&quot;</td><td>&quot;AnswerCText&quot;</td><td>&quot;\\( m-1 \\)&quot;</td><td>&quot;Simplify an algebraic fraction…</td><td>&quot;C&quot;</td><td>&quot;1870_C&quot;</td><td>59</td><td>59</td><td>&quot;Cannot identify a common facto…</td><td>&quot;Cannot identify a common facto…</td></tr></tbody></table></div>"
      ],
      "text/plain": [
       "shape: (10, 14)\n",
       "┌───────────┬───────────┬───────────┬───────────┬───┬───────────┬───────────┬───────────┬──────────┐\n",
       "│ QuestionI ┆ Construct ┆ SubjectNa ┆ QuestionT ┆ … ┆ PredictMi ┆ Misconcep ┆ Misconcep ┆ PredictM │\n",
       "│ d         ┆ Name      ┆ me        ┆ ext       ┆   ┆ sconcepti ┆ tionId    ┆ tionName  ┆ isconcep │\n",
       "│ ---       ┆ ---       ┆ ---       ┆ ---       ┆   ┆ onId      ┆ ---       ┆ ---       ┆ tionName │\n",
       "│ i64       ┆ str       ┆ str       ┆ str       ┆   ┆ ---       ┆ i64       ┆ str       ┆ ---      │\n",
       "│           ┆           ┆           ┆           ┆   ┆ i64       ┆           ┆           ┆ str      │\n",
       "╞═══════════╪═══════════╪═══════════╪═══════════╪═══╪═══════════╪═══════════╪═══════════╪══════════╡\n",
       "│ 1869      ┆ Use the   ┆ BIDMAS    ┆ \\[        ┆ … ┆ 15        ┆ 15        ┆ Confuses  ┆ Confuses │\n",
       "│           ┆ order of  ┆           ┆ 3 \\times  ┆   ┆           ┆           ┆ the order ┆ the      │\n",
       "│           ┆ operation ┆           ┆ 2+4-5     ┆   ┆           ┆           ┆ of        ┆ order of │\n",
       "│           ┆ s to…     ┆           ┆ \\]        ┆   ┆           ┆           ┆ operatio… ┆ operatio │\n",
       "│           ┆           ┆           ┆ Where do  ┆   ┆           ┆           ┆           ┆ …        │\n",
       "│           ┆           ┆           ┆ …         ┆   ┆           ┆           ┆           ┆          │\n",
       "│ 1869      ┆ Use the   ┆ BIDMAS    ┆ \\[        ┆ … ┆ 15        ┆ 15        ┆ Confuses  ┆ Confuses │\n",
       "│           ┆ order of  ┆           ┆ 3 \\times  ┆   ┆           ┆           ┆ the order ┆ the      │\n",
       "│           ┆ operation ┆           ┆ 2+4-5     ┆   ┆           ┆           ┆ of        ┆ order of │\n",
       "│           ┆ s to…     ┆           ┆ \\]        ┆   ┆           ┆           ┆ operatio… ┆ operatio │\n",
       "│           ┆           ┆           ┆ Where do  ┆   ┆           ┆           ┆           ┆ …        │\n",
       "│           ┆           ┆           ┆ …         ┆   ┆           ┆           ┆           ┆          │\n",
       "│ 1869      ┆ Use the   ┆ BIDMAS    ┆ \\[        ┆ … ┆ 15        ┆ 15        ┆ Confuses  ┆ Confuses │\n",
       "│           ┆ order of  ┆           ┆ 3 \\times  ┆   ┆           ┆           ┆ the order ┆ the      │\n",
       "│           ┆ operation ┆           ┆ 2+4-5     ┆   ┆           ┆           ┆ of        ┆ order of │\n",
       "│           ┆ s to…     ┆           ┆ \\]        ┆   ┆           ┆           ┆ operatio… ┆ operatio │\n",
       "│           ┆           ┆           ┆ Where do  ┆   ┆           ┆           ┆           ┆ …        │\n",
       "│           ┆           ┆           ┆ …         ┆   ┆           ┆           ┆           ┆          │\n",
       "│ 1870      ┆ Simplify  ┆ Simplifyi ┆ Simplify  ┆ … ┆ 29        ┆ 29        ┆ Forgot to ┆ Forgot   │\n",
       "│           ┆ an        ┆ ng        ┆ the follo ┆   ┆           ┆           ┆ simplify  ┆ to       │\n",
       "│           ┆ algebraic ┆ Algebraic ┆ wing, if  ┆   ┆           ┆           ┆ the       ┆ simplify │\n",
       "│           ┆ fraction… ┆ Fraction… ┆ pos…      ┆   ┆           ┆           ┆ fractio…  ┆ the      │\n",
       "│           ┆           ┆           ┆           ┆   ┆           ┆           ┆           ┆ fractio… │\n",
       "│ 1870      ┆ Simplify  ┆ Simplifyi ┆ Simplify  ┆ … ┆ 29        ┆ 29        ┆ Forgot to ┆ Forgot   │\n",
       "│           ┆ an        ┆ ng        ┆ the follo ┆   ┆           ┆           ┆ simplify  ┆ to       │\n",
       "│           ┆ algebraic ┆ Algebraic ┆ wing, if  ┆   ┆           ┆           ┆ the       ┆ simplify │\n",
       "│           ┆ fraction… ┆ Fraction… ┆ pos…      ┆   ┆           ┆           ┆ fractio…  ┆ the      │\n",
       "│           ┆           ┆           ┆           ┆   ┆           ┆           ┆           ┆ fractio… │\n",
       "│ 1870      ┆ Simplify  ┆ Simplifyi ┆ Simplify  ┆ … ┆ 29        ┆ 29        ┆ Forgot to ┆ Forgot   │\n",
       "│           ┆ an        ┆ ng        ┆ the follo ┆   ┆           ┆           ┆ simplify  ┆ to       │\n",
       "│           ┆ algebraic ┆ Algebraic ┆ wing, if  ┆   ┆           ┆           ┆ the       ┆ simplify │\n",
       "│           ┆ fraction… ┆ Fraction… ┆ pos…      ┆   ┆           ┆           ┆ fractio…  ┆ the      │\n",
       "│           ┆           ┆           ┆           ┆   ┆           ┆           ┆           ┆ fractio… │\n",
       "│ 1870      ┆ Simplify  ┆ Simplifyi ┆ Simplify  ┆ … ┆ 29        ┆ 29        ┆ Forgot to ┆ Forgot   │\n",
       "│           ┆ an        ┆ ng        ┆ the follo ┆   ┆           ┆           ┆ simplify  ┆ to       │\n",
       "│           ┆ algebraic ┆ Algebraic ┆ wing, if  ┆   ┆           ┆           ┆ the       ┆ simplify │\n",
       "│           ┆ fraction… ┆ Fraction… ┆ pos…      ┆   ┆           ┆           ┆ fractio…  ┆ the      │\n",
       "│           ┆           ┆           ┆           ┆   ┆           ┆           ┆           ┆ fractio… │\n",
       "│ 1870      ┆ Simplify  ┆ Simplifyi ┆ Simplify  ┆ … ┆ 59        ┆ 59        ┆ Cannot    ┆ Cannot   │\n",
       "│           ┆ an        ┆ ng        ┆ the follo ┆   ┆           ┆           ┆ identify  ┆ identify │\n",
       "│           ┆ algebraic ┆ Algebraic ┆ wing, if  ┆   ┆           ┆           ┆ a common  ┆ a common │\n",
       "│           ┆ fraction… ┆ Fraction… ┆ pos…      ┆   ┆           ┆           ┆ facto…    ┆ facto…   │\n",
       "│ 1870      ┆ Simplify  ┆ Simplifyi ┆ Simplify  ┆ … ┆ 59        ┆ 59        ┆ Cannot    ┆ Cannot   │\n",
       "│           ┆ an        ┆ ng        ┆ the follo ┆   ┆           ┆           ┆ identify  ┆ identify │\n",
       "│           ┆ algebraic ┆ Algebraic ┆ wing, if  ┆   ┆           ┆           ┆ a common  ┆ a common │\n",
       "│           ┆ fraction… ┆ Fraction… ┆ pos…      ┆   ┆           ┆           ┆ facto…    ┆ facto…   │\n",
       "│ 1870      ┆ Simplify  ┆ Simplifyi ┆ Simplify  ┆ … ┆ 59        ┆ 59        ┆ Cannot    ┆ Cannot   │\n",
       "│           ┆ an        ┆ ng        ┆ the follo ┆   ┆           ┆           ┆ identify  ┆ identify │\n",
       "│           ┆ algebraic ┆ Algebraic ┆ wing, if  ┆   ┆           ┆           ┆ a common  ┆ a common │\n",
       "│           ┆ fraction… ┆ Fraction… ┆ pos…      ┆   ┆           ┆           ┆ facto…    ┆ facto…   │\n",
       "└───────────┴───────────┴───────────┴───────────┴───┴───────────┴───────────┴───────────┴──────────┘"
      ]
     },
     "execution_count": 13,
     "metadata": {},
     "output_type": "execute_result"
    }
   ],
   "source": [
    "test = (\n",
    "    test_long\n",
    "    .explode(\"PredictMisconceptionId\")\n",
    "    .join(\n",
    "        pl.read_csv(f\"{DATA_PATH}/misconception_mapping.csv\").with_columns(pl.all().name.prefix(\"Predict\")),\n",
    "        on=\"PredictMisconceptionId\",\n",
    "    )\n",
    ")\n",
    "test.head(10)"
   ]
  },
  {
   "cell_type": "markdown",
   "id": "c0c6e518",
   "metadata": {
    "papermill": {
     "duration": 0.009514,
     "end_time": "2024-09-16T02:12:17.680900",
     "exception": false,
     "start_time": "2024-09-16T02:12:17.671386",
     "status": "completed"
    },
    "tags": []
   },
   "source": [
    "# Rerank"
   ]
  },
  {
   "cell_type": "code",
   "execution_count": 14,
   "id": "7b4dc873",
   "metadata": {
    "execution": {
     "iopub.execute_input": "2024-09-16T02:12:17.701804Z",
     "iopub.status.busy": "2024-09-16T02:12:17.701098Z",
     "iopub.status.idle": "2024-09-16T02:12:18.591012Z",
     "shell.execute_reply": "2024-09-16T02:12:18.590013Z"
    },
    "papermill": {
     "duration": 0.902996,
     "end_time": "2024-09-16T02:12:18.593387",
     "exception": false,
     "start_time": "2024-09-16T02:12:17.690391",
     "status": "completed"
    },
    "tags": []
   },
   "outputs": [],
   "source": [
    "tokenizer = AutoTokenizer.from_pretrained(RERANKER_PATH)\n",
    "model = AutoModelForSequenceClassification.from_pretrained(RERANKER_PATH)\n",
    "data_collator = DataCollatorWithPadding(tokenizer=tokenizer, pad_to_multiple_of=16)"
   ]
  },
  {
   "cell_type": "code",
   "execution_count": 15,
   "id": "a3d08d6f",
   "metadata": {
    "execution": {
     "iopub.execute_input": "2024-09-16T02:12:18.614840Z",
     "iopub.status.busy": "2024-09-16T02:12:18.614133Z",
     "iopub.status.idle": "2024-09-16T02:12:19.197015Z",
     "shell.execute_reply": "2024-09-16T02:12:19.196092Z"
    },
    "papermill": {
     "duration": 0.595899,
     "end_time": "2024-09-16T02:12:19.199295",
     "exception": false,
     "start_time": "2024-09-16T02:12:18.603396",
     "status": "completed"
    },
    "tags": []
   },
   "outputs": [
    {
     "name": "stderr",
     "output_type": "stream",
     "text": [
      "/opt/conda/lib/python3.10/site-packages/multiprocess/popen_fork.py:66: RuntimeWarning: os.fork() was called. os.fork() is incompatible with multithreaded code, and JAX is multithreaded, so this will likely lead to a deadlock.\n",
      "  self.pid = os.fork()\n"
     ]
    },
    {
     "data": {
      "application/vnd.jupyter.widget-view+json": {
       "model_id": "6875cd99bbc04757998fa9062bae47a6",
       "version_major": 2,
       "version_minor": 0
      },
      "text/plain": [
       "Map (num_proc=4):   0%|          | 0/300 [00:00<?, ? examples/s]"
      ]
     },
     "metadata": {},
     "output_type": "display_data"
    }
   ],
   "source": [
    "def tokenize(examples, max_token_length: int):\n",
    "    separator = \" [SEP] \"\n",
    "\n",
    "    joined_text = (\n",
    "        examples[\"ConstructName\"]\n",
    "        + separator\n",
    "        + examples[\"SubjectName\"]\n",
    "        + separator\n",
    "        + examples[\"QuestionText\"]\n",
    "        + separator\n",
    "        + examples[\"AnswerText\"]\n",
    "        + separator  # TODO: change special token\n",
    "        + examples[\"PredictMisconceptionName\"]\n",
    "    )\n",
    "\n",
    "    return tokenizer(\n",
    "        joined_text,\n",
    "        max_length=max_token_length,\n",
    "        truncation=True,\n",
    "        padding=False,\n",
    "    )\n",
    "\n",
    "\n",
    "test = Dataset.from_polars(test).map(\n",
    "    tokenize,\n",
    "    batched=False,\n",
    "    fn_kwargs={\"max_token_length\": INFERENCE_MAX_LENGTH},\n",
    "    num_proc=NUM_PROC,\n",
    ").to_polars()"
   ]
  },
  {
   "cell_type": "code",
   "execution_count": 16,
   "id": "46ae7a24",
   "metadata": {
    "execution": {
     "iopub.execute_input": "2024-09-16T02:12:19.220722Z",
     "iopub.status.busy": "2024-09-16T02:12:19.220361Z",
     "iopub.status.idle": "2024-09-16T02:12:19.225992Z",
     "shell.execute_reply": "2024-09-16T02:12:19.225278Z"
    },
    "papermill": {
     "duration": 0.018351,
     "end_time": "2024-09-16T02:12:19.227895",
     "exception": false,
     "start_time": "2024-09-16T02:12:19.209544",
     "status": "completed"
    },
    "tags": []
   },
   "outputs": [],
   "source": [
    "test = test.with_columns(\n",
    "    pl.col(\"input_ids\").list.len().alias(\"length\")\n",
    ").sort(\"length\")"
   ]
  },
  {
   "cell_type": "code",
   "execution_count": 17,
   "id": "5b08f8b0",
   "metadata": {
    "execution": {
     "iopub.execute_input": "2024-09-16T02:12:19.248332Z",
     "iopub.status.busy": "2024-09-16T02:12:19.248034Z",
     "iopub.status.idle": "2024-09-16T02:12:19.307396Z",
     "shell.execute_reply": "2024-09-16T02:12:19.306392Z"
    },
    "papermill": {
     "duration": 0.071948,
     "end_time": "2024-09-16T02:12:19.309409",
     "exception": false,
     "start_time": "2024-09-16T02:12:19.237461",
     "status": "completed"
    },
    "tags": []
   },
   "outputs": [],
   "source": [
    "@torch.inference_mode()\n",
    "@torch.amp.autocast(\"cuda\")\n",
    "def inference(\n",
    "    test: pl.DataFrame,\n",
    "    model,\n",
    "    device,\n",
    "    batch_size=EVAL_BS,\n",
    "    max_length=INFERENCE_MAX_LENGTH\n",
    "):\n",
    "    probabilities = []\n",
    "    \n",
    "    for i in tqdm(range(0, len(test), batch_size), total=len(test) // EVAL_BS):\n",
    "        batch = test[i:i + batch_size]  \n",
    "        input_ids = batch[\"input_ids\"].to_list()\n",
    "        attention_mask = batch[\"attention_mask\"].to_list()\n",
    "        inputs = pad_without_fast_tokenizer_warning(\n",
    "            tokenizer,\n",
    "            {\"input_ids\": input_ids, \"attention_mask\": attention_mask},\n",
    "            padding=\"longest\",\n",
    "            pad_to_multiple_of=None,\n",
    "            return_tensors=\"pt\",\n",
    "        )\n",
    "    \n",
    "        outputs = model(**inputs)\n",
    "        proba = softmax(outputs.logits.detach().numpy(), -1)\n",
    "        probabilities.extend(proba[:, 1])\n",
    "    \n",
    "    return (\n",
    "        test.with_columns(\n",
    "            pl.Series(probabilities).alias(\"pred_prob\")\n",
    "        )\n",
    "    )"
   ]
  },
  {
   "cell_type": "code",
   "execution_count": 18,
   "id": "d7381283",
   "metadata": {
    "execution": {
     "iopub.execute_input": "2024-09-16T02:12:19.329969Z",
     "iopub.status.busy": "2024-09-16T02:12:19.329625Z",
     "iopub.status.idle": "2024-09-16T02:12:37.824229Z",
     "shell.execute_reply": "2024-09-16T02:12:37.823243Z"
    },
    "papermill": {
     "duration": 18.507268,
     "end_time": "2024-09-16T02:12:37.826439",
     "exception": false,
     "start_time": "2024-09-16T02:12:19.319171",
     "status": "completed"
    },
    "tags": []
   },
   "outputs": [
    {
     "data": {
      "application/vnd.jupyter.widget-view+json": {
       "model_id": "a4f0d6431b1844ac82e9dfff5eae9fb1",
       "version_major": 2,
       "version_minor": 0
      },
      "text/plain": [
       "  0%|          | 0/75 [00:00<?, ?it/s]"
      ]
     },
     "metadata": {},
     "output_type": "display_data"
    }
   ],
   "source": [
    "results = inference(test, model, device)"
   ]
  },
  {
   "cell_type": "code",
   "execution_count": 19,
   "id": "1423fa0e",
   "metadata": {
    "execution": {
     "iopub.execute_input": "2024-09-16T02:12:37.851134Z",
     "iopub.status.busy": "2024-09-16T02:12:37.850298Z",
     "iopub.status.idle": "2024-09-16T02:12:37.859917Z",
     "shell.execute_reply": "2024-09-16T02:12:37.858945Z"
    },
    "papermill": {
     "duration": 0.022752,
     "end_time": "2024-09-16T02:12:37.861787",
     "exception": false,
     "start_time": "2024-09-16T02:12:37.839035",
     "status": "completed"
    },
    "tags": []
   },
   "outputs": [
    {
     "data": {
      "text/html": [
       "<div><style>\n",
       ".dataframe > thead > tr,\n",
       ".dataframe > tbody > tr {\n",
       "  text-align: right;\n",
       "  white-space: pre-wrap;\n",
       "}\n",
       "</style>\n",
       "<small>shape: (5, 19)</small><table border=\"1\" class=\"dataframe\"><thead><tr><th>QuestionId</th><th>ConstructName</th><th>SubjectName</th><th>QuestionText</th><th>CorrectAnswer</th><th>AnswerType</th><th>AnswerText</th><th>AllText</th><th>AnswerAlphabet</th><th>QuestionId_Answer</th><th>PredictMisconceptionId</th><th>MisconceptionId</th><th>MisconceptionName</th><th>PredictMisconceptionName</th><th>input_ids</th><th>token_type_ids</th><th>attention_mask</th><th>length</th><th>pred_prob</th></tr><tr><td>i64</td><td>str</td><td>str</td><td>str</td><td>str</td><td>str</td><td>str</td><td>str</td><td>str</td><td>str</td><td>i64</td><td>i64</td><td>str</td><td>str</td><td>list[i32]</td><td>list[i8]</td><td>list[i8]</td><td>u32</td><td>f32</td></tr></thead><tbody><tr><td>1870</td><td>&quot;Simplify an algebraic fraction…</td><td>&quot;Simplifying Algebraic Fraction…</td><td>&quot;Simplify the following, if pos…</td><td>&quot;D&quot;</td><td>&quot;AnswerDText&quot;</td><td>&quot;Does not simplify&quot;</td><td>&quot;Simplify an algebraic fraction…</td><td>&quot;D&quot;</td><td>&quot;1870_D&quot;</td><td>29</td><td>29</td><td>&quot;Forgot to simplify the fractio…</td><td>&quot;Forgot to simplify the fractio…</td><td>[1, 56341, … 2]</td><td>[0, 0, … 0]</td><td>[1, 1, … 1]</td><td>58</td><td>0.013615</td></tr><tr><td>1870</td><td>&quot;Simplify an algebraic fraction…</td><td>&quot;Simplifying Algebraic Fraction…</td><td>&quot;Simplify the following, if pos…</td><td>&quot;D&quot;</td><td>&quot;AnswerDText&quot;</td><td>&quot;Does not simplify&quot;</td><td>&quot;Simplify an algebraic fraction…</td><td>&quot;D&quot;</td><td>&quot;1870_D&quot;</td><td>1825</td><td>1825</td><td>&quot;Does not fully simplify fracti…</td><td>&quot;Does not fully simplify fracti…</td><td>[1, 56341, … 2]</td><td>[0, 0, … 0]</td><td>[1, 1, … 1]</td><td>58</td><td>0.011827</td></tr><tr><td>1870</td><td>&quot;Simplify an algebraic fraction…</td><td>&quot;Simplifying Algebraic Fraction…</td><td>&quot;Simplify the following, if pos…</td><td>&quot;D&quot;</td><td>&quot;AnswerDText&quot;</td><td>&quot;Does not simplify&quot;</td><td>&quot;Simplify an algebraic fraction…</td><td>&quot;D&quot;</td><td>&quot;1870_D&quot;</td><td>1918</td><td>1918</td><td>&quot;Does not fully simplify ratio&quot;</td><td>&quot;Does not fully simplify ratio&quot;</td><td>[1, 56341, … 2]</td><td>[0, 0, … 0]</td><td>[1, 1, … 1]</td><td>58</td><td>0.008678</td></tr><tr><td>1870</td><td>&quot;Simplify an algebraic fraction…</td><td>&quot;Simplifying Algebraic Fraction…</td><td>&quot;Simplify the following, if pos…</td><td>&quot;D&quot;</td><td>&quot;AnswerDText&quot;</td><td>&quot;Does not simplify&quot;</td><td>&quot;Simplify an algebraic fraction…</td><td>&quot;D&quot;</td><td>&quot;1870_D&quot;</td><td>634</td><td>634</td><td>&quot;Does not know the term numerat…</td><td>&quot;Does not know the term numerat…</td><td>[1, 56341, … 2]</td><td>[0, 0, … 0]</td><td>[1, 1, … 1]</td><td>59</td><td>0.009045</td></tr><tr><td>1870</td><td>&quot;Simplify an algebraic fraction…</td><td>&quot;Simplifying Algebraic Fraction…</td><td>&quot;Simplify the following, if pos…</td><td>&quot;D&quot;</td><td>&quot;AnswerDText&quot;</td><td>&quot;Does not simplify&quot;</td><td>&quot;Simplify an algebraic fraction…</td><td>&quot;D&quot;</td><td>&quot;1870_D&quot;</td><td>792</td><td>792</td><td>&quot;Expands when asked to simplify&quot;</td><td>&quot;Expands when asked to simplify&quot;</td><td>[1, 56341, … 2]</td><td>[0, 0, … 0]</td><td>[1, 1, … 1]</td><td>59</td><td>0.01169</td></tr></tbody></table></div>"
      ],
      "text/plain": [
       "shape: (5, 19)\n",
       "┌────────────┬────────────┬───────────┬───────────┬───┬───────────┬───────────┬────────┬───────────┐\n",
       "│ QuestionId ┆ ConstructN ┆ SubjectNa ┆ QuestionT ┆ … ┆ token_typ ┆ attention ┆ length ┆ pred_prob │\n",
       "│ ---        ┆ ame        ┆ me        ┆ ext       ┆   ┆ e_ids     ┆ _mask     ┆ ---    ┆ ---       │\n",
       "│ i64        ┆ ---        ┆ ---       ┆ ---       ┆   ┆ ---       ┆ ---       ┆ u32    ┆ f32       │\n",
       "│            ┆ str        ┆ str       ┆ str       ┆   ┆ list[i8]  ┆ list[i8]  ┆        ┆           │\n",
       "╞════════════╪════════════╪═══════════╪═══════════╪═══╪═══════════╪═══════════╪════════╪═══════════╡\n",
       "│ 1870       ┆ Simplify   ┆ Simplifyi ┆ Simplify  ┆ … ┆ [0, 0, …  ┆ [1, 1, …  ┆ 58     ┆ 0.013615  │\n",
       "│            ┆ an         ┆ ng        ┆ the follo ┆   ┆ 0]        ┆ 1]        ┆        ┆           │\n",
       "│            ┆ algebraic  ┆ Algebraic ┆ wing, if  ┆   ┆           ┆           ┆        ┆           │\n",
       "│            ┆ fraction…  ┆ Fraction… ┆ pos…      ┆   ┆           ┆           ┆        ┆           │\n",
       "│ 1870       ┆ Simplify   ┆ Simplifyi ┆ Simplify  ┆ … ┆ [0, 0, …  ┆ [1, 1, …  ┆ 58     ┆ 0.011827  │\n",
       "│            ┆ an         ┆ ng        ┆ the follo ┆   ┆ 0]        ┆ 1]        ┆        ┆           │\n",
       "│            ┆ algebraic  ┆ Algebraic ┆ wing, if  ┆   ┆           ┆           ┆        ┆           │\n",
       "│            ┆ fraction…  ┆ Fraction… ┆ pos…      ┆   ┆           ┆           ┆        ┆           │\n",
       "│ 1870       ┆ Simplify   ┆ Simplifyi ┆ Simplify  ┆ … ┆ [0, 0, …  ┆ [1, 1, …  ┆ 58     ┆ 0.008678  │\n",
       "│            ┆ an         ┆ ng        ┆ the follo ┆   ┆ 0]        ┆ 1]        ┆        ┆           │\n",
       "│            ┆ algebraic  ┆ Algebraic ┆ wing, if  ┆   ┆           ┆           ┆        ┆           │\n",
       "│            ┆ fraction…  ┆ Fraction… ┆ pos…      ┆   ┆           ┆           ┆        ┆           │\n",
       "│ 1870       ┆ Simplify   ┆ Simplifyi ┆ Simplify  ┆ … ┆ [0, 0, …  ┆ [1, 1, …  ┆ 59     ┆ 0.009045  │\n",
       "│            ┆ an         ┆ ng        ┆ the follo ┆   ┆ 0]        ┆ 1]        ┆        ┆           │\n",
       "│            ┆ algebraic  ┆ Algebraic ┆ wing, if  ┆   ┆           ┆           ┆        ┆           │\n",
       "│            ┆ fraction…  ┆ Fraction… ┆ pos…      ┆   ┆           ┆           ┆        ┆           │\n",
       "│ 1870       ┆ Simplify   ┆ Simplifyi ┆ Simplify  ┆ … ┆ [0, 0, …  ┆ [1, 1, …  ┆ 59     ┆ 0.01169   │\n",
       "│            ┆ an         ┆ ng        ┆ the follo ┆   ┆ 0]        ┆ 1]        ┆        ┆           │\n",
       "│            ┆ algebraic  ┆ Algebraic ┆ wing, if  ┆   ┆           ┆           ┆        ┆           │\n",
       "│            ┆ fraction…  ┆ Fraction… ┆ pos…      ┆   ┆           ┆           ┆        ┆           │\n",
       "└────────────┴────────────┴───────────┴───────────┴───┴───────────┴───────────┴────────┴───────────┘"
      ]
     },
     "execution_count": 19,
     "metadata": {},
     "output_type": "execute_result"
    }
   ],
   "source": [
    "results.head()"
   ]
  },
  {
   "cell_type": "code",
   "execution_count": 20,
   "id": "1cf33645",
   "metadata": {
    "execution": {
     "iopub.execute_input": "2024-09-16T02:12:37.883478Z",
     "iopub.status.busy": "2024-09-16T02:12:37.883143Z",
     "iopub.status.idle": "2024-09-16T02:12:37.889487Z",
     "shell.execute_reply": "2024-09-16T02:12:37.888702Z"
    },
    "papermill": {
     "duration": 0.019435,
     "end_time": "2024-09-16T02:12:37.891370",
     "exception": false,
     "start_time": "2024-09-16T02:12:37.871935",
     "status": "completed"
    },
    "tags": []
   },
   "outputs": [],
   "source": [
    "results = (\n",
    "    results.sort(by=[\"QuestionId_Answer\", \"pred_prob\"], descending=[False, True])\n",
    "    .group_by([\"QuestionId_Answer\"], maintain_order=True)\n",
    "    .agg(pl.col(\"PredictMisconceptionId\").alias(\"MisconceptionId\"))\n",
    ")"
   ]
  },
  {
   "cell_type": "markdown",
   "id": "6213d7a6",
   "metadata": {
    "papermill": {
     "duration": 0.01002,
     "end_time": "2024-09-16T02:12:37.911418",
     "exception": false,
     "start_time": "2024-09-16T02:12:37.901398",
     "status": "completed"
    },
    "tags": []
   },
   "source": [
    "# Make Submit File"
   ]
  },
  {
   "cell_type": "code",
   "execution_count": 21,
   "id": "49aea486",
   "metadata": {
    "execution": {
     "iopub.execute_input": "2024-09-16T02:12:37.933064Z",
     "iopub.status.busy": "2024-09-16T02:12:37.932740Z",
     "iopub.status.idle": "2024-09-16T02:12:37.944505Z",
     "shell.execute_reply": "2024-09-16T02:12:37.943708Z"
    },
    "papermill": {
     "duration": 0.024694,
     "end_time": "2024-09-16T02:12:37.946368",
     "exception": false,
     "start_time": "2024-09-16T02:12:37.921674",
     "status": "completed"
    },
    "tags": []
   },
   "outputs": [],
   "source": [
    "submission = (\n",
    "    test_long.join(\n",
    "        results,\n",
    "        on=[\"QuestionId_Answer\"],\n",
    "    ).with_columns(\n",
    "        pl.col(\"MisconceptionId\").map_elements(\n",
    "            lambda x: \" \".join(map(str, x)), return_dtype=pl.String\n",
    "        )\n",
    "    ).filter(\n",
    "        pl.col(\"CorrectAnswer\") != pl.col(\"AnswerAlphabet\")\n",
    "    ).select(\n",
    "        pl.col([\"QuestionId_Answer\", \"MisconceptionId\"])\n",
    "    ).sort(\"QuestionId_Answer\")\n",
    ")"
   ]
  },
  {
   "cell_type": "code",
   "execution_count": 22,
   "id": "c60d14e9",
   "metadata": {
    "execution": {
     "iopub.execute_input": "2024-09-16T02:12:37.968419Z",
     "iopub.status.busy": "2024-09-16T02:12:37.968101Z",
     "iopub.status.idle": "2024-09-16T02:12:37.974978Z",
     "shell.execute_reply": "2024-09-16T02:12:37.974059Z"
    },
    "papermill": {
     "duration": 0.019948,
     "end_time": "2024-09-16T02:12:37.976849",
     "exception": false,
     "start_time": "2024-09-16T02:12:37.956901",
     "status": "completed"
    },
    "tags": []
   },
   "outputs": [
    {
     "data": {
      "text/html": [
       "<div><style>\n",
       ".dataframe > thead > tr,\n",
       ".dataframe > tbody > tr {\n",
       "  text-align: right;\n",
       "  white-space: pre-wrap;\n",
       "}\n",
       "</style>\n",
       "<small>shape: (9, 2)</small><table border=\"1\" class=\"dataframe\"><thead><tr><th>QuestionId_Answer</th><th>MisconceptionId</th></tr><tr><td>str</td><td>str</td></tr></thead><tbody><tr><td>&quot;1869_B&quot;</td><td>&quot;2488 521 1005 2586 1507 706 25…</td></tr><tr><td>&quot;1869_C&quot;</td><td>&quot;2488 1005 521 2586 1507 706 25…</td></tr><tr><td>&quot;1869_D&quot;</td><td>&quot;2488 1005 2131 656 1392 256 25…</td></tr><tr><td>&quot;1870_A&quot;</td><td>&quot;606 363 1593 1540 59 29 1825 2…</td></tr><tr><td>&quot;1870_B&quot;</td><td>&quot;606 363 1540 1593 59 29 1825 2…</td></tr><tr><td>&quot;1870_C&quot;</td><td>&quot;606 363 1593 1540 59 29 1825 2…</td></tr><tr><td>&quot;1871_A&quot;</td><td>&quot;1349 2319 397 632 1059 365 216…</td></tr><tr><td>&quot;1871_C&quot;</td><td>&quot;1349 397 2319 632 1059 365 216…</td></tr><tr><td>&quot;1871_D&quot;</td><td>&quot;1349 397 2319 632 1059 365 216…</td></tr></tbody></table></div>"
      ],
      "text/plain": [
       "shape: (9, 2)\n",
       "┌───────────────────┬─────────────────────────────────┐\n",
       "│ QuestionId_Answer ┆ MisconceptionId                 │\n",
       "│ ---               ┆ ---                             │\n",
       "│ str               ┆ str                             │\n",
       "╞═══════════════════╪═════════════════════════════════╡\n",
       "│ 1869_B            ┆ 2488 521 1005 2586 1507 706 25… │\n",
       "│ 1869_C            ┆ 2488 1005 521 2586 1507 706 25… │\n",
       "│ 1869_D            ┆ 2488 1005 2131 656 1392 256 25… │\n",
       "│ 1870_A            ┆ 606 363 1593 1540 59 29 1825 2… │\n",
       "│ 1870_B            ┆ 606 363 1540 1593 59 29 1825 2… │\n",
       "│ 1870_C            ┆ 606 363 1593 1540 59 29 1825 2… │\n",
       "│ 1871_A            ┆ 1349 2319 397 632 1059 365 216… │\n",
       "│ 1871_C            ┆ 1349 397 2319 632 1059 365 216… │\n",
       "│ 1871_D            ┆ 1349 397 2319 632 1059 365 216… │\n",
       "└───────────────────┴─────────────────────────────────┘"
      ]
     },
     "execution_count": 22,
     "metadata": {},
     "output_type": "execute_result"
    }
   ],
   "source": [
    "submission.head(10)"
   ]
  },
  {
   "cell_type": "code",
   "execution_count": 23,
   "id": "31174605",
   "metadata": {
    "execution": {
     "iopub.execute_input": "2024-09-16T02:12:37.999335Z",
     "iopub.status.busy": "2024-09-16T02:12:37.998595Z",
     "iopub.status.idle": "2024-09-16T02:12:38.003289Z",
     "shell.execute_reply": "2024-09-16T02:12:38.002505Z"
    },
    "papermill": {
     "duration": 0.017966,
     "end_time": "2024-09-16T02:12:38.005214",
     "exception": false,
     "start_time": "2024-09-16T02:12:37.987248",
     "status": "completed"
    },
    "tags": []
   },
   "outputs": [],
   "source": [
    "submission.write_csv(\"submission.csv\")"
   ]
  },
  {
   "cell_type": "code",
   "execution_count": null,
   "id": "1d05509d",
   "metadata": {
    "papermill": {
     "duration": 0.010653,
     "end_time": "2024-09-16T02:12:38.026133",
     "exception": false,
     "start_time": "2024-09-16T02:12:38.015480",
     "status": "completed"
    },
    "tags": []
   },
   "outputs": [],
   "source": []
  }
 ],
 "metadata": {
  "kaggle": {
   "accelerator": "gpu",
   "dataSources": [
    {
     "databundleVersionId": 9551816,
     "sourceId": 82695,
     "sourceType": "competition"
    },
    {
     "datasetId": 5708447,
     "sourceId": 9403188,
     "sourceType": "datasetVersion"
    },
    {
     "sourceId": 196586185,
     "sourceType": "kernelVersion"
    },
    {
     "sourceId": 196818034,
     "sourceType": "kernelVersion"
    }
   ],
   "dockerImageVersionId": 30761,
   "isGpuEnabled": true,
   "isInternetEnabled": false,
   "language": "python",
   "sourceType": "notebook"
  },
  "kernelspec": {
   "display_name": "Python 3",
   "language": "python",
   "name": "python3"
  },
  "language_info": {
   "codemirror_mode": {
    "name": "ipython",
    "version": 3
   },
   "file_extension": ".py",
   "mimetype": "text/x-python",
   "name": "python",
   "nbconvert_exporter": "python",
   "pygments_lexer": "ipython3",
   "version": "3.10.14"
  },
  "papermill": {
   "default_parameters": {},
   "duration": 94.74589,
   "end_time": "2024-09-16T02:12:40.709569",
   "environment_variables": {},
   "exception": null,
   "input_path": "__notebook__.ipynb",
   "output_path": "__notebook__.ipynb",
   "parameters": {},
   "start_time": "2024-09-16T02:11:05.963679",
   "version": "2.6.0"
  },
  "widgets": {
   "application/vnd.jupyter.widget-state+json": {
    "state": {
     "06dae673c7944873b5f93c29386ba46a": {
      "model_module": "@jupyter-widgets/controls",
      "model_module_version": "1.5.0",
      "model_name": "HTMLModel",
      "state": {
       "_dom_classes": [],
       "_model_module": "@jupyter-widgets/controls",
       "_model_module_version": "1.5.0",
       "_model_name": "HTMLModel",
       "_view_count": null,
       "_view_module": "@jupyter-widgets/controls",
       "_view_module_version": "1.5.0",
       "_view_name": "HTMLView",
       "description": "",
       "description_tooltip": null,
       "layout": "IPY_MODEL_f3e62320ed884d33abb51a375237c18c",
       "placeholder": "​",
       "style": "IPY_MODEL_c7de92385784410f9bfd964e2be99639",
       "value": "100%"
      }
     },
     "1289c347e40f4b9ea74f19145d523196": {
      "model_module": "@jupyter-widgets/controls",
      "model_module_version": "1.5.0",
      "model_name": "HTMLModel",
      "state": {
       "_dom_classes": [],
       "_model_module": "@jupyter-widgets/controls",
       "_model_module_version": "1.5.0",
       "_model_name": "HTMLModel",
       "_view_count": null,
       "_view_module": "@jupyter-widgets/controls",
       "_view_module_version": "1.5.0",
       "_view_name": "HTMLView",
       "description": "",
       "description_tooltip": null,
       "layout": "IPY_MODEL_5530e81f814440dcaa96731d086ca5c2",
       "placeholder": "​",
       "style": "IPY_MODEL_ba23730c1bee48818b8c4e8aef0355d8",
       "value": " 75/75 [00:18&lt;00:00,  2.51it/s]"
      }
     },
     "2479e4ad93d94a11b9d56c72fbef24ea": {
      "model_module": "@jupyter-widgets/controls",
      "model_module_version": "1.5.0",
      "model_name": "ProgressStyleModel",
      "state": {
       "_model_module": "@jupyter-widgets/controls",
       "_model_module_version": "1.5.0",
       "_model_name": "ProgressStyleModel",
       "_view_count": null,
       "_view_module": "@jupyter-widgets/base",
       "_view_module_version": "1.2.0",
       "_view_name": "StyleView",
       "bar_color": null,
       "description_width": ""
      }
     },
     "5522b41a377545d49ec2afeae7d80f90": {
      "model_module": "@jupyter-widgets/controls",
      "model_module_version": "1.5.0",
      "model_name": "ProgressStyleModel",
      "state": {
       "_model_module": "@jupyter-widgets/controls",
       "_model_module_version": "1.5.0",
       "_model_name": "ProgressStyleModel",
       "_view_count": null,
       "_view_module": "@jupyter-widgets/base",
       "_view_module_version": "1.2.0",
       "_view_name": "StyleView",
       "bar_color": null,
       "description_width": ""
      }
     },
     "5530e81f814440dcaa96731d086ca5c2": {
      "model_module": "@jupyter-widgets/base",
      "model_module_version": "1.2.0",
      "model_name": "LayoutModel",
      "state": {
       "_model_module": "@jupyter-widgets/base",
       "_model_module_version": "1.2.0",
       "_model_name": "LayoutModel",
       "_view_count": null,
       "_view_module": "@jupyter-widgets/base",
       "_view_module_version": "1.2.0",
       "_view_name": "LayoutView",
       "align_content": null,
       "align_items": null,
       "align_self": null,
       "border": null,
       "bottom": null,
       "display": null,
       "flex": null,
       "flex_flow": null,
       "grid_area": null,
       "grid_auto_columns": null,
       "grid_auto_flow": null,
       "grid_auto_rows": null,
       "grid_column": null,
       "grid_gap": null,
       "grid_row": null,
       "grid_template_areas": null,
       "grid_template_columns": null,
       "grid_template_rows": null,
       "height": null,
       "justify_content": null,
       "justify_items": null,
       "left": null,
       "margin": null,
       "max_height": null,
       "max_width": null,
       "min_height": null,
       "min_width": null,
       "object_fit": null,
       "object_position": null,
       "order": null,
       "overflow": null,
       "overflow_x": null,
       "overflow_y": null,
       "padding": null,
       "right": null,
       "top": null,
       "visibility": null,
       "width": null
      }
     },
     "58edaffd02f5498b91ec991d58c5cbaa": {
      "model_module": "@jupyter-widgets/base",
      "model_module_version": "1.2.0",
      "model_name": "LayoutModel",
      "state": {
       "_model_module": "@jupyter-widgets/base",
       "_model_module_version": "1.2.0",
       "_model_name": "LayoutModel",
       "_view_count": null,
       "_view_module": "@jupyter-widgets/base",
       "_view_module_version": "1.2.0",
       "_view_name": "LayoutView",
       "align_content": null,
       "align_items": null,
       "align_self": null,
       "border": null,
       "bottom": null,
       "display": null,
       "flex": null,
       "flex_flow": null,
       "grid_area": null,
       "grid_auto_columns": null,
       "grid_auto_flow": null,
       "grid_auto_rows": null,
       "grid_column": null,
       "grid_gap": null,
       "grid_row": null,
       "grid_template_areas": null,
       "grid_template_columns": null,
       "grid_template_rows": null,
       "height": null,
       "justify_content": null,
       "justify_items": null,
       "left": null,
       "margin": null,
       "max_height": null,
       "max_width": null,
       "min_height": null,
       "min_width": null,
       "object_fit": null,
       "object_position": null,
       "order": null,
       "overflow": null,
       "overflow_x": null,
       "overflow_y": null,
       "padding": null,
       "right": null,
       "top": null,
       "visibility": null,
       "width": null
      }
     },
     "63edebfa28124808987be8d4e5ea4e0f": {
      "model_module": "@jupyter-widgets/base",
      "model_module_version": "1.2.0",
      "model_name": "LayoutModel",
      "state": {
       "_model_module": "@jupyter-widgets/base",
       "_model_module_version": "1.2.0",
       "_model_name": "LayoutModel",
       "_view_count": null,
       "_view_module": "@jupyter-widgets/base",
       "_view_module_version": "1.2.0",
       "_view_name": "LayoutView",
       "align_content": null,
       "align_items": null,
       "align_self": null,
       "border": null,
       "bottom": null,
       "display": null,
       "flex": null,
       "flex_flow": null,
       "grid_area": null,
       "grid_auto_columns": null,
       "grid_auto_flow": null,
       "grid_auto_rows": null,
       "grid_column": null,
       "grid_gap": null,
       "grid_row": null,
       "grid_template_areas": null,
       "grid_template_columns": null,
       "grid_template_rows": null,
       "height": null,
       "justify_content": null,
       "justify_items": null,
       "left": null,
       "margin": null,
       "max_height": null,
       "max_width": null,
       "min_height": null,
       "min_width": null,
       "object_fit": null,
       "object_position": null,
       "order": null,
       "overflow": null,
       "overflow_x": null,
       "overflow_y": null,
       "padding": null,
       "right": null,
       "top": null,
       "visibility": null,
       "width": null
      }
     },
     "6875cd99bbc04757998fa9062bae47a6": {
      "model_module": "@jupyter-widgets/controls",
      "model_module_version": "1.5.0",
      "model_name": "HBoxModel",
      "state": {
       "_dom_classes": [],
       "_model_module": "@jupyter-widgets/controls",
       "_model_module_version": "1.5.0",
       "_model_name": "HBoxModel",
       "_view_count": null,
       "_view_module": "@jupyter-widgets/controls",
       "_view_module_version": "1.5.0",
       "_view_name": "HBoxView",
       "box_style": "",
       "children": [
        "IPY_MODEL_d5051abafe8146ec890bd36ec4ee2c1e",
        "IPY_MODEL_e2cf5aaf60e34431bcfae5a186e0853d",
        "IPY_MODEL_ad3f2ecd64bd4a60aae57ce972bb4807"
       ],
       "layout": "IPY_MODEL_d048595fa02f43adbbd3bd43c2890138"
      }
     },
     "76a8957b3b33450a955ea6cdc31ee6cf": {
      "model_module": "@jupyter-widgets/base",
      "model_module_version": "1.2.0",
      "model_name": "LayoutModel",
      "state": {
       "_model_module": "@jupyter-widgets/base",
       "_model_module_version": "1.2.0",
       "_model_name": "LayoutModel",
       "_view_count": null,
       "_view_module": "@jupyter-widgets/base",
       "_view_module_version": "1.2.0",
       "_view_name": "LayoutView",
       "align_content": null,
       "align_items": null,
       "align_self": null,
       "border": null,
       "bottom": null,
       "display": null,
       "flex": null,
       "flex_flow": null,
       "grid_area": null,
       "grid_auto_columns": null,
       "grid_auto_flow": null,
       "grid_auto_rows": null,
       "grid_column": null,
       "grid_gap": null,
       "grid_row": null,
       "grid_template_areas": null,
       "grid_template_columns": null,
       "grid_template_rows": null,
       "height": null,
       "justify_content": null,
       "justify_items": null,
       "left": null,
       "margin": null,
       "max_height": null,
       "max_width": null,
       "min_height": null,
       "min_width": null,
       "object_fit": null,
       "object_position": null,
       "order": null,
       "overflow": null,
       "overflow_x": null,
       "overflow_y": null,
       "padding": null,
       "right": null,
       "top": null,
       "visibility": null,
       "width": null
      }
     },
     "7d1da88d53fd4046ba6572c331d641d0": {
      "model_module": "@jupyter-widgets/base",
      "model_module_version": "1.2.0",
      "model_name": "LayoutModel",
      "state": {
       "_model_module": "@jupyter-widgets/base",
       "_model_module_version": "1.2.0",
       "_model_name": "LayoutModel",
       "_view_count": null,
       "_view_module": "@jupyter-widgets/base",
       "_view_module_version": "1.2.0",
       "_view_name": "LayoutView",
       "align_content": null,
       "align_items": null,
       "align_self": null,
       "border": null,
       "bottom": null,
       "display": null,
       "flex": null,
       "flex_flow": null,
       "grid_area": null,
       "grid_auto_columns": null,
       "grid_auto_flow": null,
       "grid_auto_rows": null,
       "grid_column": null,
       "grid_gap": null,
       "grid_row": null,
       "grid_template_areas": null,
       "grid_template_columns": null,
       "grid_template_rows": null,
       "height": null,
       "justify_content": null,
       "justify_items": null,
       "left": null,
       "margin": null,
       "max_height": null,
       "max_width": null,
       "min_height": null,
       "min_width": null,
       "object_fit": null,
       "object_position": null,
       "order": null,
       "overflow": null,
       "overflow_x": null,
       "overflow_y": null,
       "padding": null,
       "right": null,
       "top": null,
       "visibility": null,
       "width": null
      }
     },
     "808b3b75ff4e40f589293aff2d50440e": {
      "model_module": "@jupyter-widgets/base",
      "model_module_version": "1.2.0",
      "model_name": "LayoutModel",
      "state": {
       "_model_module": "@jupyter-widgets/base",
       "_model_module_version": "1.2.0",
       "_model_name": "LayoutModel",
       "_view_count": null,
       "_view_module": "@jupyter-widgets/base",
       "_view_module_version": "1.2.0",
       "_view_name": "LayoutView",
       "align_content": null,
       "align_items": null,
       "align_self": null,
       "border": null,
       "bottom": null,
       "display": null,
       "flex": null,
       "flex_flow": null,
       "grid_area": null,
       "grid_auto_columns": null,
       "grid_auto_flow": null,
       "grid_auto_rows": null,
       "grid_column": null,
       "grid_gap": null,
       "grid_row": null,
       "grid_template_areas": null,
       "grid_template_columns": null,
       "grid_template_rows": null,
       "height": null,
       "justify_content": null,
       "justify_items": null,
       "left": null,
       "margin": null,
       "max_height": null,
       "max_width": null,
       "min_height": null,
       "min_width": null,
       "object_fit": null,
       "object_position": null,
       "order": null,
       "overflow": null,
       "overflow_x": null,
       "overflow_y": null,
       "padding": null,
       "right": null,
       "top": null,
       "visibility": null,
       "width": null
      }
     },
     "a4f0d6431b1844ac82e9dfff5eae9fb1": {
      "model_module": "@jupyter-widgets/controls",
      "model_module_version": "1.5.0",
      "model_name": "HBoxModel",
      "state": {
       "_dom_classes": [],
       "_model_module": "@jupyter-widgets/controls",
       "_model_module_version": "1.5.0",
       "_model_name": "HBoxModel",
       "_view_count": null,
       "_view_module": "@jupyter-widgets/controls",
       "_view_module_version": "1.5.0",
       "_view_name": "HBoxView",
       "box_style": "",
       "children": [
        "IPY_MODEL_06dae673c7944873b5f93c29386ba46a",
        "IPY_MODEL_e8481ae91d5943bca44338a7b9c00eeb",
        "IPY_MODEL_1289c347e40f4b9ea74f19145d523196"
       ],
       "layout": "IPY_MODEL_7d1da88d53fd4046ba6572c331d641d0"
      }
     },
     "ad3f2ecd64bd4a60aae57ce972bb4807": {
      "model_module": "@jupyter-widgets/controls",
      "model_module_version": "1.5.0",
      "model_name": "HTMLModel",
      "state": {
       "_dom_classes": [],
       "_model_module": "@jupyter-widgets/controls",
       "_model_module_version": "1.5.0",
       "_model_name": "HTMLModel",
       "_view_count": null,
       "_view_module": "@jupyter-widgets/controls",
       "_view_module_version": "1.5.0",
       "_view_name": "HTMLView",
       "description": "",
       "description_tooltip": null,
       "layout": "IPY_MODEL_63edebfa28124808987be8d4e5ea4e0f",
       "placeholder": "​",
       "style": "IPY_MODEL_f204ebb0621148a5977b25cd602f5e7f",
       "value": " 300/300 [00:00&lt;00:00, 1222.16 examples/s]"
      }
     },
     "ba23730c1bee48818b8c4e8aef0355d8": {
      "model_module": "@jupyter-widgets/controls",
      "model_module_version": "1.5.0",
      "model_name": "DescriptionStyleModel",
      "state": {
       "_model_module": "@jupyter-widgets/controls",
       "_model_module_version": "1.5.0",
       "_model_name": "DescriptionStyleModel",
       "_view_count": null,
       "_view_module": "@jupyter-widgets/base",
       "_view_module_version": "1.2.0",
       "_view_name": "StyleView",
       "description_width": ""
      }
     },
     "c7de92385784410f9bfd964e2be99639": {
      "model_module": "@jupyter-widgets/controls",
      "model_module_version": "1.5.0",
      "model_name": "DescriptionStyleModel",
      "state": {
       "_model_module": "@jupyter-widgets/controls",
       "_model_module_version": "1.5.0",
       "_model_name": "DescriptionStyleModel",
       "_view_count": null,
       "_view_module": "@jupyter-widgets/base",
       "_view_module_version": "1.2.0",
       "_view_name": "StyleView",
       "description_width": ""
      }
     },
     "d048595fa02f43adbbd3bd43c2890138": {
      "model_module": "@jupyter-widgets/base",
      "model_module_version": "1.2.0",
      "model_name": "LayoutModel",
      "state": {
       "_model_module": "@jupyter-widgets/base",
       "_model_module_version": "1.2.0",
       "_model_name": "LayoutModel",
       "_view_count": null,
       "_view_module": "@jupyter-widgets/base",
       "_view_module_version": "1.2.0",
       "_view_name": "LayoutView",
       "align_content": null,
       "align_items": null,
       "align_self": null,
       "border": null,
       "bottom": null,
       "display": null,
       "flex": null,
       "flex_flow": null,
       "grid_area": null,
       "grid_auto_columns": null,
       "grid_auto_flow": null,
       "grid_auto_rows": null,
       "grid_column": null,
       "grid_gap": null,
       "grid_row": null,
       "grid_template_areas": null,
       "grid_template_columns": null,
       "grid_template_rows": null,
       "height": null,
       "justify_content": null,
       "justify_items": null,
       "left": null,
       "margin": null,
       "max_height": null,
       "max_width": null,
       "min_height": null,
       "min_width": null,
       "object_fit": null,
       "object_position": null,
       "order": null,
       "overflow": null,
       "overflow_x": null,
       "overflow_y": null,
       "padding": null,
       "right": null,
       "top": null,
       "visibility": null,
       "width": null
      }
     },
     "d0f01be86c1744bab84ba68a5b63ce3d": {
      "model_module": "@jupyter-widgets/controls",
      "model_module_version": "1.5.0",
      "model_name": "DescriptionStyleModel",
      "state": {
       "_model_module": "@jupyter-widgets/controls",
       "_model_module_version": "1.5.0",
       "_model_name": "DescriptionStyleModel",
       "_view_count": null,
       "_view_module": "@jupyter-widgets/base",
       "_view_module_version": "1.2.0",
       "_view_name": "StyleView",
       "description_width": ""
      }
     },
     "d5051abafe8146ec890bd36ec4ee2c1e": {
      "model_module": "@jupyter-widgets/controls",
      "model_module_version": "1.5.0",
      "model_name": "HTMLModel",
      "state": {
       "_dom_classes": [],
       "_model_module": "@jupyter-widgets/controls",
       "_model_module_version": "1.5.0",
       "_model_name": "HTMLModel",
       "_view_count": null,
       "_view_module": "@jupyter-widgets/controls",
       "_view_module_version": "1.5.0",
       "_view_name": "HTMLView",
       "description": "",
       "description_tooltip": null,
       "layout": "IPY_MODEL_76a8957b3b33450a955ea6cdc31ee6cf",
       "placeholder": "​",
       "style": "IPY_MODEL_d0f01be86c1744bab84ba68a5b63ce3d",
       "value": "Map (num_proc=4): 100%"
      }
     },
     "e2cf5aaf60e34431bcfae5a186e0853d": {
      "model_module": "@jupyter-widgets/controls",
      "model_module_version": "1.5.0",
      "model_name": "FloatProgressModel",
      "state": {
       "_dom_classes": [],
       "_model_module": "@jupyter-widgets/controls",
       "_model_module_version": "1.5.0",
       "_model_name": "FloatProgressModel",
       "_view_count": null,
       "_view_module": "@jupyter-widgets/controls",
       "_view_module_version": "1.5.0",
       "_view_name": "ProgressView",
       "bar_style": "success",
       "description": "",
       "description_tooltip": null,
       "layout": "IPY_MODEL_808b3b75ff4e40f589293aff2d50440e",
       "max": 300,
       "min": 0,
       "orientation": "horizontal",
       "style": "IPY_MODEL_5522b41a377545d49ec2afeae7d80f90",
       "value": 300
      }
     },
     "e8481ae91d5943bca44338a7b9c00eeb": {
      "model_module": "@jupyter-widgets/controls",
      "model_module_version": "1.5.0",
      "model_name": "FloatProgressModel",
      "state": {
       "_dom_classes": [],
       "_model_module": "@jupyter-widgets/controls",
       "_model_module_version": "1.5.0",
       "_model_name": "FloatProgressModel",
       "_view_count": null,
       "_view_module": "@jupyter-widgets/controls",
       "_view_module_version": "1.5.0",
       "_view_name": "ProgressView",
       "bar_style": "success",
       "description": "",
       "description_tooltip": null,
       "layout": "IPY_MODEL_58edaffd02f5498b91ec991d58c5cbaa",
       "max": 75,
       "min": 0,
       "orientation": "horizontal",
       "style": "IPY_MODEL_2479e4ad93d94a11b9d56c72fbef24ea",
       "value": 75
      }
     },
     "f204ebb0621148a5977b25cd602f5e7f": {
      "model_module": "@jupyter-widgets/controls",
      "model_module_version": "1.5.0",
      "model_name": "DescriptionStyleModel",
      "state": {
       "_model_module": "@jupyter-widgets/controls",
       "_model_module_version": "1.5.0",
       "_model_name": "DescriptionStyleModel",
       "_view_count": null,
       "_view_module": "@jupyter-widgets/base",
       "_view_module_version": "1.2.0",
       "_view_name": "StyleView",
       "description_width": ""
      }
     },
     "f3e62320ed884d33abb51a375237c18c": {
      "model_module": "@jupyter-widgets/base",
      "model_module_version": "1.2.0",
      "model_name": "LayoutModel",
      "state": {
       "_model_module": "@jupyter-widgets/base",
       "_model_module_version": "1.2.0",
       "_model_name": "LayoutModel",
       "_view_count": null,
       "_view_module": "@jupyter-widgets/base",
       "_view_module_version": "1.2.0",
       "_view_name": "LayoutView",
       "align_content": null,
       "align_items": null,
       "align_self": null,
       "border": null,
       "bottom": null,
       "display": null,
       "flex": null,
       "flex_flow": null,
       "grid_area": null,
       "grid_auto_columns": null,
       "grid_auto_flow": null,
       "grid_auto_rows": null,
       "grid_column": null,
       "grid_gap": null,
       "grid_row": null,
       "grid_template_areas": null,
       "grid_template_columns": null,
       "grid_template_rows": null,
       "height": null,
       "justify_content": null,
       "justify_items": null,
       "left": null,
       "margin": null,
       "max_height": null,
       "max_width": null,
       "min_height": null,
       "min_width": null,
       "object_fit": null,
       "object_position": null,
       "order": null,
       "overflow": null,
       "overflow_x": null,
       "overflow_y": null,
       "padding": null,
       "right": null,
       "top": null,
       "visibility": null,
       "width": null
      }
     }
    },
    "version_major": 2,
    "version_minor": 0
   }
  }
 },
 "nbformat": 4,
 "nbformat_minor": 5
}
